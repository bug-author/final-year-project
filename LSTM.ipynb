{
 "cells": [
  {
   "cell_type": "markdown",
   "metadata": {},
   "source": [
    "# Baseline: LSTM Neural Network on real world data"
   ]
  },
  {
   "cell_type": "code",
   "execution_count": 1,
   "metadata": {
    "id": "R-7yL9A55id9"
   },
   "outputs": [
    {
     "name": "stderr",
     "output_type": "stream",
     "text": [
      "2021-12-22 18:19:47.135939: W tensorflow/stream_executor/platform/default/dso_loader.cc:64] Could not load dynamic library 'libcudart.so.11.0'; dlerror: libcudart.so.11.0: cannot open shared object file: No such file or directory\n",
      "2021-12-22 18:19:47.135993: I tensorflow/stream_executor/cuda/cudart_stub.cc:29] Ignore above cudart dlerror if you do not have a GPU set up on your machine.\n"
     ]
    }
   ],
   "source": [
    "import tensorflow.keras as keras\n",
    "import pandas as pd\n",
    "import numpy as np\n",
    "import matplotlib.pyplot as plt\n",
    "from sklearn.preprocessing import MinMaxScaler\n",
    "import seaborn as sns\n",
    "\n",
    "np.random.seed(1)\n",
    "\n",
    "sns.set_style(\"darkgrid\")"
   ]
  },
  {
   "cell_type": "code",
   "execution_count": 4,
   "metadata": {
    "id": "CGVGVQPe6E0u"
   },
   "outputs": [],
   "source": [
    "df = pd.read_csv('prepared_dataset.csv')"
   ]
  },
  {
   "cell_type": "markdown",
   "metadata": {
    "id": "JQBsdDApCSOH"
   },
   "source": [
    "## Exploring the dataset"
   ]
  },
  {
   "cell_type": "code",
   "execution_count": 5,
   "metadata": {
    "colab": {
     "base_uri": "https://localhost:8080/"
    },
    "id": "s3R88Y8x7HCZ",
    "outputId": "0f5905d9-3029-4dce-f3c8-fcab33d40482"
   },
   "outputs": [
    {
     "data": {
      "text/plain": [
       "(44031, 9)"
      ]
     },
     "execution_count": 5,
     "metadata": {},
     "output_type": "execute_result"
    }
   ],
   "source": [
    "df.shape"
   ]
  },
  {
   "cell_type": "code",
   "execution_count": 6,
   "metadata": {
    "colab": {
     "base_uri": "https://localhost:8080/",
     "height": 204
    },
    "id": "tHq2JijH7Ht2",
    "outputId": "88276dd9-e37d-4e1a-c909-1ba0a4b2772a"
   },
   "outputs": [
    {
     "data": {
      "text/html": [
       "<div>\n",
       "<style scoped>\n",
       "    .dataframe tbody tr th:only-of-type {\n",
       "        vertical-align: middle;\n",
       "    }\n",
       "\n",
       "    .dataframe tbody tr th {\n",
       "        vertical-align: top;\n",
       "    }\n",
       "\n",
       "    .dataframe thead th {\n",
       "        text-align: right;\n",
       "    }\n",
       "</style>\n",
       "<table border=\"1\" class=\"dataframe\">\n",
       "  <thead>\n",
       "    <tr style=\"text-align: right;\">\n",
       "      <th></th>\n",
       "      <th>0.0</th>\n",
       "      <th>0</th>\n",
       "      <th>0.1</th>\n",
       "      <th>10055.77</th>\n",
       "      <th>16858.29</th>\n",
       "      <th>166.07</th>\n",
       "      <th>5.1</th>\n",
       "      <th>0.0.1</th>\n",
       "      <th>288088612#0_0</th>\n",
       "    </tr>\n",
       "  </thead>\n",
       "  <tbody>\n",
       "    <tr>\n",
       "      <th>0</th>\n",
       "      <td>1.0</td>\n",
       "      <td>1</td>\n",
       "      <td>0</td>\n",
       "      <td>10056.35</td>\n",
       "      <td>16855.95</td>\n",
       "      <td>166.07</td>\n",
       "      <td>7.51</td>\n",
       "      <td>2.41</td>\n",
       "      <td>288088612#0_0</td>\n",
       "    </tr>\n",
       "    <tr>\n",
       "      <th>1</th>\n",
       "      <td>1.0</td>\n",
       "      <td>2</td>\n",
       "      <td>1</td>\n",
       "      <td>7268.33</td>\n",
       "      <td>13378.84</td>\n",
       "      <td>232.86</td>\n",
       "      <td>5.10</td>\n",
       "      <td>0.00</td>\n",
       "      <td>-347355524#0_0</td>\n",
       "    </tr>\n",
       "    <tr>\n",
       "      <th>2</th>\n",
       "      <td>2.0</td>\n",
       "      <td>3</td>\n",
       "      <td>0</td>\n",
       "      <td>10057.28</td>\n",
       "      <td>16852.19</td>\n",
       "      <td>166.07</td>\n",
       "      <td>11.39</td>\n",
       "      <td>3.87</td>\n",
       "      <td>288088612#0_0</td>\n",
       "    </tr>\n",
       "    <tr>\n",
       "      <th>3</th>\n",
       "      <td>2.0</td>\n",
       "      <td>4</td>\n",
       "      <td>1</td>\n",
       "      <td>7266.77</td>\n",
       "      <td>13377.66</td>\n",
       "      <td>232.86</td>\n",
       "      <td>7.06</td>\n",
       "      <td>1.96</td>\n",
       "      <td>-347355524#0_0</td>\n",
       "    </tr>\n",
       "    <tr>\n",
       "      <th>4</th>\n",
       "      <td>2.0</td>\n",
       "      <td>5</td>\n",
       "      <td>2</td>\n",
       "      <td>465.57</td>\n",
       "      <td>9993.49</td>\n",
       "      <td>53.04</td>\n",
       "      <td>5.10</td>\n",
       "      <td>0.00</td>\n",
       "      <td>347355524#0_0</td>\n",
       "    </tr>\n",
       "  </tbody>\n",
       "</table>\n",
       "</div>"
      ],
      "text/plain": [
       "   0.0  0  0.1  10055.77  16858.29  166.07    5.1  0.0.1   288088612#0_0\n",
       "0  1.0  1    0  10056.35  16855.95  166.07   7.51   2.41   288088612#0_0\n",
       "1  1.0  2    1   7268.33  13378.84  232.86   5.10   0.00  -347355524#0_0\n",
       "2  2.0  3    0  10057.28  16852.19  166.07  11.39   3.87   288088612#0_0\n",
       "3  2.0  4    1   7266.77  13377.66  232.86   7.06   1.96  -347355524#0_0\n",
       "4  2.0  5    2    465.57   9993.49   53.04   5.10   0.00   347355524#0_0"
      ]
     },
     "execution_count": 6,
     "metadata": {},
     "output_type": "execute_result"
    }
   ],
   "source": [
    "df.head()"
   ]
  },
  {
   "cell_type": "code",
   "execution_count": null,
   "metadata": {
    "colab": {
     "base_uri": "https://localhost:8080/",
     "height": 297
    },
    "id": "cEnSBPec7Wk3",
    "outputId": "7076f1dc-ca5c-4e56-e10d-85c88d1137a4"
   },
   "outputs": [],
   "source": [
    "df.describe()"
   ]
  },
  {
   "cell_type": "code",
   "execution_count": null,
   "metadata": {
    "colab": {
     "base_uri": "https://localhost:8080/"
    },
    "id": "lk07PVbS7ZFj",
    "outputId": "4f159379-66ea-4c6f-a950-6bc340fd1b4a"
   },
   "outputs": [],
   "source": [
    "df.count()"
   ]
  },
  {
   "cell_type": "code",
   "execution_count": null,
   "metadata": {
    "id": "uRX6I7Ng8fQy"
   },
   "outputs": [],
   "source": [
    "df.drop(columns=['Unnamed: 0'], inplace=True)"
   ]
  },
  {
   "cell_type": "code",
   "execution_count": null,
   "metadata": {
    "colab": {
     "base_uri": "https://localhost:8080/",
     "height": 204
    },
    "id": "qi_MhB-D-E5W",
    "outputId": "de675cee-9040-4a86-c9ac-aed5c19c6511"
   },
   "outputs": [],
   "source": [
    "df.head()"
   ]
  },
  {
   "cell_type": "code",
   "execution_count": null,
   "metadata": {
    "colab": {
     "base_uri": "https://localhost:8080/"
    },
    "id": "tYm-nrEp-GW6",
    "outputId": "c1bdc8c0-dfea-486c-bdf6-588531873990"
   },
   "outputs": [],
   "source": [
    "df['Car1'].unique()"
   ]
  },
  {
   "cell_type": "markdown",
   "metadata": {
    "id": "A470uN2Q_GN3"
   },
   "source": [
    "## Visualizing the dataset"
   ]
  },
  {
   "cell_type": "code",
   "execution_count": null,
   "metadata": {
    "id": "oaNuDL8H-xui"
   },
   "outputs": [],
   "source": [
    "cols = df.columns"
   ]
  },
  {
   "cell_type": "code",
   "execution_count": null,
   "metadata": {
    "id": "A9WSt3fm_OOE"
   },
   "outputs": [],
   "source": [
    "cols = list(cols)"
   ]
  },
  {
   "cell_type": "code",
   "execution_count": null,
   "metadata": {
    "colab": {
     "base_uri": "https://localhost:8080/"
    },
    "id": "bTAxPqteAxQP",
    "outputId": "28c9c3d5-27e7-4ef6-e6f3-950d50f00ad6"
   },
   "outputs": [],
   "source": [
    "cols"
   ]
  },
  {
   "cell_type": "code",
   "execution_count": null,
   "metadata": {
    "colab": {
     "base_uri": "https://localhost:8080/",
     "height": 1000
    },
    "id": "-DW9gtkQ_QSd",
    "outputId": "80f8d3f5-c212-4630-8e3f-8cddd0e12d29"
   },
   "outputs": [],
   "source": [
    "values = df.to_numpy()\n",
    "i = 1\n",
    "\n",
    "plt.figure(figsize=(25, 35), dpi=88)\n",
    "for col in cols:\n",
    "  plt.subplot(len(cols), 1, i)\n",
    "  plt.plot(values[:, cols.index(col)])\n",
    "  i+=1\n",
    "\n",
    "plt.show()"
   ]
  },
  {
   "cell_type": "code",
   "execution_count": null,
   "metadata": {
    "colab": {
     "base_uri": "https://localhost:8080/"
    },
    "id": "BR1ZO_jQ_w47",
    "outputId": "52e6a175-882f-483a-e62f-8cc0fe7d28b3"
   },
   "outputs": [],
   "source": [
    "values"
   ]
  },
  {
   "cell_type": "code",
   "execution_count": null,
   "metadata": {
    "colab": {
     "base_uri": "https://localhost:8080/"
    },
    "id": "5NFKRV4rAHB-",
    "outputId": "b77b5882-e556-4140-f2d1-40e9c359a6e6"
   },
   "outputs": [],
   "source": [
    "values[:]"
   ]
  },
  {
   "cell_type": "code",
   "execution_count": null,
   "metadata": {
    "colab": {
     "base_uri": "https://localhost:8080/"
    },
    "id": "jenB3jRwAJsU",
    "outputId": "a36d3c75-5e9d-4a0d-ac0d-0790a3dbda1f"
   },
   "outputs": [],
   "source": [
    "values.shape"
   ]
  },
  {
   "cell_type": "markdown",
   "metadata": {
    "id": "kBjy0tIyCjOG"
   },
   "source": [
    "## Preparing data for LSTM\n"
   ]
  },
  {
   "cell_type": "markdown",
   "metadata": {
    "id": "L85k9fYTmorZ"
   },
   "source": [
    "### Train Test Split"
   ]
  },
  {
   "cell_type": "code",
   "execution_count": null,
   "metadata": {
    "colab": {
     "base_uri": "https://localhost:8080/"
    },
    "id": "PGZI5C5vnCo_",
    "outputId": "49d79c73-ce08-4d28-ae24-96e82801d5bf"
   },
   "outputs": [],
   "source": [
    "df.shape"
   ]
  },
  {
   "cell_type": "code",
   "execution_count": null,
   "metadata": {
    "colab": {
     "base_uri": "https://localhost:8080/"
    },
    "id": "JWgW0W0isFOW",
    "outputId": "c191b0e9-8de3-4e4f-8f30-cc5fe7a2b56e"
   },
   "outputs": [],
   "source": [
    "0.9*5012"
   ]
  },
  {
   "cell_type": "code",
   "execution_count": null,
   "metadata": {
    "id": "4J6mJZPjss9l"
   },
   "outputs": [],
   "source": [
    "train_dataset = df.iloc[:4510]\n",
    "test_dataset = df.iloc[4510:]"
   ]
  },
  {
   "cell_type": "code",
   "execution_count": null,
   "metadata": {
    "colab": {
     "base_uri": "https://localhost:8080/"
    },
    "id": "rRQ185tGs3Mi",
    "outputId": "77afeba6-b9de-4c3e-afb0-1973a68a14cc"
   },
   "outputs": [],
   "source": [
    "train_dataset.shape"
   ]
  },
  {
   "cell_type": "code",
   "execution_count": null,
   "metadata": {
    "colab": {
     "base_uri": "https://localhost:8080/"
    },
    "id": "NO4Zm_7Ts5Jw",
    "outputId": "4bf04bba-aa37-40b6-81ac-80ff721db8bb"
   },
   "outputs": [],
   "source": [
    "test_dataset.shape"
   ]
  },
  {
   "cell_type": "markdown",
   "metadata": {
    "id": "9R6lHLh1nntC"
   },
   "source": [
    "### Normalize the newly generated datasets"
   ]
  },
  {
   "cell_type": "code",
   "execution_count": null,
   "metadata": {
    "id": "9XCLHEMBnuS6"
   },
   "outputs": [],
   "source": [
    "from sklearn.preprocessing import RobustScaler\n",
    "\n",
    "f_transformer = RobustScaler()\n",
    "\n",
    "f_transformer = f_transformer.fit(train_dataset.to_numpy())\n",
    "\n",
    "normalized_train_dataset = f_transformer.transform(train_dataset.to_numpy())\n",
    "normalized_test_dataset = f_transformer.transform(test_dataset.to_numpy())"
   ]
  },
  {
   "cell_type": "code",
   "execution_count": null,
   "metadata": {
    "colab": {
     "base_uri": "https://localhost:8080/"
    },
    "id": "JR7ywFsmpFUc",
    "outputId": "9baab446-b6ff-4d8e-dd7f-30c682903d13"
   },
   "outputs": [],
   "source": [
    "normalized_train_dataset.shape"
   ]
  },
  {
   "cell_type": "code",
   "execution_count": null,
   "metadata": {
    "colab": {
     "base_uri": "https://localhost:8080/"
    },
    "id": "Vry1UnUEpKzG",
    "outputId": "399480d1-3ecb-4cce-dc58-cbe00a739e97"
   },
   "outputs": [],
   "source": [
    "normalized_test_dataset.shape"
   ]
  },
  {
   "cell_type": "code",
   "execution_count": null,
   "metadata": {
    "id": "l4-o0VfwmzNT"
   },
   "outputs": [],
   "source": [
    "def create_dataset(data, steps):\n",
    "  features, labels = [], []\n",
    "  for i in range(len(data)-steps):\n",
    "    data_seq = data[i: i+steps, :]\n",
    "    features.append(data_seq)\n",
    "\n",
    "    seq_label = data[i+steps, :]\n",
    "    labels.append(seq_label)\n",
    "\n",
    "  return np.array(features), np.array(labels)"
   ]
  },
  {
   "cell_type": "code",
   "execution_count": null,
   "metadata": {
    "id": "8uuNezUDm36A"
   },
   "outputs": [],
   "source": [
    "TIME_STEPS = 15\n",
    "\n",
    "train_features, train_labels = create_dataset(normalized_train_dataset, TIME_STEPS)\n",
    "test_features, test_labels = create_dataset(normalized_test_dataset, TIME_STEPS)"
   ]
  },
  {
   "cell_type": "code",
   "execution_count": null,
   "metadata": {
    "colab": {
     "base_uri": "https://localhost:8080/"
    },
    "id": "7_uyVt5QpyiP",
    "outputId": "d0dcbaba-59a1-4357-d7a8-40619814643f"
   },
   "outputs": [],
   "source": [
    "print(train_features.shape, train_labels.shape)\n",
    "print(test_features.shape, test_labels.shape)"
   ]
  },
  {
   "cell_type": "markdown",
   "metadata": {
    "id": "czn9jkxat3N9"
   },
   "source": [
    "## Data should be in the shape of [samples, timesteps, n_features]"
   ]
  },
  {
   "cell_type": "markdown",
   "metadata": {
    "id": "rngATC6FunrI"
   },
   "source": [
    "## LSTM Model"
   ]
  },
  {
   "cell_type": "code",
   "execution_count": null,
   "metadata": {
    "id": "b-X-HCSUufRU"
   },
   "outputs": [],
   "source": [
    "model = keras.models.Sequential()\n",
    "model.add(\n",
    "    keras.layers.LSTM(\n",
    "          50, \n",
    "          input_shape=(train_features.shape[1], train_features.shape[2])\n",
    "        )\n",
    "    )\n",
    "model.add(keras.layers.Dense(9))\n",
    "\n",
    "model.compile(optimizer='adam', loss='mse')"
   ]
  },
  {
   "cell_type": "code",
   "execution_count": null,
   "metadata": {
    "colab": {
     "base_uri": "https://localhost:8080/"
    },
    "id": "p5w3pP5mw-WD",
    "outputId": "49b4de5e-fb1c-4bb3-840b-3866bdf1fa68"
   },
   "outputs": [],
   "source": [
    "model.summary()"
   ]
  },
  {
   "cell_type": "code",
   "execution_count": null,
   "metadata": {
    "colab": {
     "base_uri": "https://localhost:8080/"
    },
    "id": "7Tezl9gmxyPj",
    "outputId": "3fa23078-4949-40e0-eaa4-52b4abd05b7f"
   },
   "outputs": [],
   "source": [
    "history = model.fit(train_features, train_labels, batch_size=64, epochs=50, shuffle=False, validation_split=0.1)"
   ]
  },
  {
   "cell_type": "code",
   "execution_count": null,
   "metadata": {
    "colab": {
     "base_uri": "https://localhost:8080/",
     "height": 295
    },
    "id": "4qYaAr30ydco",
    "outputId": "87595490-26fd-4881-df90-c23a7fcbecf6"
   },
   "outputs": [],
   "source": [
    "plt.plot(history.history['loss'], label='Train')\n",
    "plt.plot(history.history['val_loss'], label='Validation')\n",
    "plt.title('Training Loss')\n",
    "plt.ylabel('Loss')\n",
    "plt.xlabel('Epochs')\n",
    "plt.legend()\n",
    "plt.show()"
   ]
  },
  {
   "cell_type": "code",
   "execution_count": null,
   "metadata": {
    "id": "zP9IUd8Ax_yW"
   },
   "outputs": [],
   "source": [
    "predictions = model.predict(test_features)"
   ]
  },
  {
   "cell_type": "code",
   "execution_count": null,
   "metadata": {
    "colab": {
     "base_uri": "https://localhost:8080/"
    },
    "id": "WW0uVU9xyRIV",
    "outputId": "4dcefc25-763c-4b60-d516-4366080f6062"
   },
   "outputs": [],
   "source": [
    "predictions.shape"
   ]
  },
  {
   "cell_type": "code",
   "execution_count": null,
   "metadata": {
    "colab": {
     "base_uri": "https://localhost:8080/"
    },
    "id": "c2rF97Vj3xl9",
    "outputId": "6c497a9b-24f8-49e0-e4a0-8103954fbf86"
   },
   "outputs": [],
   "source": [
    "test_labels.shape"
   ]
  },
  {
   "cell_type": "code",
   "execution_count": null,
   "metadata": {
    "colab": {
     "base_uri": "https://localhost:8080/",
     "height": 1000
    },
    "id": "yduyNOsp5S53",
    "outputId": "924f80e0-ff16-4a8e-a899-4c2d82ead66a"
   },
   "outputs": [],
   "source": [
    "i = 1\n",
    "\n",
    "plt.figure(figsize=(25, 35), dpi=88)\n",
    "\n",
    "for col in cols:\n",
    "  plt.title('Comparison between Actual and Predicted values')\n",
    "\n",
    "  plt.subplot(len(cols), 1, i)\n",
    "  plt.plot(test_labels[:, cols.index(col)], color='blue', label='Actual')\n",
    "  plt.plot(predictions[:, cols.index(col)], color='red', label='Predicted')\n",
    "  plt.legend()\n",
    "  i+=1\n",
    "\n",
    "plt.xlabel('Time')\n",
    "plt.show()"
   ]
  }
 ],
 "metadata": {
  "accelerator": "GPU",
  "colab": {
   "authorship_tag": "ABX9TyP7j1qYeLtf0eM+Cb4eruHv",
   "collapsed_sections": [],
   "include_colab_link": true,
   "name": "LSTM ver 2.0.ipynb",
   "provenance": []
  },
  "kernelspec": {
   "display_name": "Python 3 (ipykernel)",
   "language": "python",
   "name": "python3"
  },
  "language_info": {
   "codemirror_mode": {
    "name": "ipython",
    "version": 3
   },
   "file_extension": ".py",
   "mimetype": "text/x-python",
   "name": "python",
   "nbconvert_exporter": "python",
   "pygments_lexer": "ipython3",
   "version": "3.9.7"
  }
 },
 "nbformat": 4,
 "nbformat_minor": 1
}
