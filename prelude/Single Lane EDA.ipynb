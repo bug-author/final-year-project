{
 "cells": [
  {
   "cell_type": "code",
   "execution_count": 1,
   "id": "bb4b4a07",
   "metadata": {},
   "outputs": [],
   "source": [
    "import pandas as pd"
   ]
  },
  {
   "cell_type": "code",
   "execution_count": 2,
   "id": "26591295",
   "metadata": {},
   "outputs": [],
   "source": [
    "df = pd.read_csv('Sim_SingleLane.csv', sep=';')"
   ]
  },
  {
   "cell_type": "code",
   "execution_count": 3,
   "id": "23958a6a",
   "metadata": {},
   "outputs": [
    {
     "data": {
      "text/html": [
       "<div>\n",
       "<style scoped>\n",
       "    .dataframe tbody tr th:only-of-type {\n",
       "        vertical-align: middle;\n",
       "    }\n",
       "\n",
       "    .dataframe tbody tr th {\n",
       "        vertical-align: top;\n",
       "    }\n",
       "\n",
       "    .dataframe thead th {\n",
       "        text-align: right;\n",
       "    }\n",
       "</style>\n",
       "<table border=\"1\" class=\"dataframe\">\n",
       "  <thead>\n",
       "    <tr style=\"text-align: right;\">\n",
       "      <th></th>\n",
       "      <th>timestep_time</th>\n",
       "      <th>vehicle_angle</th>\n",
       "      <th>vehicle_id</th>\n",
       "      <th>vehicle_lane</th>\n",
       "      <th>vehicle_pos</th>\n",
       "      <th>vehicle_slope</th>\n",
       "      <th>vehicle_speed</th>\n",
       "      <th>vehicle_type</th>\n",
       "      <th>vehicle_x</th>\n",
       "      <th>vehicle_y</th>\n",
       "    </tr>\n",
       "  </thead>\n",
       "  <tbody>\n",
       "    <tr>\n",
       "      <th>0</th>\n",
       "      <td>0.0</td>\n",
       "      <td>270.01</td>\n",
       "      <td>flow_1.0</td>\n",
       "      <td>E0_0</td>\n",
       "      <td>5.10</td>\n",
       "      <td>0.0</td>\n",
       "      <td>0.00</td>\n",
       "      <td>DEFAULT_VEHTYPE</td>\n",
       "      <td>115.48</td>\n",
       "      <td>52.81</td>\n",
       "    </tr>\n",
       "    <tr>\n",
       "      <th>1</th>\n",
       "      <td>1.0</td>\n",
       "      <td>270.01</td>\n",
       "      <td>flow_1.0</td>\n",
       "      <td>E0_0</td>\n",
       "      <td>6.54</td>\n",
       "      <td>0.0</td>\n",
       "      <td>1.44</td>\n",
       "      <td>DEFAULT_VEHTYPE</td>\n",
       "      <td>114.04</td>\n",
       "      <td>52.81</td>\n",
       "    </tr>\n",
       "    <tr>\n",
       "      <th>2</th>\n",
       "      <td>2.0</td>\n",
       "      <td>270.01</td>\n",
       "      <td>flow_1.0</td>\n",
       "      <td>E0_0</td>\n",
       "      <td>9.66</td>\n",
       "      <td>0.0</td>\n",
       "      <td>3.12</td>\n",
       "      <td>DEFAULT_VEHTYPE</td>\n",
       "      <td>110.92</td>\n",
       "      <td>52.81</td>\n",
       "    </tr>\n",
       "    <tr>\n",
       "      <th>3</th>\n",
       "      <td>3.0</td>\n",
       "      <td>270.01</td>\n",
       "      <td>flow_0.0</td>\n",
       "      <td>E0_0</td>\n",
       "      <td>5.10</td>\n",
       "      <td>0.0</td>\n",
       "      <td>0.00</td>\n",
       "      <td>DEFAULT_VEHTYPE</td>\n",
       "      <td>115.48</td>\n",
       "      <td>52.81</td>\n",
       "    </tr>\n",
       "    <tr>\n",
       "      <th>4</th>\n",
       "      <td>3.0</td>\n",
       "      <td>270.01</td>\n",
       "      <td>flow_1.0</td>\n",
       "      <td>E0_0</td>\n",
       "      <td>15.31</td>\n",
       "      <td>0.0</td>\n",
       "      <td>5.66</td>\n",
       "      <td>DEFAULT_VEHTYPE</td>\n",
       "      <td>105.27</td>\n",
       "      <td>52.81</td>\n",
       "    </tr>\n",
       "  </tbody>\n",
       "</table>\n",
       "</div>"
      ],
      "text/plain": [
       "   timestep_time  vehicle_angle vehicle_id vehicle_lane  vehicle_pos  \\\n",
       "0            0.0         270.01   flow_1.0         E0_0         5.10   \n",
       "1            1.0         270.01   flow_1.0         E0_0         6.54   \n",
       "2            2.0         270.01   flow_1.0         E0_0         9.66   \n",
       "3            3.0         270.01   flow_0.0         E0_0         5.10   \n",
       "4            3.0         270.01   flow_1.0         E0_0        15.31   \n",
       "\n",
       "   vehicle_slope  vehicle_speed     vehicle_type  vehicle_x  vehicle_y  \n",
       "0            0.0           0.00  DEFAULT_VEHTYPE     115.48      52.81  \n",
       "1            0.0           1.44  DEFAULT_VEHTYPE     114.04      52.81  \n",
       "2            0.0           3.12  DEFAULT_VEHTYPE     110.92      52.81  \n",
       "3            0.0           0.00  DEFAULT_VEHTYPE     115.48      52.81  \n",
       "4            0.0           5.66  DEFAULT_VEHTYPE     105.27      52.81  "
      ]
     },
     "execution_count": 3,
     "metadata": {},
     "output_type": "execute_result"
    }
   ],
   "source": [
    "df.head()"
   ]
  },
  {
   "cell_type": "code",
   "execution_count": 4,
   "id": "9383ec9d",
   "metadata": {},
   "outputs": [
    {
     "data": {
      "text/plain": [
       "flow_1.556    244\n",
       "flow_0.530    243\n",
       "flow_0.531    242\n",
       "flow_1.557    241\n",
       "flow_0.532    240\n",
       "             ... \n",
       "flow_1.606     15\n",
       "flow_0.584     12\n",
       "flow_1.607      9\n",
       "flow_0.585      6\n",
       "flow_1.608      3\n",
       "Name: vehicle_id, Length: 1195, dtype: int64"
      ]
     },
     "execution_count": 4,
     "metadata": {},
     "output_type": "execute_result"
    }
   ],
   "source": [
    "df['vehicle_id'].value_counts()"
   ]
  },
  {
   "cell_type": "code",
   "execution_count": 5,
   "id": "bc65a17e",
   "metadata": {},
   "outputs": [
    {
     "data": {
      "text/plain": [
       "(225040, 10)"
      ]
     },
     "execution_count": 5,
     "metadata": {},
     "output_type": "execute_result"
    }
   ],
   "source": [
    "df.shape"
   ]
  },
  {
   "cell_type": "code",
   "execution_count": 6,
   "id": "6ff71a7b",
   "metadata": {},
   "outputs": [],
   "source": [
    "df.drop(columns='vehicle_type', axis=1, inplace=True)"
   ]
  },
  {
   "cell_type": "code",
   "execution_count": 7,
   "id": "e0f8449b",
   "metadata": {},
   "outputs": [
    {
     "data": {
      "text/html": [
       "<div>\n",
       "<style scoped>\n",
       "    .dataframe tbody tr th:only-of-type {\n",
       "        vertical-align: middle;\n",
       "    }\n",
       "\n",
       "    .dataframe tbody tr th {\n",
       "        vertical-align: top;\n",
       "    }\n",
       "\n",
       "    .dataframe thead th {\n",
       "        text-align: right;\n",
       "    }\n",
       "</style>\n",
       "<table border=\"1\" class=\"dataframe\">\n",
       "  <thead>\n",
       "    <tr style=\"text-align: right;\">\n",
       "      <th></th>\n",
       "      <th>timestep_time</th>\n",
       "      <th>vehicle_angle</th>\n",
       "      <th>vehicle_id</th>\n",
       "      <th>vehicle_lane</th>\n",
       "      <th>vehicle_pos</th>\n",
       "      <th>vehicle_slope</th>\n",
       "      <th>vehicle_speed</th>\n",
       "      <th>vehicle_x</th>\n",
       "      <th>vehicle_y</th>\n",
       "    </tr>\n",
       "  </thead>\n",
       "  <tbody>\n",
       "    <tr>\n",
       "      <th>0</th>\n",
       "      <td>0.0</td>\n",
       "      <td>270.01</td>\n",
       "      <td>flow_1.0</td>\n",
       "      <td>E0_0</td>\n",
       "      <td>5.10</td>\n",
       "      <td>0.0</td>\n",
       "      <td>0.00</td>\n",
       "      <td>115.48</td>\n",
       "      <td>52.81</td>\n",
       "    </tr>\n",
       "    <tr>\n",
       "      <th>1</th>\n",
       "      <td>1.0</td>\n",
       "      <td>270.01</td>\n",
       "      <td>flow_1.0</td>\n",
       "      <td>E0_0</td>\n",
       "      <td>6.54</td>\n",
       "      <td>0.0</td>\n",
       "      <td>1.44</td>\n",
       "      <td>114.04</td>\n",
       "      <td>52.81</td>\n",
       "    </tr>\n",
       "    <tr>\n",
       "      <th>2</th>\n",
       "      <td>2.0</td>\n",
       "      <td>270.01</td>\n",
       "      <td>flow_1.0</td>\n",
       "      <td>E0_0</td>\n",
       "      <td>9.66</td>\n",
       "      <td>0.0</td>\n",
       "      <td>3.12</td>\n",
       "      <td>110.92</td>\n",
       "      <td>52.81</td>\n",
       "    </tr>\n",
       "    <tr>\n",
       "      <th>3</th>\n",
       "      <td>3.0</td>\n",
       "      <td>270.01</td>\n",
       "      <td>flow_0.0</td>\n",
       "      <td>E0_0</td>\n",
       "      <td>5.10</td>\n",
       "      <td>0.0</td>\n",
       "      <td>0.00</td>\n",
       "      <td>115.48</td>\n",
       "      <td>52.81</td>\n",
       "    </tr>\n",
       "    <tr>\n",
       "      <th>4</th>\n",
       "      <td>3.0</td>\n",
       "      <td>270.01</td>\n",
       "      <td>flow_1.0</td>\n",
       "      <td>E0_0</td>\n",
       "      <td>15.31</td>\n",
       "      <td>0.0</td>\n",
       "      <td>5.66</td>\n",
       "      <td>105.27</td>\n",
       "      <td>52.81</td>\n",
       "    </tr>\n",
       "  </tbody>\n",
       "</table>\n",
       "</div>"
      ],
      "text/plain": [
       "   timestep_time  vehicle_angle vehicle_id vehicle_lane  vehicle_pos  \\\n",
       "0            0.0         270.01   flow_1.0         E0_0         5.10   \n",
       "1            1.0         270.01   flow_1.0         E0_0         6.54   \n",
       "2            2.0         270.01   flow_1.0         E0_0         9.66   \n",
       "3            3.0         270.01   flow_0.0         E0_0         5.10   \n",
       "4            3.0         270.01   flow_1.0         E0_0        15.31   \n",
       "\n",
       "   vehicle_slope  vehicle_speed  vehicle_x  vehicle_y  \n",
       "0            0.0           0.00     115.48      52.81  \n",
       "1            0.0           1.44     114.04      52.81  \n",
       "2            0.0           3.12     110.92      52.81  \n",
       "3            0.0           0.00     115.48      52.81  \n",
       "4            0.0           5.66     105.27      52.81  "
      ]
     },
     "execution_count": 7,
     "metadata": {},
     "output_type": "execute_result"
    }
   ],
   "source": [
    "df.head()"
   ]
  },
  {
   "cell_type": "code",
   "execution_count": 8,
   "id": "bcc8bdd4",
   "metadata": {},
   "outputs": [
    {
     "data": {
      "text/html": [
       "<div>\n",
       "<style scoped>\n",
       "    .dataframe tbody tr th:only-of-type {\n",
       "        vertical-align: middle;\n",
       "    }\n",
       "\n",
       "    .dataframe tbody tr th {\n",
       "        vertical-align: top;\n",
       "    }\n",
       "\n",
       "    .dataframe thead th {\n",
       "        text-align: right;\n",
       "    }\n",
       "</style>\n",
       "<table border=\"1\" class=\"dataframe\">\n",
       "  <thead>\n",
       "    <tr style=\"text-align: right;\">\n",
       "      <th></th>\n",
       "      <th>timestep_time</th>\n",
       "      <th>vehicle_angle</th>\n",
       "      <th>vehicle_id</th>\n",
       "      <th>vehicle_lane</th>\n",
       "      <th>vehicle_pos</th>\n",
       "      <th>vehicle_slope</th>\n",
       "      <th>vehicle_speed</th>\n",
       "      <th>vehicle_x</th>\n",
       "      <th>vehicle_y</th>\n",
       "    </tr>\n",
       "  </thead>\n",
       "  <tbody>\n",
       "    <tr>\n",
       "      <th>0</th>\n",
       "      <td>0.0</td>\n",
       "      <td>270.01</td>\n",
       "      <td>flow_1.0</td>\n",
       "      <td>E0_0</td>\n",
       "      <td>5.10</td>\n",
       "      <td>0.0</td>\n",
       "      <td>0.00</td>\n",
       "      <td>115.48</td>\n",
       "      <td>52.81</td>\n",
       "    </tr>\n",
       "    <tr>\n",
       "      <th>1</th>\n",
       "      <td>1.0</td>\n",
       "      <td>270.01</td>\n",
       "      <td>flow_1.0</td>\n",
       "      <td>E0_0</td>\n",
       "      <td>6.54</td>\n",
       "      <td>0.0</td>\n",
       "      <td>1.44</td>\n",
       "      <td>114.04</td>\n",
       "      <td>52.81</td>\n",
       "    </tr>\n",
       "    <tr>\n",
       "      <th>2</th>\n",
       "      <td>2.0</td>\n",
       "      <td>270.01</td>\n",
       "      <td>flow_1.0</td>\n",
       "      <td>E0_0</td>\n",
       "      <td>9.66</td>\n",
       "      <td>0.0</td>\n",
       "      <td>3.12</td>\n",
       "      <td>110.92</td>\n",
       "      <td>52.81</td>\n",
       "    </tr>\n",
       "    <tr>\n",
       "      <th>4</th>\n",
       "      <td>3.0</td>\n",
       "      <td>270.01</td>\n",
       "      <td>flow_1.0</td>\n",
       "      <td>E0_0</td>\n",
       "      <td>15.31</td>\n",
       "      <td>0.0</td>\n",
       "      <td>5.66</td>\n",
       "      <td>105.27</td>\n",
       "      <td>52.81</td>\n",
       "    </tr>\n",
       "    <tr>\n",
       "      <th>6</th>\n",
       "      <td>4.0</td>\n",
       "      <td>270.01</td>\n",
       "      <td>flow_1.0</td>\n",
       "      <td>E0_0</td>\n",
       "      <td>22.93</td>\n",
       "      <td>0.0</td>\n",
       "      <td>7.62</td>\n",
       "      <td>97.65</td>\n",
       "      <td>52.81</td>\n",
       "    </tr>\n",
       "    <tr>\n",
       "      <th>...</th>\n",
       "      <td>...</td>\n",
       "      <td>...</td>\n",
       "      <td>...</td>\n",
       "      <td>...</td>\n",
       "      <td>...</td>\n",
       "      <td>...</td>\n",
       "      <td>...</td>\n",
       "      <td>...</td>\n",
       "      <td>...</td>\n",
       "    </tr>\n",
       "    <tr>\n",
       "      <th>3801</th>\n",
       "      <td>149.0</td>\n",
       "      <td>270.01</td>\n",
       "      <td>flow_1.0</td>\n",
       "      <td>E0_0</td>\n",
       "      <td>2064.34</td>\n",
       "      <td>0.0</td>\n",
       "      <td>14.70</td>\n",
       "      <td>-1943.76</td>\n",
       "      <td>53.17</td>\n",
       "    </tr>\n",
       "    <tr>\n",
       "      <th>3851</th>\n",
       "      <td>150.0</td>\n",
       "      <td>270.01</td>\n",
       "      <td>flow_1.0</td>\n",
       "      <td>E0_0</td>\n",
       "      <td>2078.53</td>\n",
       "      <td>0.0</td>\n",
       "      <td>14.19</td>\n",
       "      <td>-1957.95</td>\n",
       "      <td>53.17</td>\n",
       "    </tr>\n",
       "    <tr>\n",
       "      <th>3902</th>\n",
       "      <td>151.0</td>\n",
       "      <td>270.01</td>\n",
       "      <td>flow_1.0</td>\n",
       "      <td>E0_0</td>\n",
       "      <td>2092.75</td>\n",
       "      <td>0.0</td>\n",
       "      <td>14.22</td>\n",
       "      <td>-1972.17</td>\n",
       "      <td>53.18</td>\n",
       "    </tr>\n",
       "    <tr>\n",
       "      <th>3953</th>\n",
       "      <td>152.0</td>\n",
       "      <td>270.01</td>\n",
       "      <td>flow_1.0</td>\n",
       "      <td>E0_0</td>\n",
       "      <td>2106.19</td>\n",
       "      <td>0.0</td>\n",
       "      <td>13.44</td>\n",
       "      <td>-1985.61</td>\n",
       "      <td>53.18</td>\n",
       "    </tr>\n",
       "    <tr>\n",
       "      <th>4005</th>\n",
       "      <td>153.0</td>\n",
       "      <td>270.01</td>\n",
       "      <td>flow_1.0</td>\n",
       "      <td>E0_0</td>\n",
       "      <td>2119.92</td>\n",
       "      <td>0.0</td>\n",
       "      <td>13.73</td>\n",
       "      <td>-1999.34</td>\n",
       "      <td>53.18</td>\n",
       "    </tr>\n",
       "  </tbody>\n",
       "</table>\n",
       "<p>154 rows × 9 columns</p>\n",
       "</div>"
      ],
      "text/plain": [
       "      timestep_time  vehicle_angle vehicle_id vehicle_lane  vehicle_pos  \\\n",
       "0               0.0         270.01   flow_1.0         E0_0         5.10   \n",
       "1               1.0         270.01   flow_1.0         E0_0         6.54   \n",
       "2               2.0         270.01   flow_1.0         E0_0         9.66   \n",
       "4               3.0         270.01   flow_1.0         E0_0        15.31   \n",
       "6               4.0         270.01   flow_1.0         E0_0        22.93   \n",
       "...             ...            ...        ...          ...          ...   \n",
       "3801          149.0         270.01   flow_1.0         E0_0      2064.34   \n",
       "3851          150.0         270.01   flow_1.0         E0_0      2078.53   \n",
       "3902          151.0         270.01   flow_1.0         E0_0      2092.75   \n",
       "3953          152.0         270.01   flow_1.0         E0_0      2106.19   \n",
       "4005          153.0         270.01   flow_1.0         E0_0      2119.92   \n",
       "\n",
       "      vehicle_slope  vehicle_speed  vehicle_x  vehicle_y  \n",
       "0               0.0           0.00     115.48      52.81  \n",
       "1               0.0           1.44     114.04      52.81  \n",
       "2               0.0           3.12     110.92      52.81  \n",
       "4               0.0           5.66     105.27      52.81  \n",
       "6               0.0           7.62      97.65      52.81  \n",
       "...             ...            ...        ...        ...  \n",
       "3801            0.0          14.70   -1943.76      53.17  \n",
       "3851            0.0          14.19   -1957.95      53.17  \n",
       "3902            0.0          14.22   -1972.17      53.18  \n",
       "3953            0.0          13.44   -1985.61      53.18  \n",
       "4005            0.0          13.73   -1999.34      53.18  \n",
       "\n",
       "[154 rows x 9 columns]"
      ]
     },
     "execution_count": 8,
     "metadata": {},
     "output_type": "execute_result"
    }
   ],
   "source": [
    "filt = df['vehicle_id'] == 'flow_1.0'\n",
    "df[filt] # 154 timesteps"
   ]
  },
  {
   "cell_type": "code",
   "execution_count": 9,
   "id": "50d7607e",
   "metadata": {},
   "outputs": [],
   "source": [
    "df.index = df.timestep_time"
   ]
  },
  {
   "cell_type": "code",
   "execution_count": 10,
   "id": "ef45b9f1",
   "metadata": {},
   "outputs": [
    {
     "data": {
      "text/html": [
       "<div>\n",
       "<style scoped>\n",
       "    .dataframe tbody tr th:only-of-type {\n",
       "        vertical-align: middle;\n",
       "    }\n",
       "\n",
       "    .dataframe tbody tr th {\n",
       "        vertical-align: top;\n",
       "    }\n",
       "\n",
       "    .dataframe thead th {\n",
       "        text-align: right;\n",
       "    }\n",
       "</style>\n",
       "<table border=\"1\" class=\"dataframe\">\n",
       "  <thead>\n",
       "    <tr style=\"text-align: right;\">\n",
       "      <th></th>\n",
       "      <th>timestep_time</th>\n",
       "      <th>vehicle_angle</th>\n",
       "      <th>vehicle_id</th>\n",
       "      <th>vehicle_lane</th>\n",
       "      <th>vehicle_pos</th>\n",
       "      <th>vehicle_slope</th>\n",
       "      <th>vehicle_speed</th>\n",
       "      <th>vehicle_x</th>\n",
       "      <th>vehicle_y</th>\n",
       "    </tr>\n",
       "    <tr>\n",
       "      <th>timestep_time</th>\n",
       "      <th></th>\n",
       "      <th></th>\n",
       "      <th></th>\n",
       "      <th></th>\n",
       "      <th></th>\n",
       "      <th></th>\n",
       "      <th></th>\n",
       "      <th></th>\n",
       "      <th></th>\n",
       "    </tr>\n",
       "  </thead>\n",
       "  <tbody>\n",
       "    <tr>\n",
       "      <th>0.0</th>\n",
       "      <td>0.0</td>\n",
       "      <td>270.01</td>\n",
       "      <td>flow_1.0</td>\n",
       "      <td>E0_0</td>\n",
       "      <td>5.10</td>\n",
       "      <td>0.0</td>\n",
       "      <td>0.00</td>\n",
       "      <td>115.48</td>\n",
       "      <td>52.81</td>\n",
       "    </tr>\n",
       "    <tr>\n",
       "      <th>1.0</th>\n",
       "      <td>1.0</td>\n",
       "      <td>270.01</td>\n",
       "      <td>flow_1.0</td>\n",
       "      <td>E0_0</td>\n",
       "      <td>6.54</td>\n",
       "      <td>0.0</td>\n",
       "      <td>1.44</td>\n",
       "      <td>114.04</td>\n",
       "      <td>52.81</td>\n",
       "    </tr>\n",
       "    <tr>\n",
       "      <th>2.0</th>\n",
       "      <td>2.0</td>\n",
       "      <td>270.01</td>\n",
       "      <td>flow_1.0</td>\n",
       "      <td>E0_0</td>\n",
       "      <td>9.66</td>\n",
       "      <td>0.0</td>\n",
       "      <td>3.12</td>\n",
       "      <td>110.92</td>\n",
       "      <td>52.81</td>\n",
       "    </tr>\n",
       "    <tr>\n",
       "      <th>3.0</th>\n",
       "      <td>3.0</td>\n",
       "      <td>270.01</td>\n",
       "      <td>flow_0.0</td>\n",
       "      <td>E0_0</td>\n",
       "      <td>5.10</td>\n",
       "      <td>0.0</td>\n",
       "      <td>0.00</td>\n",
       "      <td>115.48</td>\n",
       "      <td>52.81</td>\n",
       "    </tr>\n",
       "    <tr>\n",
       "      <th>3.0</th>\n",
       "      <td>3.0</td>\n",
       "      <td>270.01</td>\n",
       "      <td>flow_1.0</td>\n",
       "      <td>E0_0</td>\n",
       "      <td>15.31</td>\n",
       "      <td>0.0</td>\n",
       "      <td>5.66</td>\n",
       "      <td>105.27</td>\n",
       "      <td>52.81</td>\n",
       "    </tr>\n",
       "  </tbody>\n",
       "</table>\n",
       "</div>"
      ],
      "text/plain": [
       "               timestep_time  vehicle_angle vehicle_id vehicle_lane  \\\n",
       "timestep_time                                                         \n",
       "0.0                      0.0         270.01   flow_1.0         E0_0   \n",
       "1.0                      1.0         270.01   flow_1.0         E0_0   \n",
       "2.0                      2.0         270.01   flow_1.0         E0_0   \n",
       "3.0                      3.0         270.01   flow_0.0         E0_0   \n",
       "3.0                      3.0         270.01   flow_1.0         E0_0   \n",
       "\n",
       "               vehicle_pos  vehicle_slope  vehicle_speed  vehicle_x  vehicle_y  \n",
       "timestep_time                                                                   \n",
       "0.0                   5.10            0.0           0.00     115.48      52.81  \n",
       "1.0                   6.54            0.0           1.44     114.04      52.81  \n",
       "2.0                   9.66            0.0           3.12     110.92      52.81  \n",
       "3.0                   5.10            0.0           0.00     115.48      52.81  \n",
       "3.0                  15.31            0.0           5.66     105.27      52.81  "
      ]
     },
     "execution_count": 10,
     "metadata": {},
     "output_type": "execute_result"
    }
   ],
   "source": [
    "df.head()"
   ]
  },
  {
   "cell_type": "code",
   "execution_count": 11,
   "id": "c5ffe367",
   "metadata": {},
   "outputs": [],
   "source": [
    "df.drop(columns='timestep_time', axis=1, inplace=True)"
   ]
  },
  {
   "cell_type": "code",
   "execution_count": 12,
   "id": "39fca3bf",
   "metadata": {},
   "outputs": [
    {
     "data": {
      "text/html": [
       "<div>\n",
       "<style scoped>\n",
       "    .dataframe tbody tr th:only-of-type {\n",
       "        vertical-align: middle;\n",
       "    }\n",
       "\n",
       "    .dataframe tbody tr th {\n",
       "        vertical-align: top;\n",
       "    }\n",
       "\n",
       "    .dataframe thead th {\n",
       "        text-align: right;\n",
       "    }\n",
       "</style>\n",
       "<table border=\"1\" class=\"dataframe\">\n",
       "  <thead>\n",
       "    <tr style=\"text-align: right;\">\n",
       "      <th></th>\n",
       "      <th>vehicle_angle</th>\n",
       "      <th>vehicle_id</th>\n",
       "      <th>vehicle_lane</th>\n",
       "      <th>vehicle_pos</th>\n",
       "      <th>vehicle_slope</th>\n",
       "      <th>vehicle_speed</th>\n",
       "      <th>vehicle_x</th>\n",
       "      <th>vehicle_y</th>\n",
       "    </tr>\n",
       "    <tr>\n",
       "      <th>timestep_time</th>\n",
       "      <th></th>\n",
       "      <th></th>\n",
       "      <th></th>\n",
       "      <th></th>\n",
       "      <th></th>\n",
       "      <th></th>\n",
       "      <th></th>\n",
       "      <th></th>\n",
       "    </tr>\n",
       "  </thead>\n",
       "  <tbody>\n",
       "    <tr>\n",
       "      <th>0.0</th>\n",
       "      <td>270.01</td>\n",
       "      <td>flow_1.0</td>\n",
       "      <td>E0_0</td>\n",
       "      <td>5.10</td>\n",
       "      <td>0.0</td>\n",
       "      <td>0.00</td>\n",
       "      <td>115.48</td>\n",
       "      <td>52.81</td>\n",
       "    </tr>\n",
       "    <tr>\n",
       "      <th>1.0</th>\n",
       "      <td>270.01</td>\n",
       "      <td>flow_1.0</td>\n",
       "      <td>E0_0</td>\n",
       "      <td>6.54</td>\n",
       "      <td>0.0</td>\n",
       "      <td>1.44</td>\n",
       "      <td>114.04</td>\n",
       "      <td>52.81</td>\n",
       "    </tr>\n",
       "    <tr>\n",
       "      <th>2.0</th>\n",
       "      <td>270.01</td>\n",
       "      <td>flow_1.0</td>\n",
       "      <td>E0_0</td>\n",
       "      <td>9.66</td>\n",
       "      <td>0.0</td>\n",
       "      <td>3.12</td>\n",
       "      <td>110.92</td>\n",
       "      <td>52.81</td>\n",
       "    </tr>\n",
       "    <tr>\n",
       "      <th>3.0</th>\n",
       "      <td>270.01</td>\n",
       "      <td>flow_0.0</td>\n",
       "      <td>E0_0</td>\n",
       "      <td>5.10</td>\n",
       "      <td>0.0</td>\n",
       "      <td>0.00</td>\n",
       "      <td>115.48</td>\n",
       "      <td>52.81</td>\n",
       "    </tr>\n",
       "    <tr>\n",
       "      <th>3.0</th>\n",
       "      <td>270.01</td>\n",
       "      <td>flow_1.0</td>\n",
       "      <td>E0_0</td>\n",
       "      <td>15.31</td>\n",
       "      <td>0.0</td>\n",
       "      <td>5.66</td>\n",
       "      <td>105.27</td>\n",
       "      <td>52.81</td>\n",
       "    </tr>\n",
       "  </tbody>\n",
       "</table>\n",
       "</div>"
      ],
      "text/plain": [
       "               vehicle_angle vehicle_id vehicle_lane  vehicle_pos  \\\n",
       "timestep_time                                                       \n",
       "0.0                   270.01   flow_1.0         E0_0         5.10   \n",
       "1.0                   270.01   flow_1.0         E0_0         6.54   \n",
       "2.0                   270.01   flow_1.0         E0_0         9.66   \n",
       "3.0                   270.01   flow_0.0         E0_0         5.10   \n",
       "3.0                   270.01   flow_1.0         E0_0        15.31   \n",
       "\n",
       "               vehicle_slope  vehicle_speed  vehicle_x  vehicle_y  \n",
       "timestep_time                                                      \n",
       "0.0                      0.0           0.00     115.48      52.81  \n",
       "1.0                      0.0           1.44     114.04      52.81  \n",
       "2.0                      0.0           3.12     110.92      52.81  \n",
       "3.0                      0.0           0.00     115.48      52.81  \n",
       "3.0                      0.0           5.66     105.27      52.81  "
      ]
     },
     "execution_count": 12,
     "metadata": {},
     "output_type": "execute_result"
    }
   ],
   "source": [
    "df.head()"
   ]
  },
  {
   "cell_type": "code",
   "execution_count": 13,
   "id": "cdf164ab",
   "metadata": {},
   "outputs": [
    {
     "data": {
      "text/plain": [
       "E0_0    225040\n",
       "Name: vehicle_lane, dtype: int64"
      ]
     },
     "execution_count": 13,
     "metadata": {},
     "output_type": "execute_result"
    }
   ],
   "source": [
    "df.vehicle_lane.value_counts()"
   ]
  },
  {
   "cell_type": "code",
   "execution_count": 14,
   "id": "f2d78a3c",
   "metadata": {},
   "outputs": [],
   "source": [
    "df.drop(columns='vehicle_lane', axis=1, inplace=True)"
   ]
  },
  {
   "cell_type": "code",
   "execution_count": 15,
   "id": "24f1253d",
   "metadata": {},
   "outputs": [
    {
     "data": {
      "text/plain": [
       "0.0    225040\n",
       "Name: vehicle_slope, dtype: int64"
      ]
     },
     "execution_count": 15,
     "metadata": {},
     "output_type": "execute_result"
    }
   ],
   "source": [
    "df.vehicle_slope.value_counts()"
   ]
  },
  {
   "cell_type": "code",
   "execution_count": 16,
   "id": "97b41969",
   "metadata": {},
   "outputs": [],
   "source": [
    "df.drop(columns='vehicle_slope', axis=1, inplace=True)"
   ]
  },
  {
   "cell_type": "code",
   "execution_count": 17,
   "id": "bcb1c45c",
   "metadata": {},
   "outputs": [
    {
     "data": {
      "text/html": [
       "<div>\n",
       "<style scoped>\n",
       "    .dataframe tbody tr th:only-of-type {\n",
       "        vertical-align: middle;\n",
       "    }\n",
       "\n",
       "    .dataframe tbody tr th {\n",
       "        vertical-align: top;\n",
       "    }\n",
       "\n",
       "    .dataframe thead th {\n",
       "        text-align: right;\n",
       "    }\n",
       "</style>\n",
       "<table border=\"1\" class=\"dataframe\">\n",
       "  <thead>\n",
       "    <tr style=\"text-align: right;\">\n",
       "      <th></th>\n",
       "      <th>vehicle_angle</th>\n",
       "      <th>vehicle_id</th>\n",
       "      <th>vehicle_pos</th>\n",
       "      <th>vehicle_speed</th>\n",
       "      <th>vehicle_x</th>\n",
       "      <th>vehicle_y</th>\n",
       "    </tr>\n",
       "    <tr>\n",
       "      <th>timestep_time</th>\n",
       "      <th></th>\n",
       "      <th></th>\n",
       "      <th></th>\n",
       "      <th></th>\n",
       "      <th></th>\n",
       "      <th></th>\n",
       "    </tr>\n",
       "  </thead>\n",
       "  <tbody>\n",
       "    <tr>\n",
       "      <th>0.0</th>\n",
       "      <td>270.01</td>\n",
       "      <td>flow_1.0</td>\n",
       "      <td>5.10</td>\n",
       "      <td>0.00</td>\n",
       "      <td>115.48</td>\n",
       "      <td>52.81</td>\n",
       "    </tr>\n",
       "    <tr>\n",
       "      <th>1.0</th>\n",
       "      <td>270.01</td>\n",
       "      <td>flow_1.0</td>\n",
       "      <td>6.54</td>\n",
       "      <td>1.44</td>\n",
       "      <td>114.04</td>\n",
       "      <td>52.81</td>\n",
       "    </tr>\n",
       "    <tr>\n",
       "      <th>2.0</th>\n",
       "      <td>270.01</td>\n",
       "      <td>flow_1.0</td>\n",
       "      <td>9.66</td>\n",
       "      <td>3.12</td>\n",
       "      <td>110.92</td>\n",
       "      <td>52.81</td>\n",
       "    </tr>\n",
       "    <tr>\n",
       "      <th>3.0</th>\n",
       "      <td>270.01</td>\n",
       "      <td>flow_0.0</td>\n",
       "      <td>5.10</td>\n",
       "      <td>0.00</td>\n",
       "      <td>115.48</td>\n",
       "      <td>52.81</td>\n",
       "    </tr>\n",
       "    <tr>\n",
       "      <th>3.0</th>\n",
       "      <td>270.01</td>\n",
       "      <td>flow_1.0</td>\n",
       "      <td>15.31</td>\n",
       "      <td>5.66</td>\n",
       "      <td>105.27</td>\n",
       "      <td>52.81</td>\n",
       "    </tr>\n",
       "  </tbody>\n",
       "</table>\n",
       "</div>"
      ],
      "text/plain": [
       "               vehicle_angle vehicle_id  vehicle_pos  vehicle_speed  \\\n",
       "timestep_time                                                         \n",
       "0.0                   270.01   flow_1.0         5.10           0.00   \n",
       "1.0                   270.01   flow_1.0         6.54           1.44   \n",
       "2.0                   270.01   flow_1.0         9.66           3.12   \n",
       "3.0                   270.01   flow_0.0         5.10           0.00   \n",
       "3.0                   270.01   flow_1.0        15.31           5.66   \n",
       "\n",
       "               vehicle_x  vehicle_y  \n",
       "timestep_time                        \n",
       "0.0               115.48      52.81  \n",
       "1.0               114.04      52.81  \n",
       "2.0               110.92      52.81  \n",
       "3.0               115.48      52.81  \n",
       "3.0               105.27      52.81  "
      ]
     },
     "execution_count": 17,
     "metadata": {},
     "output_type": "execute_result"
    }
   ],
   "source": [
    "df.head()"
   ]
  },
  {
   "cell_type": "code",
   "execution_count": 18,
   "id": "4096185b",
   "metadata": {},
   "outputs": [
    {
     "data": {
      "text/plain": [
       "270.01    225040\n",
       "Name: vehicle_angle, dtype: int64"
      ]
     },
     "execution_count": 18,
     "metadata": {},
     "output_type": "execute_result"
    }
   ],
   "source": [
    "df.vehicle_angle.value_counts()"
   ]
  },
  {
   "cell_type": "code",
   "execution_count": 19,
   "id": "a13ae5ab",
   "metadata": {},
   "outputs": [],
   "source": [
    "df.drop(columns='vehicle_angle', axis=1, inplace=True)"
   ]
  },
  {
   "cell_type": "code",
   "execution_count": 20,
   "id": "5e351221",
   "metadata": {},
   "outputs": [
    {
     "data": {
      "text/html": [
       "<div>\n",
       "<style scoped>\n",
       "    .dataframe tbody tr th:only-of-type {\n",
       "        vertical-align: middle;\n",
       "    }\n",
       "\n",
       "    .dataframe tbody tr th {\n",
       "        vertical-align: top;\n",
       "    }\n",
       "\n",
       "    .dataframe thead th {\n",
       "        text-align: right;\n",
       "    }\n",
       "</style>\n",
       "<table border=\"1\" class=\"dataframe\">\n",
       "  <thead>\n",
       "    <tr style=\"text-align: right;\">\n",
       "      <th></th>\n",
       "      <th>vehicle_id</th>\n",
       "      <th>vehicle_pos</th>\n",
       "      <th>vehicle_speed</th>\n",
       "      <th>vehicle_x</th>\n",
       "      <th>vehicle_y</th>\n",
       "    </tr>\n",
       "    <tr>\n",
       "      <th>timestep_time</th>\n",
       "      <th></th>\n",
       "      <th></th>\n",
       "      <th></th>\n",
       "      <th></th>\n",
       "      <th></th>\n",
       "    </tr>\n",
       "  </thead>\n",
       "  <tbody>\n",
       "    <tr>\n",
       "      <th>0.0</th>\n",
       "      <td>flow_1.0</td>\n",
       "      <td>5.10</td>\n",
       "      <td>0.00</td>\n",
       "      <td>115.48</td>\n",
       "      <td>52.81</td>\n",
       "    </tr>\n",
       "    <tr>\n",
       "      <th>1.0</th>\n",
       "      <td>flow_1.0</td>\n",
       "      <td>6.54</td>\n",
       "      <td>1.44</td>\n",
       "      <td>114.04</td>\n",
       "      <td>52.81</td>\n",
       "    </tr>\n",
       "    <tr>\n",
       "      <th>2.0</th>\n",
       "      <td>flow_1.0</td>\n",
       "      <td>9.66</td>\n",
       "      <td>3.12</td>\n",
       "      <td>110.92</td>\n",
       "      <td>52.81</td>\n",
       "    </tr>\n",
       "    <tr>\n",
       "      <th>3.0</th>\n",
       "      <td>flow_0.0</td>\n",
       "      <td>5.10</td>\n",
       "      <td>0.00</td>\n",
       "      <td>115.48</td>\n",
       "      <td>52.81</td>\n",
       "    </tr>\n",
       "    <tr>\n",
       "      <th>3.0</th>\n",
       "      <td>flow_1.0</td>\n",
       "      <td>15.31</td>\n",
       "      <td>5.66</td>\n",
       "      <td>105.27</td>\n",
       "      <td>52.81</td>\n",
       "    </tr>\n",
       "  </tbody>\n",
       "</table>\n",
       "</div>"
      ],
      "text/plain": [
       "              vehicle_id  vehicle_pos  vehicle_speed  vehicle_x  vehicle_y\n",
       "timestep_time                                                             \n",
       "0.0             flow_1.0         5.10           0.00     115.48      52.81\n",
       "1.0             flow_1.0         6.54           1.44     114.04      52.81\n",
       "2.0             flow_1.0         9.66           3.12     110.92      52.81\n",
       "3.0             flow_0.0         5.10           0.00     115.48      52.81\n",
       "3.0             flow_1.0        15.31           5.66     105.27      52.81"
      ]
     },
     "execution_count": 20,
     "metadata": {},
     "output_type": "execute_result"
    }
   ],
   "source": [
    "df.head()"
   ]
  },
  {
   "cell_type": "code",
   "execution_count": 21,
   "id": "9ebe1f81",
   "metadata": {},
   "outputs": [
    {
     "name": "stderr",
     "output_type": "stream",
     "text": [
      "/tmp/ipykernel_92721/3397761454.py:1: UserWarning: Boolean Series key will be reindexed to match DataFrame index.\n",
      "  vehicle_1_data = df[filt]\n"
     ]
    }
   ],
   "source": [
    "vehicle_1_data = df[filt]"
   ]
  },
  {
   "cell_type": "code",
   "execution_count": 22,
   "id": "e2720eef",
   "metadata": {},
   "outputs": [
    {
     "data": {
      "text/html": [
       "<div>\n",
       "<style scoped>\n",
       "    .dataframe tbody tr th:only-of-type {\n",
       "        vertical-align: middle;\n",
       "    }\n",
       "\n",
       "    .dataframe tbody tr th {\n",
       "        vertical-align: top;\n",
       "    }\n",
       "\n",
       "    .dataframe thead th {\n",
       "        text-align: right;\n",
       "    }\n",
       "</style>\n",
       "<table border=\"1\" class=\"dataframe\">\n",
       "  <thead>\n",
       "    <tr style=\"text-align: right;\">\n",
       "      <th></th>\n",
       "      <th>vehicle_id</th>\n",
       "      <th>vehicle_pos</th>\n",
       "      <th>vehicle_speed</th>\n",
       "      <th>vehicle_x</th>\n",
       "      <th>vehicle_y</th>\n",
       "    </tr>\n",
       "    <tr>\n",
       "      <th>timestep_time</th>\n",
       "      <th></th>\n",
       "      <th></th>\n",
       "      <th></th>\n",
       "      <th></th>\n",
       "      <th></th>\n",
       "    </tr>\n",
       "  </thead>\n",
       "  <tbody>\n",
       "    <tr>\n",
       "      <th>0.0</th>\n",
       "      <td>flow_1.0</td>\n",
       "      <td>5.10</td>\n",
       "      <td>0.00</td>\n",
       "      <td>115.48</td>\n",
       "      <td>52.81</td>\n",
       "    </tr>\n",
       "    <tr>\n",
       "      <th>1.0</th>\n",
       "      <td>flow_1.0</td>\n",
       "      <td>6.54</td>\n",
       "      <td>1.44</td>\n",
       "      <td>114.04</td>\n",
       "      <td>52.81</td>\n",
       "    </tr>\n",
       "    <tr>\n",
       "      <th>2.0</th>\n",
       "      <td>flow_1.0</td>\n",
       "      <td>9.66</td>\n",
       "      <td>3.12</td>\n",
       "      <td>110.92</td>\n",
       "      <td>52.81</td>\n",
       "    </tr>\n",
       "    <tr>\n",
       "      <th>4.0</th>\n",
       "      <td>flow_0.0</td>\n",
       "      <td>6.93</td>\n",
       "      <td>1.83</td>\n",
       "      <td>113.65</td>\n",
       "      <td>52.81</td>\n",
       "    </tr>\n",
       "    <tr>\n",
       "      <th>4.0</th>\n",
       "      <td>flow_1.0</td>\n",
       "      <td>22.93</td>\n",
       "      <td>7.62</td>\n",
       "      <td>97.65</td>\n",
       "      <td>52.81</td>\n",
       "    </tr>\n",
       "    <tr>\n",
       "      <th>...</th>\n",
       "      <td>...</td>\n",
       "      <td>...</td>\n",
       "      <td>...</td>\n",
       "      <td>...</td>\n",
       "      <td>...</td>\n",
       "    </tr>\n",
       "    <tr>\n",
       "      <th>3553.0</th>\n",
       "      <td>flow_1.597</td>\n",
       "      <td>257.41</td>\n",
       "      <td>12.14</td>\n",
       "      <td>-136.83</td>\n",
       "      <td>52.85</td>\n",
       "    </tr>\n",
       "    <tr>\n",
       "      <th>3553.0</th>\n",
       "      <td>flow_1.598</td>\n",
       "      <td>195.34</td>\n",
       "      <td>16.07</td>\n",
       "      <td>-74.76</td>\n",
       "      <td>52.84</td>\n",
       "    </tr>\n",
       "    <tr>\n",
       "      <th>3553.0</th>\n",
       "      <td>flow_1.599</td>\n",
       "      <td>95.63</td>\n",
       "      <td>12.46</td>\n",
       "      <td>24.95</td>\n",
       "      <td>52.83</td>\n",
       "    </tr>\n",
       "    <tr>\n",
       "      <th>3553.0</th>\n",
       "      <td>flow_1.600</td>\n",
       "      <td>22.50</td>\n",
       "      <td>7.05</td>\n",
       "      <td>98.08</td>\n",
       "      <td>52.81</td>\n",
       "    </tr>\n",
       "    <tr>\n",
       "      <th>3553.0</th>\n",
       "      <td>flow_1.601</td>\n",
       "      <td>6.57</td>\n",
       "      <td>1.47</td>\n",
       "      <td>114.01</td>\n",
       "      <td>52.81</td>\n",
       "    </tr>\n",
       "  </tbody>\n",
       "</table>\n",
       "<p>7889 rows × 5 columns</p>\n",
       "</div>"
      ],
      "text/plain": [
       "               vehicle_id  vehicle_pos  vehicle_speed  vehicle_x  vehicle_y\n",
       "timestep_time                                                              \n",
       "0.0              flow_1.0         5.10           0.00     115.48      52.81\n",
       "1.0              flow_1.0         6.54           1.44     114.04      52.81\n",
       "2.0              flow_1.0         9.66           3.12     110.92      52.81\n",
       "4.0              flow_0.0         6.93           1.83     113.65      52.81\n",
       "4.0              flow_1.0        22.93           7.62      97.65      52.81\n",
       "...                   ...          ...            ...        ...        ...\n",
       "3553.0         flow_1.597       257.41          12.14    -136.83      52.85\n",
       "3553.0         flow_1.598       195.34          16.07     -74.76      52.84\n",
       "3553.0         flow_1.599        95.63          12.46      24.95      52.83\n",
       "3553.0         flow_1.600        22.50           7.05      98.08      52.81\n",
       "3553.0         flow_1.601         6.57           1.47     114.01      52.81\n",
       "\n",
       "[7889 rows x 5 columns]"
      ]
     },
     "execution_count": 22,
     "metadata": {},
     "output_type": "execute_result"
    }
   ],
   "source": [
    "vehicle_1_data"
   ]
  },
  {
   "cell_type": "code",
   "execution_count": 23,
   "id": "30a4d0cf",
   "metadata": {},
   "outputs": [],
   "source": [
    "import matplotlib.pyplot as plt"
   ]
  },
  {
   "cell_type": "code",
   "execution_count": 25,
   "id": "10f56736",
   "metadata": {},
   "outputs": [
    {
     "data": {
      "text/plain": [
       "<Figure size 720x720 with 0 Axes>"
      ]
     },
     "execution_count": 25,
     "metadata": {},
     "output_type": "execute_result"
    },
    {
     "data": {
      "image/png": "[encoded data removed]",
      "text/plain": [
       "<Figure size 432x288 with 1 Axes>"
      ]
     },
     "metadata": {
      "needs_background": "light"
     },
     "output_type": "display_data"
    },
    {
     "data": {
      "text/plain": [
       "<Figure size 720x720 with 0 Axes>"
      ]
     },
     "metadata": {},
     "output_type": "display_data"
    }
   ],
   "source": [
    "plt.plot(vehicle_1_data.index, vehicle_1_data['vehicle_pos'])\n",
    "plt.title('Vehicle 1 Time vs Pos')\n",
    "plt.xlabel('Timestep')\n",
    "plt.ylabel('Pos')\n",
    "plt.figure(figsize=(10, 10))"
   ]
  },
  {
   "cell_type": "code",
   "execution_count": 27,
   "id": "d796acfc",
   "metadata": {},
   "outputs": [],
   "source": [
    "vehicle_1_data = df['vehicle_id'] == 'flow_1.0'\n",
    "vehicle_1_data = df[vehicle_1_data]"
   ]
  },
  {
   "cell_type": "code",
   "execution_count": 28,
   "id": "6d2ae64e",
   "metadata": {},
   "outputs": [
    {
     "data": {
      "text/plain": [
       "<Figure size 720x720 with 0 Axes>"
      ]
     },
     "execution_count": 28,
     "metadata": {},
     "output_type": "execute_result"
    },
    {
     "data": {
      "image/png": "[encoded data removed]",
      "text/plain": [
       "<Figure size 432x288 with 1 Axes>"
      ]
     },
     "metadata": {
      "needs_background": "light"
     },
     "output_type": "display_data"
    },
    {
     "data": {
      "text/plain": [
       "<Figure size 720x720 with 0 Axes>"
      ]
     },
     "metadata": {},
     "output_type": "display_data"
    }
   ],
   "source": [
    "plt.plot(vehicle_1_data.index, vehicle_1_data['vehicle_pos'])\n",
    "plt.title('Vehicle 1 Time vs Pos')\n",
    "plt.xlabel('Timestep')\n",
    "plt.ylabel('Pos')\n",
    "plt.figure(figsize=(10, 10))"
   ]
  },
  {
   "cell_type": "code",
   "execution_count": 29,
   "id": "5dec22c1",
   "metadata": {},
   "outputs": [
    {
     "data": {
      "text/plain": [
       "<Figure size 720x720 with 0 Axes>"
      ]
     },
     "execution_count": 29,
     "metadata": {},
     "output_type": "execute_result"
    },
    {
     "data": {
      "image/png": "[encoded data removed]",
      "text/plain": [
       "<Figure size 432x288 with 1 Axes>"
      ]
     },
     "metadata": {
      "needs_background": "light"
     },
     "output_type": "display_data"
    },
    {
     "data": {
      "text/plain": [
       "<Figure size 720x720 with 0 Axes>"
      ]
     },
     "metadata": {},
     "output_type": "display_data"
    }
   ],
   "source": [
    "plt.plot(vehicle_1_data.index, vehicle_1_data['vehicle_speed'])\n",
    "plt.title('Vehicle 1 Time vs Speed')\n",
    "plt.xlabel('Timestep')\n",
    "plt.ylabel('Speed')\n",
    "plt.figure(figsize=(10, 10))"
   ]
  },
  {
   "cell_type": "code",
   "execution_count": 30,
   "id": "ba42a819",
   "metadata": {},
   "outputs": [
    {
     "data": {
      "text/plain": [
       "<Figure size 720x720 with 0 Axes>"
      ]
     },
     "execution_count": 30,
     "metadata": {},
     "output_type": "execute_result"
    },
    {
     "data": {
      "image/png": "[encoded data removed]",
      "text/plain": [
       "<Figure size 432x288 with 1 Axes>"
      ]
     },
     "metadata": {
      "needs_background": "light"
     },
     "output_type": "display_data"
    },
    {
     "data": {
      "text/plain": [
       "<Figure size 720x720 with 0 Axes>"
      ]
     },
     "metadata": {},
     "output_type": "display_data"
    }
   ],
   "source": [
    "plt.plot(vehicle_1_data.index, vehicle_1_data['vehicle_x'])\n",
    "plt.title('Vehicle 1 Time vs Position X')\n",
    "plt.xlabel('Timestep')\n",
    "plt.ylabel('Pos X')\n",
    "plt.figure(figsize=(10, 10))"
   ]
  },
  {
   "cell_type": "code",
   "execution_count": 31,
   "id": "9508cad7",
   "metadata": {},
   "outputs": [
    {
     "data": {
      "text/plain": [
       "<Figure size 720x720 with 0 Axes>"
      ]
     },
     "execution_count": 31,
     "metadata": {},
     "output_type": "execute_result"
    },
    {
     "data": {
      "image/png": "[encoded data removed]",
      "text/plain": [
       "<Figure size 432x288 with 1 Axes>"
      ]
     },
     "metadata": {
      "needs_background": "light"
     },
     "output_type": "display_data"
    },
    {
     "data": {
      "text/plain": [
       "<Figure size 720x720 with 0 Axes>"
      ]
     },
     "metadata": {},
     "output_type": "display_data"
    }
   ],
   "source": [
    "plt.plot(vehicle_1_data.index, vehicle_1_data['vehicle_y'])\n",
    "plt.title('Vehicle 1 Time vs Position Y')\n",
    "plt.xlabel('Timestep')\n",
    "plt.ylabel('Pos Y')\n",
    "plt.figure(figsize=(10, 10))"
   ]
  },
  {
   "cell_type": "code",
   "execution_count": 32,
   "id": "9024b729",
   "metadata": {},
   "outputs": [
    {
     "data": {
      "text/plain": [
       "(225040, 5)"
      ]
     },
     "execution_count": 32,
     "metadata": {},
     "output_type": "execute_result"
    }
   ],
   "source": [
    "df.shape"
   ]
  },
  {
   "cell_type": "code",
   "execution_count": 33,
   "id": "e35b30d5",
   "metadata": {},
   "outputs": [
    {
     "data": {
      "text/plain": [
       "timestep_time\n",
       "0.0         flow_1.0\n",
       "1.0         flow_1.0\n",
       "2.0         flow_1.0\n",
       "3.0         flow_0.0\n",
       "3.0         flow_1.0\n",
       "             ...    \n",
       "3599.0    flow_1.604\n",
       "3599.0    flow_1.605\n",
       "3599.0    flow_1.606\n",
       "3599.0    flow_1.607\n",
       "3599.0    flow_1.608\n",
       "Name: vehicle_id, Length: 225040, dtype: object"
      ]
     },
     "execution_count": 33,
     "metadata": {},
     "output_type": "execute_result"
    }
   ],
   "source": [
    "df.vehicle_id"
   ]
  },
  {
   "cell_type": "code",
   "execution_count": 34,
   "id": "31731fea",
   "metadata": {},
   "outputs": [
    {
     "data": {
      "text/plain": [
       "array(['flow_1.0', 'flow_0.0', 'flow_1.1', ..., 'flow_1.607',\n",
       "       'flow_0.585', 'flow_1.608'], dtype=object)"
      ]
     },
     "execution_count": 34,
     "metadata": {},
     "output_type": "execute_result"
    }
   ],
   "source": [
    "df.vehicle_id.unique()"
   ]
  },
  {
   "cell_type": "code",
   "execution_count": 41,
   "id": "3c9f91e8",
   "metadata": {},
   "outputs": [],
   "source": [
    "vehicle_0_data = df['vehicle_id'] == 'flow_0.0'\n",
    "vehicle_0_data = df[vehicle_0_data]"
   ]
  },
  {
   "cell_type": "code",
   "execution_count": 42,
   "id": "669d817b",
   "metadata": {},
   "outputs": [
    {
     "data": {
      "text/html": [
       "<div>\n",
       "<style scoped>\n",
       "    .dataframe tbody tr th:only-of-type {\n",
       "        vertical-align: middle;\n",
       "    }\n",
       "\n",
       "    .dataframe tbody tr th {\n",
       "        vertical-align: top;\n",
       "    }\n",
       "\n",
       "    .dataframe thead th {\n",
       "        text-align: right;\n",
       "    }\n",
       "</style>\n",
       "<table border=\"1\" class=\"dataframe\">\n",
       "  <thead>\n",
       "    <tr style=\"text-align: right;\">\n",
       "      <th></th>\n",
       "      <th>vehicle_id</th>\n",
       "      <th>vehicle_pos</th>\n",
       "      <th>vehicle_speed</th>\n",
       "      <th>vehicle_x</th>\n",
       "      <th>vehicle_y</th>\n",
       "    </tr>\n",
       "    <tr>\n",
       "      <th>timestep_time</th>\n",
       "      <th></th>\n",
       "      <th></th>\n",
       "      <th></th>\n",
       "      <th></th>\n",
       "      <th></th>\n",
       "    </tr>\n",
       "  </thead>\n",
       "  <tbody>\n",
       "    <tr>\n",
       "      <th>3.0</th>\n",
       "      <td>flow_0.0</td>\n",
       "      <td>5.10</td>\n",
       "      <td>0.00</td>\n",
       "      <td>115.48</td>\n",
       "      <td>52.81</td>\n",
       "    </tr>\n",
       "    <tr>\n",
       "      <th>4.0</th>\n",
       "      <td>flow_0.0</td>\n",
       "      <td>6.93</td>\n",
       "      <td>1.83</td>\n",
       "      <td>113.65</td>\n",
       "      <td>52.81</td>\n",
       "    </tr>\n",
       "    <tr>\n",
       "      <th>5.0</th>\n",
       "      <td>flow_0.0</td>\n",
       "      <td>10.40</td>\n",
       "      <td>3.47</td>\n",
       "      <td>110.18</td>\n",
       "      <td>52.81</td>\n",
       "    </tr>\n",
       "    <tr>\n",
       "      <th>6.0</th>\n",
       "      <td>flow_0.0</td>\n",
       "      <td>15.76</td>\n",
       "      <td>5.36</td>\n",
       "      <td>104.82</td>\n",
       "      <td>52.81</td>\n",
       "    </tr>\n",
       "    <tr>\n",
       "      <th>7.0</th>\n",
       "      <td>flow_0.0</td>\n",
       "      <td>23.71</td>\n",
       "      <td>7.95</td>\n",
       "      <td>96.87</td>\n",
       "      <td>52.81</td>\n",
       "    </tr>\n",
       "    <tr>\n",
       "      <th>...</th>\n",
       "      <td>...</td>\n",
       "      <td>...</td>\n",
       "      <td>...</td>\n",
       "      <td>...</td>\n",
       "      <td>...</td>\n",
       "    </tr>\n",
       "    <tr>\n",
       "      <th>172.0</th>\n",
       "      <td>flow_0.0</td>\n",
       "      <td>2064.09</td>\n",
       "      <td>12.04</td>\n",
       "      <td>-1943.51</td>\n",
       "      <td>53.17</td>\n",
       "    </tr>\n",
       "    <tr>\n",
       "      <th>173.0</th>\n",
       "      <td>flow_0.0</td>\n",
       "      <td>2076.54</td>\n",
       "      <td>12.44</td>\n",
       "      <td>-1955.96</td>\n",
       "      <td>53.17</td>\n",
       "    </tr>\n",
       "    <tr>\n",
       "      <th>174.0</th>\n",
       "      <td>flow_0.0</td>\n",
       "      <td>2088.30</td>\n",
       "      <td>11.77</td>\n",
       "      <td>-1967.72</td>\n",
       "      <td>53.17</td>\n",
       "    </tr>\n",
       "    <tr>\n",
       "      <th>175.0</th>\n",
       "      <td>flow_0.0</td>\n",
       "      <td>2101.02</td>\n",
       "      <td>12.72</td>\n",
       "      <td>-1980.44</td>\n",
       "      <td>53.18</td>\n",
       "    </tr>\n",
       "    <tr>\n",
       "      <th>176.0</th>\n",
       "      <td>flow_0.0</td>\n",
       "      <td>2113.42</td>\n",
       "      <td>12.39</td>\n",
       "      <td>-1992.84</td>\n",
       "      <td>53.18</td>\n",
       "    </tr>\n",
       "  </tbody>\n",
       "</table>\n",
       "<p>174 rows × 5 columns</p>\n",
       "</div>"
      ],
      "text/plain": [
       "              vehicle_id  vehicle_pos  vehicle_speed  vehicle_x  vehicle_y\n",
       "timestep_time                                                             \n",
       "3.0             flow_0.0         5.10           0.00     115.48      52.81\n",
       "4.0             flow_0.0         6.93           1.83     113.65      52.81\n",
       "5.0             flow_0.0        10.40           3.47     110.18      52.81\n",
       "6.0             flow_0.0        15.76           5.36     104.82      52.81\n",
       "7.0             flow_0.0        23.71           7.95      96.87      52.81\n",
       "...                  ...          ...            ...        ...        ...\n",
       "172.0           flow_0.0      2064.09          12.04   -1943.51      53.17\n",
       "173.0           flow_0.0      2076.54          12.44   -1955.96      53.17\n",
       "174.0           flow_0.0      2088.30          11.77   -1967.72      53.17\n",
       "175.0           flow_0.0      2101.02          12.72   -1980.44      53.18\n",
       "176.0           flow_0.0      2113.42          12.39   -1992.84      53.18\n",
       "\n",
       "[174 rows x 5 columns]"
      ]
     },
     "execution_count": 42,
     "metadata": {},
     "output_type": "execute_result"
    }
   ],
   "source": [
    "vehicle_0_data"
   ]
  },
  {
   "cell_type": "code",
   "execution_count": 43,
   "id": "9582b99b",
   "metadata": {},
   "outputs": [
    {
     "data": {
      "text/plain": [
       "<Figure size 720x720 with 0 Axes>"
      ]
     },
     "execution_count": 43,
     "metadata": {},
     "output_type": "execute_result"
    },
    {
     "data": {
      "image/png": "[encoded data removed]",
      "text/plain": [
       "<Figure size 432x288 with 1 Axes>"
      ]
     },
     "metadata": {
      "needs_background": "light"
     },
     "output_type": "display_data"
    },
    {
     "data": {
      "image/png": "[encoded data removed]",
      "text/plain": [
       "<Figure size 720x720 with 1 Axes>"
      ]
     },
     "metadata": {
      "needs_background": "light"
     },
     "output_type": "display_data"
    },
    {
     "data": {
      "image/png": "[encoded data removed]",
      "text/plain": [
       "<Figure size 720x720 with 1 Axes>"
      ]
     },
     "metadata": {
      "needs_background": "light"
     },
     "output_type": "display_data"
    },
    {
     "data": {
      "image/png": "[encoded data removed]",
      "text/plain": [
       "<Figure size 720x720 with 1 Axes>"
      ]
     },
     "metadata": {
      "needs_background": "light"
     },
     "output_type": "display_data"
    },
    {
     "data": {
      "text/plain": [
       "<Figure size 720x720 with 0 Axes>"
      ]
     },
     "metadata": {},
     "output_type": "display_data"
    }
   ],
   "source": [
    "plt.plot(vehicle_0_data.index, vehicle_0_data['vehicle_pos'])\n",
    "plt.title('Vehicle 0 Time vs Pos')\n",
    "plt.xlabel('Timestep')\n",
    "plt.ylabel('Pos')\n",
    "plt.figure(figsize=(10, 10))\n",
    "\n",
    "plt.plot(vehicle_0_data.index, vehicle_0_data['vehicle_speed'])\n",
    "plt.title('Vehicle 0 Time vs Speed')\n",
    "plt.xlabel('Timestep')\n",
    "plt.ylabel('Speed')\n",
    "plt.figure(figsize=(10, 10))\n",
    "\n",
    "plt.plot(vehicle_0_data.index, vehicle_0_data['vehicle_x'])\n",
    "plt.title('Vehicle 0 Time vs Position X')\n",
    "plt.xlabel('Timestep')\n",
    "plt.ylabel('Pos X')\n",
    "plt.figure(figsize=(10, 10))\n",
    "\n",
    "plt.plot(vehicle_0_data.index, vehicle_0_data['vehicle_y'])\n",
    "plt.title('Vehicle 0 Time vs Position Y')\n",
    "plt.xlabel('Timestep')\n",
    "plt.ylabel('Pos Y')\n",
    "plt.figure(figsize=(10, 10))"
   ]
  },
  {
   "cell_type": "code",
   "execution_count": 45,
   "id": "18b2df3b",
   "metadata": {},
   "outputs": [
    {
     "data": {
      "text/html": [
       "<div>\n",
       "<style scoped>\n",
       "    .dataframe tbody tr th:only-of-type {\n",
       "        vertical-align: middle;\n",
       "    }\n",
       "\n",
       "    .dataframe tbody tr th {\n",
       "        vertical-align: top;\n",
       "    }\n",
       "\n",
       "    .dataframe thead th {\n",
       "        text-align: right;\n",
       "    }\n",
       "</style>\n",
       "<table border=\"1\" class=\"dataframe\">\n",
       "  <thead>\n",
       "    <tr style=\"text-align: right;\">\n",
       "      <th></th>\n",
       "      <th>vehicle_id</th>\n",
       "      <th>vehicle_pos</th>\n",
       "      <th>vehicle_speed</th>\n",
       "      <th>vehicle_x</th>\n",
       "      <th>vehicle_y</th>\n",
       "    </tr>\n",
       "    <tr>\n",
       "      <th>timestep_time</th>\n",
       "      <th></th>\n",
       "      <th></th>\n",
       "      <th></th>\n",
       "      <th></th>\n",
       "      <th></th>\n",
       "    </tr>\n",
       "  </thead>\n",
       "  <tbody>\n",
       "    <tr>\n",
       "      <th>3.0</th>\n",
       "      <td>flow_0.0</td>\n",
       "      <td>5.10</td>\n",
       "      <td>0.00</td>\n",
       "      <td>115.48</td>\n",
       "      <td>52.81</td>\n",
       "    </tr>\n",
       "    <tr>\n",
       "      <th>4.0</th>\n",
       "      <td>flow_0.0</td>\n",
       "      <td>6.93</td>\n",
       "      <td>1.83</td>\n",
       "      <td>113.65</td>\n",
       "      <td>52.81</td>\n",
       "    </tr>\n",
       "    <tr>\n",
       "      <th>5.0</th>\n",
       "      <td>flow_0.0</td>\n",
       "      <td>10.40</td>\n",
       "      <td>3.47</td>\n",
       "      <td>110.18</td>\n",
       "      <td>52.81</td>\n",
       "    </tr>\n",
       "    <tr>\n",
       "      <th>6.0</th>\n",
       "      <td>flow_0.0</td>\n",
       "      <td>15.76</td>\n",
       "      <td>5.36</td>\n",
       "      <td>104.82</td>\n",
       "      <td>52.81</td>\n",
       "    </tr>\n",
       "    <tr>\n",
       "      <th>7.0</th>\n",
       "      <td>flow_0.0</td>\n",
       "      <td>23.71</td>\n",
       "      <td>7.95</td>\n",
       "      <td>96.87</td>\n",
       "      <td>52.81</td>\n",
       "    </tr>\n",
       "    <tr>\n",
       "      <th>...</th>\n",
       "      <td>...</td>\n",
       "      <td>...</td>\n",
       "      <td>...</td>\n",
       "      <td>...</td>\n",
       "      <td>...</td>\n",
       "    </tr>\n",
       "    <tr>\n",
       "      <th>172.0</th>\n",
       "      <td>flow_0.0</td>\n",
       "      <td>2064.09</td>\n",
       "      <td>12.04</td>\n",
       "      <td>-1943.51</td>\n",
       "      <td>53.17</td>\n",
       "    </tr>\n",
       "    <tr>\n",
       "      <th>173.0</th>\n",
       "      <td>flow_0.0</td>\n",
       "      <td>2076.54</td>\n",
       "      <td>12.44</td>\n",
       "      <td>-1955.96</td>\n",
       "      <td>53.17</td>\n",
       "    </tr>\n",
       "    <tr>\n",
       "      <th>174.0</th>\n",
       "      <td>flow_0.0</td>\n",
       "      <td>2088.30</td>\n",
       "      <td>11.77</td>\n",
       "      <td>-1967.72</td>\n",
       "      <td>53.17</td>\n",
       "    </tr>\n",
       "    <tr>\n",
       "      <th>175.0</th>\n",
       "      <td>flow_0.0</td>\n",
       "      <td>2101.02</td>\n",
       "      <td>12.72</td>\n",
       "      <td>-1980.44</td>\n",
       "      <td>53.18</td>\n",
       "    </tr>\n",
       "    <tr>\n",
       "      <th>176.0</th>\n",
       "      <td>flow_0.0</td>\n",
       "      <td>2113.42</td>\n",
       "      <td>12.39</td>\n",
       "      <td>-1992.84</td>\n",
       "      <td>53.18</td>\n",
       "    </tr>\n",
       "  </tbody>\n",
       "</table>\n",
       "<p>174 rows × 5 columns</p>\n",
       "</div>"
      ],
      "text/plain": [
       "              vehicle_id  vehicle_pos  vehicle_speed  vehicle_x  vehicle_y\n",
       "timestep_time                                                             \n",
       "3.0             flow_0.0         5.10           0.00     115.48      52.81\n",
       "4.0             flow_0.0         6.93           1.83     113.65      52.81\n",
       "5.0             flow_0.0        10.40           3.47     110.18      52.81\n",
       "6.0             flow_0.0        15.76           5.36     104.82      52.81\n",
       "7.0             flow_0.0        23.71           7.95      96.87      52.81\n",
       "...                  ...          ...            ...        ...        ...\n",
       "172.0           flow_0.0      2064.09          12.04   -1943.51      53.17\n",
       "173.0           flow_0.0      2076.54          12.44   -1955.96      53.17\n",
       "174.0           flow_0.0      2088.30          11.77   -1967.72      53.17\n",
       "175.0           flow_0.0      2101.02          12.72   -1980.44      53.18\n",
       "176.0           flow_0.0      2113.42          12.39   -1992.84      53.18\n",
       "\n",
       "[174 rows x 5 columns]"
      ]
     },
     "execution_count": 45,
     "metadata": {},
     "output_type": "execute_result"
    }
   ],
   "source": [
    "vehicle_0_data"
   ]
  },
  {
   "cell_type": "code",
   "execution_count": null,
   "id": "2628160b",
   "metadata": {},
   "outputs": [],
   "source": []
  }
 ],
 "metadata": {
  "kernelspec": {
   "display_name": "Python 3 (ipykernel)",
   "language": "python",
   "name": "python3"
  },
  "language_info": {
   "codemirror_mode": {
    "name": "ipython",
    "version": 3
   },
   "file_extension": ".py",
   "mimetype": "text/x-python",
   "name": "python",
   "nbconvert_exporter": "python",
   "pygments_lexer": "ipython3",
   "version": "3.9.7"
  }
 },
 "nbformat": 4,
 "nbformat_minor": 5
}
