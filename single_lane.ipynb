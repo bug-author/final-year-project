{
 "cells": [
  {
   "cell_type": "code",
   "execution_count": null,
   "outputs": [],
   "source": [
    "df = pd.read_csv('Sim_SingleLane.csv', sep=';')"
   ],
   "metadata": {
    "collapsed": false,
    "pycharm": {
     "name": "#%%\n"
    }
   }
  },
  {
   "cell_type": "code",
   "execution_count": null,
   "outputs": [],
   "source": [
    "df.head()"
   ],
   "metadata": {
    "collapsed": false,
    "pycharm": {
     "name": "#%%\n"
    }
   }
  },
  {
   "cell_type": "code",
   "execution_count": null,
   "outputs": [],
   "source": [
    "df.vehicle_id"
   ],
   "metadata": {
    "collapsed": false,
    "pycharm": {
     "name": "#%%\n"
    }
   }
  },
  {
   "cell_type": "code",
   "execution_count": null,
   "outputs": [],
   "source": [],
   "metadata": {
    "collapsed": false,
    "pycharm": {
     "name": "#%%\n"
    }
   }
  },
  {
   "cell_type": "code",
   "execution_count": null,
   "outputs": [],
   "source": [
    "import pandas as pd"
   ],
   "metadata": {
    "collapsed": false,
    "pycharm": {
     "name": "#%%\n"
    }
   }
  },
  {
   "cell_type": "code",
   "execution_count": 4,
   "outputs": [],
   "source": [
    "df = pd.read_csv('Sim_SingleLane.csv', sep=';')"
   ],
   "metadata": {
    "collapsed": false,
    "pycharm": {
     "name": "#%%\n"
    }
   }
  },
  {
   "cell_type": "code",
   "execution_count": 5,
   "outputs": [
    {
     "data": {
      "text/plain": "   timestep_time  vehicle_angle vehicle_id vehicle_lane  vehicle_pos  \\\n0            0.0         270.01   flow_1.0         E0_0         5.10   \n1            1.0         270.01   flow_1.0         E0_0         6.54   \n2            2.0         270.01   flow_1.0         E0_0         9.66   \n3            3.0         270.01   flow_0.0         E0_0         5.10   \n4            3.0         270.01   flow_1.0         E0_0        15.31   \n\n   vehicle_slope  vehicle_speed     vehicle_type  vehicle_x  vehicle_y  \n0            0.0           0.00  DEFAULT_VEHTYPE     115.48      52.81  \n1            0.0           1.44  DEFAULT_VEHTYPE     114.04      52.81  \n2            0.0           3.12  DEFAULT_VEHTYPE     110.92      52.81  \n3            0.0           0.00  DEFAULT_VEHTYPE     115.48      52.81  \n4            0.0           5.66  DEFAULT_VEHTYPE     105.27      52.81  ",
      "text/html": "<div>\n<style scoped>\n    .dataframe tbody tr th:only-of-type {\n        vertical-align: middle;\n    }\n\n    .dataframe tbody tr th {\n        vertical-align: top;\n    }\n\n    .dataframe thead th {\n        text-align: right;\n    }\n</style>\n<table border=\"1\" class=\"dataframe\">\n  <thead>\n    <tr style=\"text-align: right;\">\n      <th></th>\n      <th>timestep_time</th>\n      <th>vehicle_angle</th>\n      <th>vehicle_id</th>\n      <th>vehicle_lane</th>\n      <th>vehicle_pos</th>\n      <th>vehicle_slope</th>\n      <th>vehicle_speed</th>\n      <th>vehicle_type</th>\n      <th>vehicle_x</th>\n      <th>vehicle_y</th>\n    </tr>\n  </thead>\n  <tbody>\n    <tr>\n      <th>0</th>\n      <td>0.0</td>\n      <td>270.01</td>\n      <td>flow_1.0</td>\n      <td>E0_0</td>\n      <td>5.10</td>\n      <td>0.0</td>\n      <td>0.00</td>\n      <td>DEFAULT_VEHTYPE</td>\n      <td>115.48</td>\n      <td>52.81</td>\n    </tr>\n    <tr>\n      <th>1</th>\n      <td>1.0</td>\n      <td>270.01</td>\n      <td>flow_1.0</td>\n      <td>E0_0</td>\n      <td>6.54</td>\n      <td>0.0</td>\n      <td>1.44</td>\n      <td>DEFAULT_VEHTYPE</td>\n      <td>114.04</td>\n      <td>52.81</td>\n    </tr>\n    <tr>\n      <th>2</th>\n      <td>2.0</td>\n      <td>270.01</td>\n      <td>flow_1.0</td>\n      <td>E0_0</td>\n      <td>9.66</td>\n      <td>0.0</td>\n      <td>3.12</td>\n      <td>DEFAULT_VEHTYPE</td>\n      <td>110.92</td>\n      <td>52.81</td>\n    </tr>\n    <tr>\n      <th>3</th>\n      <td>3.0</td>\n      <td>270.01</td>\n      <td>flow_0.0</td>\n      <td>E0_0</td>\n      <td>5.10</td>\n      <td>0.0</td>\n      <td>0.00</td>\n      <td>DEFAULT_VEHTYPE</td>\n      <td>115.48</td>\n      <td>52.81</td>\n    </tr>\n    <tr>\n      <th>4</th>\n      <td>3.0</td>\n      <td>270.01</td>\n      <td>flow_1.0</td>\n      <td>E0_0</td>\n      <td>15.31</td>\n      <td>0.0</td>\n      <td>5.66</td>\n      <td>DEFAULT_VEHTYPE</td>\n      <td>105.27</td>\n      <td>52.81</td>\n    </tr>\n  </tbody>\n</table>\n</div>"
     },
     "execution_count": 5,
     "metadata": {},
     "output_type": "execute_result"
    }
   ],
   "source": [
    "df.head()"
   ],
   "metadata": {
    "collapsed": false,
    "pycharm": {
     "name": "#%%\n"
    }
   }
  },
  {
   "cell_type": "code",
   "execution_count": 6,
   "outputs": [
    {
     "data": {
      "text/plain": "0           flow_1.0\n1           flow_1.0\n2           flow_1.0\n3           flow_0.0\n4           flow_1.0\n             ...    \n225035    flow_1.604\n225036    flow_1.605\n225037    flow_1.606\n225038    flow_1.607\n225039    flow_1.608\nName: vehicle_id, Length: 225040, dtype: object"
     },
     "execution_count": 6,
     "metadata": {},
     "output_type": "execute_result"
    }
   ],
   "source": [
    "df.vehicle_id"
   ],
   "metadata": {
    "collapsed": false,
    "pycharm": {
     "name": "#%%\n"
    }
   }
  },
  {
   "cell_type": "code",
   "execution_count": 7,
   "outputs": [
    {
     "data": {
      "text/plain": "flow_1.556    244\nflow_0.530    243\nflow_0.531    242\nflow_1.557    241\nflow_0.532    240\n             ... \nflow_1.606     15\nflow_0.584     12\nflow_1.607      9\nflow_0.585      6\nflow_1.608      3\nName: vehicle_id, Length: 1195, dtype: int64"
     },
     "execution_count": 7,
     "metadata": {},
     "output_type": "execute_result"
    }
   ],
   "source": [
    "df.vehicle_id.value_counts()"
   ],
   "metadata": {
    "collapsed": false,
    "pycharm": {
     "name": "#%%\n"
    }
   }
  },
  {
   "cell_type": "code",
   "execution_count": 8,
   "outputs": [
    {
     "data": {
      "text/plain": "flow_1.556    244\nflow_0.530    243\nflow_0.531    242\nflow_1.557    241\nflow_0.532    240\n             ... \nflow_1.606     15\nflow_0.584     12\nflow_1.607      9\nflow_0.585      6\nflow_1.608      3\nName: vehicle_id, Length: 1195, dtype: int64"
     },
     "execution_count": 8,
     "metadata": {},
     "output_type": "execute_result"
    }
   ],
   "source": [
    "df['vehicle_id'].value_counts()"
   ],
   "metadata": {
    "collapsed": false,
    "pycharm": {
     "name": "#%%\n"
    }
   }
  },
  {
   "cell_type": "code",
   "execution_count": null,
   "outputs": [],
   "source": [],
   "metadata": {
    "collapsed": false,
    "pycharm": {
     "name": "#%%\n"
    }
   }
  }
 ],
 "metadata": {
  "kernelspec": {
   "display_name": "Python 3",
   "language": "python",
   "name": "python3"
  },
  "language_info": {
   "codemirror_mode": {
    "name": "ipython",
    "version": 2
   },
   "file_extension": ".py",
   "mimetype": "text/x-python",
   "name": "python",
   "nbconvert_exporter": "python",
   "pygments_lexer": "ipython2",
   "version": "2.7.6"
  },
  "pycharm": {
   "stem_cell": {
    "cell_type": "raw",
    "source": [
     "f#%%\n",
     ".import pandas as pd"
    ],
    "metadata": {
     "collapsed": false
    }
   }
  }
 },
 "nbformat": 4,
 "nbformat_minor": 0
}