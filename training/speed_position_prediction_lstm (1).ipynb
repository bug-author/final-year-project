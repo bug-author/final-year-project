{
  "cells": [
    {
      "cell_type": "code",
      "execution_count": 25,
      "metadata": {
        "id": "wL7_w0kZDSIx"
      },
      "outputs": [],
      "source": [
        "import pandas as pd\n",
        "import requests\n",
        "import numpy as np\n",
        "# from scipy import stats\n",
        "import seaborn as sns\n",
        "import matplotlib.pyplot as plt\n",
        "import keras\n",
        "# from sklearn.preprocessing import RobustScaler\n",
        "# from sklearn.preprocessing import Normalizer"
      ]
    },
    {
      "cell_type": "code",
      "execution_count": 26,
      "metadata": {
        "id": "QoqKK43GDpF5"
      },
      "outputs": [],
      "source": [
        "res = requests.get(\"https://ai-emp-fog-comp.herokuapp.com/data\")\n",
        "response = res.json()"
      ]
    },
    {
      "cell_type": "code",
      "execution_count": 27,
      "metadata": {
        "id": "tzrLYoQtDstK"
      },
      "outputs": [],
      "source": [
        "df = pd.DataFrame.from_dict(response[\"data\"])"
      ]
    },
    {
      "cell_type": "code",
      "execution_count": 28,
      "metadata": {
        "colab": {
          "base_uri": "https://localhost:8080/"
        },
        "id": "e1w2_HHnDz-m",
        "outputId": "03ec1f14-08a1-4139-cf1d-02e7097c4a47"
      },
      "outputs": [
        {
          "output_type": "execute_result",
          "data": {
            "text/plain": [
              "Index(['Vehicle 1 Speed', 'Vehicle 2 Speed', 'Vehicle 3 Speed',\n",
              "       'Vehicle 4 Speed', 'Vehicle 5 Speed', 'Vehicle 6 Speed',\n",
              "       'Vehicle 7 Speed', 'Vehicle 8 Speed', 'Vehicle 9 Speed',\n",
              "       'Vehicle 10 Speed', 'Vehicle 11 Speed', 'Vehicle 12 Speed',\n",
              "       'Vehicle 13 Speed', 'Vehicle 14 Speed', 'Vehicle 15 Speed',\n",
              "       'Vehicle 16 Speed', 'Vehicle 17 Speed', 'Vehicle 1 Position',\n",
              "       'Vehicle 2 Position', 'Vehicle 3 Position', 'Vehicle 4 Position',\n",
              "       'Vehicle 5 Position', 'Vehicle 6 Position', 'Vehicle 7 Position',\n",
              "       'Vehicle 8 Position', 'Vehicle 9 Position', 'Vehicle 10 Position',\n",
              "       'Vehicle 11 Position', 'Vehicle 12 Position', 'Vehicle 13 Position',\n",
              "       'Vehicle 14 Position', 'Vehicle 15 Position', 'Vehicle 16 Position',\n",
              "       'Vehicle 17 Position'],\n",
              "      dtype='object')"
            ]
          },
          "metadata": {},
          "execution_count": 28
        }
      ],
      "source": [
        "df.columns"
      ]
    },
    {
      "cell_type": "code",
      "execution_count": 29,
      "metadata": {
        "colab": {
          "base_uri": "https://localhost:8080/"
        },
        "id": "1iGMVnKYEc0M",
        "outputId": "8e2fe85d-42fb-43b6-d879-c3773e1f5a69"
      },
      "outputs": [
        {
          "output_type": "execute_result",
          "data": {
            "text/plain": [
              "Vehicle 1 Speed        0\n",
              "Vehicle 2 Speed        0\n",
              "Vehicle 3 Speed        0\n",
              "Vehicle 4 Speed        0\n",
              "Vehicle 5 Speed        0\n",
              "Vehicle 6 Speed        0\n",
              "Vehicle 7 Speed        0\n",
              "Vehicle 8 Speed        0\n",
              "Vehicle 9 Speed        0\n",
              "Vehicle 10 Speed       0\n",
              "Vehicle 11 Speed       0\n",
              "Vehicle 12 Speed       0\n",
              "Vehicle 13 Speed       0\n",
              "Vehicle 14 Speed       0\n",
              "Vehicle 15 Speed       0\n",
              "Vehicle 16 Speed       0\n",
              "Vehicle 17 Speed       0\n",
              "Vehicle 1 Position     0\n",
              "Vehicle 2 Position     0\n",
              "Vehicle 3 Position     0\n",
              "Vehicle 4 Position     0\n",
              "Vehicle 5 Position     0\n",
              "Vehicle 6 Position     0\n",
              "Vehicle 7 Position     0\n",
              "Vehicle 8 Position     0\n",
              "Vehicle 9 Position     0\n",
              "Vehicle 10 Position    0\n",
              "Vehicle 11 Position    0\n",
              "Vehicle 12 Position    0\n",
              "Vehicle 13 Position    0\n",
              "Vehicle 14 Position    0\n",
              "Vehicle 15 Position    0\n",
              "Vehicle 16 Position    0\n",
              "Vehicle 17 Position    0\n",
              "dtype: int64"
            ]
          },
          "metadata": {},
          "execution_count": 29
        }
      ],
      "source": [
        "df.isnull().sum()"
      ]
    },
    {
      "cell_type": "code",
      "execution_count": 30,
      "metadata": {
        "colab": {
          "base_uri": "https://localhost:8080/",
          "height": 502
        },
        "id": "MrGrsymXEn3b",
        "outputId": "d80982e8-033f-4a0b-ee1b-8070fcb1c950"
      },
      "outputs": [
        {
          "output_type": "execute_result",
          "data": {
            "text/html": [
              "\n",
              "  <div id=\"df-133b15ad-10e0-46d7-a28a-3ce6c15fed29\">\n",
              "    <div class=\"colab-df-container\">\n",
              "      <div>\n",
              "<style scoped>\n",
              "    .dataframe tbody tr th:only-of-type {\n",
              "        vertical-align: middle;\n",
              "    }\n",
              "\n",
              "    .dataframe tbody tr th {\n",
              "        vertical-align: top;\n",
              "    }\n",
              "\n",
              "    .dataframe thead th {\n",
              "        text-align: right;\n",
              "    }\n",
              "</style>\n",
              "<table border=\"1\" class=\"dataframe\">\n",
              "  <thead>\n",
              "    <tr style=\"text-align: right;\">\n",
              "      <th></th>\n",
              "      <th>Vehicle 1 Position</th>\n",
              "      <th>Vehicle 2 Position</th>\n",
              "      <th>Vehicle 3 Position</th>\n",
              "      <th>Vehicle 4 Position</th>\n",
              "      <th>Vehicle 5 Position</th>\n",
              "      <th>Vehicle 6 Position</th>\n",
              "      <th>Vehicle 7 Position</th>\n",
              "      <th>Vehicle 8 Position</th>\n",
              "      <th>Vehicle 9 Position</th>\n",
              "      <th>Vehicle 10 Position</th>\n",
              "      <th>Vehicle 11 Position</th>\n",
              "      <th>Vehicle 12 Position</th>\n",
              "      <th>Vehicle 13 Position</th>\n",
              "      <th>Vehicle 14 Position</th>\n",
              "      <th>Vehicle 15 Position</th>\n",
              "      <th>Vehicle 16 Position</th>\n",
              "      <th>Vehicle 17 Position</th>\n",
              "    </tr>\n",
              "  </thead>\n",
              "  <tbody>\n",
              "    <tr>\n",
              "      <th>0</th>\n",
              "      <td>0.028950</td>\n",
              "      <td>0.030405</td>\n",
              "      <td>0.029643</td>\n",
              "      <td>0.028240</td>\n",
              "      <td>0.028399</td>\n",
              "      <td>0.028917</td>\n",
              "      <td>0.029599</td>\n",
              "      <td>0.025812</td>\n",
              "      <td>0.029769</td>\n",
              "      <td>0.030708</td>\n",
              "      <td>0.028101</td>\n",
              "      <td>0.029805</td>\n",
              "      <td>0.012965</td>\n",
              "      <td>0.025751</td>\n",
              "      <td>0.031615</td>\n",
              "      <td>0.025937</td>\n",
              "      <td>0.005722</td>\n",
              "    </tr>\n",
              "    <tr>\n",
              "      <th>1</th>\n",
              "      <td>0.028174</td>\n",
              "      <td>0.029470</td>\n",
              "      <td>0.028187</td>\n",
              "      <td>0.029300</td>\n",
              "      <td>0.028755</td>\n",
              "      <td>0.031555</td>\n",
              "      <td>0.027172</td>\n",
              "      <td>0.030105</td>\n",
              "      <td>0.028598</td>\n",
              "      <td>0.023706</td>\n",
              "      <td>0.027791</td>\n",
              "      <td>0.028467</td>\n",
              "      <td>0.010624</td>\n",
              "      <td>0.025793</td>\n",
              "      <td>0.027447</td>\n",
              "      <td>0.029265</td>\n",
              "      <td>0.011641</td>\n",
              "    </tr>\n",
              "    <tr>\n",
              "      <th>2</th>\n",
              "      <td>0.026803</td>\n",
              "      <td>0.028105</td>\n",
              "      <td>0.028187</td>\n",
              "      <td>0.027900</td>\n",
              "      <td>0.027891</td>\n",
              "      <td>0.030134</td>\n",
              "      <td>0.029839</td>\n",
              "      <td>0.026537</td>\n",
              "      <td>0.026374</td>\n",
              "      <td>0.027863</td>\n",
              "      <td>0.027714</td>\n",
              "      <td>0.029686</td>\n",
              "      <td>0.010354</td>\n",
              "      <td>0.030225</td>\n",
              "      <td>0.027745</td>\n",
              "      <td>0.026473</td>\n",
              "      <td>0.021782</td>\n",
              "    </tr>\n",
              "    <tr>\n",
              "      <th>3</th>\n",
              "      <td>0.029385</td>\n",
              "      <td>0.030561</td>\n",
              "      <td>0.027171</td>\n",
              "      <td>0.027539</td>\n",
              "      <td>0.029797</td>\n",
              "      <td>0.026076</td>\n",
              "      <td>0.029407</td>\n",
              "      <td>0.024976</td>\n",
              "      <td>0.025867</td>\n",
              "      <td>0.024362</td>\n",
              "      <td>0.028023</td>\n",
              "      <td>0.028849</td>\n",
              "      <td>0.009724</td>\n",
              "      <td>0.026964</td>\n",
              "      <td>0.027983</td>\n",
              "      <td>0.028730</td>\n",
              "      <td>0.029793</td>\n",
              "    </tr>\n",
              "    <tr>\n",
              "      <th>4</th>\n",
              "      <td>0.027328</td>\n",
              "      <td>0.028066</td>\n",
              "      <td>0.028517</td>\n",
              "      <td>0.028473</td>\n",
              "      <td>0.028221</td>\n",
              "      <td>0.027192</td>\n",
              "      <td>0.028229</td>\n",
              "      <td>0.028767</td>\n",
              "      <td>0.030003</td>\n",
              "      <td>0.025237</td>\n",
              "      <td>0.028591</td>\n",
              "      <td>0.027415</td>\n",
              "      <td>0.006453</td>\n",
              "      <td>0.030601</td>\n",
              "      <td>0.030126</td>\n",
              "      <td>0.026932</td>\n",
              "      <td>0.030227</td>\n",
              "    </tr>\n",
              "    <tr>\n",
              "      <th>...</th>\n",
              "      <td>...</td>\n",
              "      <td>...</td>\n",
              "      <td>...</td>\n",
              "      <td>...</td>\n",
              "      <td>...</td>\n",
              "      <td>...</td>\n",
              "      <td>...</td>\n",
              "      <td>...</td>\n",
              "      <td>...</td>\n",
              "      <td>...</td>\n",
              "      <td>...</td>\n",
              "      <td>...</td>\n",
              "      <td>...</td>\n",
              "      <td>...</td>\n",
              "      <td>...</td>\n",
              "      <td>...</td>\n",
              "      <td>...</td>\n",
              "    </tr>\n",
              "    <tr>\n",
              "      <th>1465</th>\n",
              "      <td>0.029316</td>\n",
              "      <td>0.028144</td>\n",
              "      <td>0.028709</td>\n",
              "      <td>0.027051</td>\n",
              "      <td>0.029187</td>\n",
              "      <td>0.034193</td>\n",
              "      <td>0.027725</td>\n",
              "      <td>0.027206</td>\n",
              "      <td>0.028169</td>\n",
              "      <td>0.025675</td>\n",
              "      <td>0.026914</td>\n",
              "      <td>0.029088</td>\n",
              "      <td>0.028992</td>\n",
              "      <td>0.027674</td>\n",
              "      <td>0.031615</td>\n",
              "      <td>0.029877</td>\n",
              "      <td>0.028214</td>\n",
              "    </tr>\n",
              "    <tr>\n",
              "      <th>1466</th>\n",
              "      <td>0.028036</td>\n",
              "      <td>0.026351</td>\n",
              "      <td>0.027143</td>\n",
              "      <td>0.028982</td>\n",
              "      <td>0.029746</td>\n",
              "      <td>0.027902</td>\n",
              "      <td>0.028614</td>\n",
              "      <td>0.025478</td>\n",
              "      <td>0.027155</td>\n",
              "      <td>0.029103</td>\n",
              "      <td>0.028333</td>\n",
              "      <td>0.028132</td>\n",
              "      <td>0.028031</td>\n",
              "      <td>0.030852</td>\n",
              "      <td>0.030603</td>\n",
              "      <td>0.028156</td>\n",
              "      <td>0.027741</td>\n",
              "    </tr>\n",
              "    <tr>\n",
              "      <th>1467</th>\n",
              "      <td>0.029499</td>\n",
              "      <td>0.027949</td>\n",
              "      <td>0.029643</td>\n",
              "      <td>0.028749</td>\n",
              "      <td>0.029518</td>\n",
              "      <td>0.026481</td>\n",
              "      <td>0.029479</td>\n",
              "      <td>0.026202</td>\n",
              "      <td>0.025750</td>\n",
              "      <td>0.030489</td>\n",
              "      <td>0.029055</td>\n",
              "      <td>0.027558</td>\n",
              "      <td>0.028661</td>\n",
              "      <td>0.026671</td>\n",
              "      <td>0.031972</td>\n",
              "      <td>0.029839</td>\n",
              "      <td>0.030464</td>\n",
              "    </tr>\n",
              "    <tr>\n",
              "      <th>1468</th>\n",
              "      <td>0.028631</td>\n",
              "      <td>0.027404</td>\n",
              "      <td>0.028050</td>\n",
              "      <td>0.029364</td>\n",
              "      <td>0.027916</td>\n",
              "      <td>0.023945</td>\n",
              "      <td>0.029839</td>\n",
              "      <td>0.026202</td>\n",
              "      <td>0.029106</td>\n",
              "      <td>0.029978</td>\n",
              "      <td>0.029907</td>\n",
              "      <td>0.027033</td>\n",
              "      <td>0.026591</td>\n",
              "      <td>0.028343</td>\n",
              "      <td>0.026792</td>\n",
              "      <td>0.028500</td>\n",
              "      <td>0.028017</td>\n",
              "    </tr>\n",
              "    <tr>\n",
              "      <th>1469</th>\n",
              "      <td>0.026985</td>\n",
              "      <td>0.028222</td>\n",
              "      <td>0.026567</td>\n",
              "      <td>0.027624</td>\n",
              "      <td>0.028933</td>\n",
              "      <td>0.021408</td>\n",
              "      <td>0.029527</td>\n",
              "      <td>0.026983</td>\n",
              "      <td>0.026062</td>\n",
              "      <td>0.032750</td>\n",
              "      <td>0.026604</td>\n",
              "      <td>0.029614</td>\n",
              "      <td>0.026711</td>\n",
              "      <td>0.028720</td>\n",
              "      <td>0.031436</td>\n",
              "      <td>0.027276</td>\n",
              "      <td>0.028293</td>\n",
              "    </tr>\n",
              "  </tbody>\n",
              "</table>\n",
              "<p>1470 rows × 17 columns</p>\n",
              "</div>\n",
              "      <button class=\"colab-df-convert\" onclick=\"convertToInteractive('df-133b15ad-10e0-46d7-a28a-3ce6c15fed29')\"\n",
              "              title=\"Convert this dataframe to an interactive table.\"\n",
              "              style=\"display:none;\">\n",
              "        \n",
              "  <svg xmlns=\"http://www.w3.org/2000/svg\" height=\"24px\"viewBox=\"0 0 24 24\"\n",
              "       width=\"24px\">\n",
              "    <path d=\"M0 0h24v24H0V0z\" fill=\"none\"/>\n",
              "    <path d=\"M18.56 5.44l.94 2.06.94-2.06 2.06-.94-2.06-.94-.94-2.06-.94 2.06-2.06.94zm-11 1L8.5 8.5l.94-2.06 2.06-.94-2.06-.94L8.5 2.5l-.94 2.06-2.06.94zm10 10l.94 2.06.94-2.06 2.06-.94-2.06-.94-.94-2.06-.94 2.06-2.06.94z\"/><path d=\"M17.41 7.96l-1.37-1.37c-.4-.4-.92-.59-1.43-.59-.52 0-1.04.2-1.43.59L10.3 9.45l-7.72 7.72c-.78.78-.78 2.05 0 2.83L4 21.41c.39.39.9.59 1.41.59.51 0 1.02-.2 1.41-.59l7.78-7.78 2.81-2.81c.8-.78.8-2.07 0-2.86zM5.41 20L4 18.59l7.72-7.72 1.47 1.35L5.41 20z\"/>\n",
              "  </svg>\n",
              "      </button>\n",
              "      \n",
              "  <style>\n",
              "    .colab-df-container {\n",
              "      display:flex;\n",
              "      flex-wrap:wrap;\n",
              "      gap: 12px;\n",
              "    }\n",
              "\n",
              "    .colab-df-convert {\n",
              "      background-color: #E8F0FE;\n",
              "      border: none;\n",
              "      border-radius: 50%;\n",
              "      cursor: pointer;\n",
              "      display: none;\n",
              "      fill: #1967D2;\n",
              "      height: 32px;\n",
              "      padding: 0 0 0 0;\n",
              "      width: 32px;\n",
              "    }\n",
              "\n",
              "    .colab-df-convert:hover {\n",
              "      background-color: #E2EBFA;\n",
              "      box-shadow: 0px 1px 2px rgba(60, 64, 67, 0.3), 0px 1px 3px 1px rgba(60, 64, 67, 0.15);\n",
              "      fill: #174EA6;\n",
              "    }\n",
              "\n",
              "    [theme=dark] .colab-df-convert {\n",
              "      background-color: #3B4455;\n",
              "      fill: #D2E3FC;\n",
              "    }\n",
              "\n",
              "    [theme=dark] .colab-df-convert:hover {\n",
              "      background-color: #434B5C;\n",
              "      box-shadow: 0px 1px 3px 1px rgba(0, 0, 0, 0.15);\n",
              "      filter: drop-shadow(0px 1px 2px rgba(0, 0, 0, 0.3));\n",
              "      fill: #FFFFFF;\n",
              "    }\n",
              "  </style>\n",
              "\n",
              "      <script>\n",
              "        const buttonEl =\n",
              "          document.querySelector('#df-133b15ad-10e0-46d7-a28a-3ce6c15fed29 button.colab-df-convert');\n",
              "        buttonEl.style.display =\n",
              "          google.colab.kernel.accessAllowed ? 'block' : 'none';\n",
              "\n",
              "        async function convertToInteractive(key) {\n",
              "          const element = document.querySelector('#df-133b15ad-10e0-46d7-a28a-3ce6c15fed29');\n",
              "          const dataTable =\n",
              "            await google.colab.kernel.invokeFunction('convertToInteractive',\n",
              "                                                     [key], {});\n",
              "          if (!dataTable) return;\n",
              "\n",
              "          const docLinkHtml = 'Like what you see? Visit the ' +\n",
              "            '<a target=\"_blank\" href=https://colab.research.google.com/notebooks/data_table.ipynb>data table notebook</a>'\n",
              "            + ' to learn more about interactive tables.';\n",
              "          element.innerHTML = '';\n",
              "          dataTable['output_type'] = 'display_data';\n",
              "          await google.colab.output.renderOutput(dataTable, element);\n",
              "          const docLink = document.createElement('div');\n",
              "          docLink.innerHTML = docLinkHtml;\n",
              "          element.appendChild(docLink);\n",
              "        }\n",
              "      </script>\n",
              "    </div>\n",
              "  </div>\n",
              "  "
            ],
            "text/plain": [
              "      Vehicle 1 Position  ...  Vehicle 17 Position\n",
              "0               0.028950  ...             0.005722\n",
              "1               0.028174  ...             0.011641\n",
              "2               0.026803  ...             0.021782\n",
              "3               0.029385  ...             0.029793\n",
              "4               0.027328  ...             0.030227\n",
              "...                  ...  ...                  ...\n",
              "1465            0.029316  ...             0.028214\n",
              "1466            0.028036  ...             0.027741\n",
              "1467            0.029499  ...             0.030464\n",
              "1468            0.028631  ...             0.028017\n",
              "1469            0.026985  ...             0.028293\n",
              "\n",
              "[1470 rows x 17 columns]"
            ]
          },
          "metadata": {},
          "execution_count": 30
        }
      ],
      "source": [
        "# speed\n",
        "df_speed=df.iloc[:,17:]\n",
        "df_speed"
      ]
    },
    {
      "cell_type": "code",
      "execution_count": 31,
      "metadata": {
        "colab": {
          "base_uri": "https://localhost:8080/",
          "height": 485
        },
        "id": "Cu8tIWpYOeW3",
        "outputId": "6fe202a5-f1d5-42ea-8751-8e1f4de00674"
      },
      "outputs": [
        {
          "output_type": "execute_result",
          "data": {
            "text/html": [
              "\n",
              "  <div id=\"df-834b2f54-7bf8-495a-abc0-7d99b8d1341d\">\n",
              "    <div class=\"colab-df-container\">\n",
              "      <div>\n",
              "<style scoped>\n",
              "    .dataframe tbody tr th:only-of-type {\n",
              "        vertical-align: middle;\n",
              "    }\n",
              "\n",
              "    .dataframe tbody tr th {\n",
              "        vertical-align: top;\n",
              "    }\n",
              "\n",
              "    .dataframe thead th {\n",
              "        text-align: right;\n",
              "    }\n",
              "</style>\n",
              "<table border=\"1\" class=\"dataframe\">\n",
              "  <thead>\n",
              "    <tr style=\"text-align: right;\">\n",
              "      <th></th>\n",
              "      <th>Vehicle 1 Speed</th>\n",
              "      <th>Vehicle 2 Speed</th>\n",
              "      <th>Vehicle 3 Speed</th>\n",
              "      <th>Vehicle 4 Speed</th>\n",
              "      <th>Vehicle 5 Speed</th>\n",
              "      <th>Vehicle 6 Speed</th>\n",
              "      <th>Vehicle 7 Speed</th>\n",
              "      <th>Vehicle 8 Speed</th>\n",
              "      <th>Vehicle 9 Speed</th>\n",
              "      <th>Vehicle 10 Speed</th>\n",
              "      <th>Vehicle 11 Speed</th>\n",
              "      <th>Vehicle 12 Speed</th>\n",
              "      <th>Vehicle 13 Speed</th>\n",
              "      <th>Vehicle 14 Speed</th>\n",
              "      <th>Vehicle 15 Speed</th>\n",
              "      <th>Vehicle 16 Speed</th>\n",
              "      <th>Vehicle 17 Speed</th>\n",
              "    </tr>\n",
              "  </thead>\n",
              "  <tbody>\n",
              "    <tr>\n",
              "      <th>0</th>\n",
              "      <td>0.027346</td>\n",
              "      <td>0.047985</td>\n",
              "      <td>0.054706</td>\n",
              "      <td>0.013352</td>\n",
              "      <td>0.004822</td>\n",
              "      <td>-0.011490</td>\n",
              "      <td>0.009579</td>\n",
              "      <td>-0.016915</td>\n",
              "      <td>0.047802</td>\n",
              "      <td>0.029120</td>\n",
              "      <td>0.017873</td>\n",
              "      <td>0.050087</td>\n",
              "      <td>-0.094419</td>\n",
              "      <td>-0.040123</td>\n",
              "      <td>0.050998</td>\n",
              "      <td>0.052596</td>\n",
              "      <td>0.075763</td>\n",
              "    </tr>\n",
              "    <tr>\n",
              "      <th>1</th>\n",
              "      <td>-0.017027</td>\n",
              "      <td>-0.013087</td>\n",
              "      <td>-0.028707</td>\n",
              "      <td>0.027239</td>\n",
              "      <td>0.008036</td>\n",
              "      <td>0.014226</td>\n",
              "      <td>-0.053747</td>\n",
              "      <td>0.041230</td>\n",
              "      <td>-0.015759</td>\n",
              "      <td>-0.050828</td>\n",
              "      <td>-0.005958</td>\n",
              "      <td>-0.030160</td>\n",
              "      <td>-0.040026</td>\n",
              "      <td>0.000521</td>\n",
              "      <td>-0.036575</td>\n",
              "      <td>0.045305</td>\n",
              "      <td>0.077853</td>\n",
              "    </tr>\n",
              "    <tr>\n",
              "      <th>2</th>\n",
              "      <td>-0.030958</td>\n",
              "      <td>-0.019085</td>\n",
              "      <td>0.000000</td>\n",
              "      <td>-0.035784</td>\n",
              "      <td>-0.018215</td>\n",
              "      <td>-0.007113</td>\n",
              "      <td>0.059069</td>\n",
              "      <td>-0.033829</td>\n",
              "      <td>-0.029942</td>\n",
              "      <td>0.030179</td>\n",
              "      <td>-0.001083</td>\n",
              "      <td>0.026929</td>\n",
              "      <td>-0.005131</td>\n",
              "      <td>0.055755</td>\n",
              "      <td>0.002061</td>\n",
              "      <td>-0.038015</td>\n",
              "      <td>0.134806</td>\n",
              "    </tr>\n",
              "    <tr>\n",
              "      <th>3</th>\n",
              "      <td>0.058304</td>\n",
              "      <td>0.034353</td>\n",
              "      <td>-0.020582</td>\n",
              "      <td>-0.009080</td>\n",
              "      <td>0.040180</td>\n",
              "      <td>-0.022433</td>\n",
              "      <td>-0.009579</td>\n",
              "      <td>-0.014800</td>\n",
              "      <td>-0.006829</td>\n",
              "      <td>-0.025414</td>\n",
              "      <td>0.005958</td>\n",
              "      <td>-0.018311</td>\n",
              "      <td>-0.010263</td>\n",
              "      <td>-0.041165</td>\n",
              "      <td>0.003091</td>\n",
              "      <td>0.030724</td>\n",
              "      <td>0.106068</td>\n",
              "    </tr>\n",
              "    <tr>\n",
              "      <th>4</th>\n",
              "      <td>-0.046437</td>\n",
              "      <td>-0.034898</td>\n",
              "      <td>0.027082</td>\n",
              "      <td>0.023500</td>\n",
              "      <td>-0.033216</td>\n",
              "      <td>0.006019</td>\n",
              "      <td>-0.026608</td>\n",
              "      <td>0.035944</td>\n",
              "      <td>0.056206</td>\n",
              "      <td>0.006353</td>\n",
              "      <td>0.011915</td>\n",
              "      <td>-0.032314</td>\n",
              "      <td>-0.055933</td>\n",
              "      <td>0.045333</td>\n",
              "      <td>0.018030</td>\n",
              "      <td>-0.024475</td>\n",
              "      <td>0.006270</td>\n",
              "    </tr>\n",
              "    <tr>\n",
              "      <th>...</th>\n",
              "      <td>...</td>\n",
              "      <td>...</td>\n",
              "      <td>...</td>\n",
              "      <td>...</td>\n",
              "      <td>...</td>\n",
              "      <td>...</td>\n",
              "      <td>...</td>\n",
              "      <td>...</td>\n",
              "      <td>...</td>\n",
              "      <td>...</td>\n",
              "      <td>...</td>\n",
              "      <td>...</td>\n",
              "      <td>...</td>\n",
              "      <td>...</td>\n",
              "      <td>...</td>\n",
              "      <td>...</td>\n",
              "      <td>...</td>\n",
              "    </tr>\n",
              "    <tr>\n",
              "      <th>1465</th>\n",
              "      <td>0.055208</td>\n",
              "      <td>0.023447</td>\n",
              "      <td>-0.010833</td>\n",
              "      <td>-0.055012</td>\n",
              "      <td>0.049288</td>\n",
              "      <td>0.054167</td>\n",
              "      <td>-0.026608</td>\n",
              "      <td>0.001586</td>\n",
              "      <td>-0.020486</td>\n",
              "      <td>-0.009530</td>\n",
              "      <td>-0.013540</td>\n",
              "      <td>-0.016157</td>\n",
              "      <td>0.016421</td>\n",
              "      <td>0.005732</td>\n",
              "      <td>0.060271</td>\n",
              "      <td>0.045826</td>\n",
              "      <td>-0.031873</td>\n",
              "    </tr>\n",
              "    <tr>\n",
              "      <th>1466</th>\n",
              "      <td>-0.028894</td>\n",
              "      <td>-0.025083</td>\n",
              "      <td>-0.030874</td>\n",
              "      <td>0.049137</td>\n",
              "      <td>0.011250</td>\n",
              "      <td>-0.033923</td>\n",
              "      <td>0.019690</td>\n",
              "      <td>-0.015858</td>\n",
              "      <td>-0.013658</td>\n",
              "      <td>0.024884</td>\n",
              "      <td>0.029247</td>\n",
              "      <td>-0.022081</td>\n",
              "      <td>-0.017447</td>\n",
              "      <td>0.039602</td>\n",
              "      <td>-0.008757</td>\n",
              "      <td>-0.023434</td>\n",
              "      <td>-0.006793</td>\n",
              "    </tr>\n",
              "    <tr>\n",
              "      <th>1467</th>\n",
              "      <td>0.033022</td>\n",
              "      <td>0.022356</td>\n",
              "      <td>0.049290</td>\n",
              "      <td>-0.005875</td>\n",
              "      <td>-0.005357</td>\n",
              "      <td>-0.007660</td>\n",
              "      <td>0.019157</td>\n",
              "      <td>0.006872</td>\n",
              "      <td>-0.018911</td>\n",
              "      <td>0.010060</td>\n",
              "      <td>0.015707</td>\n",
              "      <td>-0.011849</td>\n",
              "      <td>0.011289</td>\n",
              "      <td>-0.052107</td>\n",
              "      <td>0.011848</td>\n",
              "      <td>0.022913</td>\n",
              "      <td>0.036053</td>\n",
              "    </tr>\n",
              "    <tr>\n",
              "      <th>1468</th>\n",
              "      <td>-0.019607</td>\n",
              "      <td>-0.007634</td>\n",
              "      <td>-0.031415</td>\n",
              "      <td>0.015489</td>\n",
              "      <td>-0.033216</td>\n",
              "      <td>-0.014226</td>\n",
              "      <td>0.007982</td>\n",
              "      <td>0.000000</td>\n",
              "      <td>0.045175</td>\n",
              "      <td>-0.003706</td>\n",
              "      <td>0.017873</td>\n",
              "      <td>-0.012387</td>\n",
              "      <td>-0.034894</td>\n",
              "      <td>0.020843</td>\n",
              "      <td>-0.044817</td>\n",
              "      <td>-0.018226</td>\n",
              "      <td>-0.031873</td>\n",
              "    </tr>\n",
              "    <tr>\n",
              "      <th>1469</th>\n",
              "      <td>-0.037149</td>\n",
              "      <td>0.011451</td>\n",
              "      <td>-0.029790</td>\n",
              "      <td>-0.043262</td>\n",
              "      <td>0.021430</td>\n",
              "      <td>-0.012584</td>\n",
              "      <td>-0.006386</td>\n",
              "      <td>0.007400</td>\n",
              "      <td>-0.040973</td>\n",
              "      <td>0.020119</td>\n",
              "      <td>-0.069326</td>\n",
              "      <td>0.058166</td>\n",
              "      <td>0.001539</td>\n",
              "      <td>0.005211</td>\n",
              "      <td>0.040181</td>\n",
              "      <td>-0.016664</td>\n",
              "      <td>0.003135</td>\n",
              "    </tr>\n",
              "  </tbody>\n",
              "</table>\n",
              "<p>1470 rows × 17 columns</p>\n",
              "</div>\n",
              "      <button class=\"colab-df-convert\" onclick=\"convertToInteractive('df-834b2f54-7bf8-495a-abc0-7d99b8d1341d')\"\n",
              "              title=\"Convert this dataframe to an interactive table.\"\n",
              "              style=\"display:none;\">\n",
              "        \n",
              "  <svg xmlns=\"http://www.w3.org/2000/svg\" height=\"24px\"viewBox=\"0 0 24 24\"\n",
              "       width=\"24px\">\n",
              "    <path d=\"M0 0h24v24H0V0z\" fill=\"none\"/>\n",
              "    <path d=\"M18.56 5.44l.94 2.06.94-2.06 2.06-.94-2.06-.94-.94-2.06-.94 2.06-2.06.94zm-11 1L8.5 8.5l.94-2.06 2.06-.94-2.06-.94L8.5 2.5l-.94 2.06-2.06.94zm10 10l.94 2.06.94-2.06 2.06-.94-2.06-.94-.94-2.06-.94 2.06-2.06.94z\"/><path d=\"M17.41 7.96l-1.37-1.37c-.4-.4-.92-.59-1.43-.59-.52 0-1.04.2-1.43.59L10.3 9.45l-7.72 7.72c-.78.78-.78 2.05 0 2.83L4 21.41c.39.39.9.59 1.41.59.51 0 1.02-.2 1.41-.59l7.78-7.78 2.81-2.81c.8-.78.8-2.07 0-2.86zM5.41 20L4 18.59l7.72-7.72 1.47 1.35L5.41 20z\"/>\n",
              "  </svg>\n",
              "      </button>\n",
              "      \n",
              "  <style>\n",
              "    .colab-df-container {\n",
              "      display:flex;\n",
              "      flex-wrap:wrap;\n",
              "      gap: 12px;\n",
              "    }\n",
              "\n",
              "    .colab-df-convert {\n",
              "      background-color: #E8F0FE;\n",
              "      border: none;\n",
              "      border-radius: 50%;\n",
              "      cursor: pointer;\n",
              "      display: none;\n",
              "      fill: #1967D2;\n",
              "      height: 32px;\n",
              "      padding: 0 0 0 0;\n",
              "      width: 32px;\n",
              "    }\n",
              "\n",
              "    .colab-df-convert:hover {\n",
              "      background-color: #E2EBFA;\n",
              "      box-shadow: 0px 1px 2px rgba(60, 64, 67, 0.3), 0px 1px 3px 1px rgba(60, 64, 67, 0.15);\n",
              "      fill: #174EA6;\n",
              "    }\n",
              "\n",
              "    [theme=dark] .colab-df-convert {\n",
              "      background-color: #3B4455;\n",
              "      fill: #D2E3FC;\n",
              "    }\n",
              "\n",
              "    [theme=dark] .colab-df-convert:hover {\n",
              "      background-color: #434B5C;\n",
              "      box-shadow: 0px 1px 3px 1px rgba(0, 0, 0, 0.15);\n",
              "      filter: drop-shadow(0px 1px 2px rgba(0, 0, 0, 0.3));\n",
              "      fill: #FFFFFF;\n",
              "    }\n",
              "  </style>\n",
              "\n",
              "      <script>\n",
              "        const buttonEl =\n",
              "          document.querySelector('#df-834b2f54-7bf8-495a-abc0-7d99b8d1341d button.colab-df-convert');\n",
              "        buttonEl.style.display =\n",
              "          google.colab.kernel.accessAllowed ? 'block' : 'none';\n",
              "\n",
              "        async function convertToInteractive(key) {\n",
              "          const element = document.querySelector('#df-834b2f54-7bf8-495a-abc0-7d99b8d1341d');\n",
              "          const dataTable =\n",
              "            await google.colab.kernel.invokeFunction('convertToInteractive',\n",
              "                                                     [key], {});\n",
              "          if (!dataTable) return;\n",
              "\n",
              "          const docLinkHtml = 'Like what you see? Visit the ' +\n",
              "            '<a target=\"_blank\" href=https://colab.research.google.com/notebooks/data_table.ipynb>data table notebook</a>'\n",
              "            + ' to learn more about interactive tables.';\n",
              "          element.innerHTML = '';\n",
              "          dataTable['output_type'] = 'display_data';\n",
              "          await google.colab.output.renderOutput(dataTable, element);\n",
              "          const docLink = document.createElement('div');\n",
              "          docLink.innerHTML = docLinkHtml;\n",
              "          element.appendChild(docLink);\n",
              "        }\n",
              "      </script>\n",
              "    </div>\n",
              "  </div>\n",
              "  "
            ],
            "text/plain": [
              "      Vehicle 1 Speed  Vehicle 2 Speed  ...  Vehicle 16 Speed  Vehicle 17 Speed\n",
              "0            0.027346         0.047985  ...          0.052596          0.075763\n",
              "1           -0.017027        -0.013087  ...          0.045305          0.077853\n",
              "2           -0.030958        -0.019085  ...         -0.038015          0.134806\n",
              "3            0.058304         0.034353  ...          0.030724          0.106068\n",
              "4           -0.046437        -0.034898  ...         -0.024475          0.006270\n",
              "...               ...              ...  ...               ...               ...\n",
              "1465         0.055208         0.023447  ...          0.045826         -0.031873\n",
              "1466        -0.028894        -0.025083  ...         -0.023434         -0.006793\n",
              "1467         0.033022         0.022356  ...          0.022913          0.036053\n",
              "1468        -0.019607        -0.007634  ...         -0.018226         -0.031873\n",
              "1469        -0.037149         0.011451  ...         -0.016664          0.003135\n",
              "\n",
              "[1470 rows x 17 columns]"
            ]
          },
          "metadata": {},
          "execution_count": 31
        }
      ],
      "source": [
        "# position\n",
        "df_pos=df.iloc[:,:17]\n",
        "df_pos"
      ]
    },
    {
      "cell_type": "code",
      "execution_count": 32,
      "metadata": {
        "id": "wEh2JKnSEsw9"
      },
      "outputs": [],
      "source": [
        "# speed\n",
        "# splitting train/test data\n",
        "train_df = df_speed.iloc[:1200, :]\n",
        "test_df = df_speed.iloc[1200:, :]\n"
      ]
    },
    {
      "cell_type": "code",
      "execution_count": 33,
      "metadata": {
        "colab": {
          "base_uri": "https://localhost:8080/"
        },
        "id": "aIwqDjTnRfgb",
        "outputId": "0bdc6bea-7cb9-4c08-c1c4-a372837a0f66"
      },
      "outputs": [
        {
          "output_type": "stream",
          "name": "stdout",
          "text": [
            "(1200, 17)\n",
            "(270, 17)\n"
          ]
        }
      ],
      "source": [
        "print(train_df.shape)\n",
        "print(test_df.shape)"
      ]
    },
    {
      "cell_type": "code",
      "execution_count": 34,
      "metadata": {
        "id": "3ieqxZ0NOmXF"
      },
      "outputs": [],
      "source": [
        "# position\n",
        "# splitting train/test data\n",
        "train_df_pos = df_pos.iloc[:1200, :]\n",
        "test_df_pos = df_pos.iloc[1200:, :]\n"
      ]
    },
    {
      "cell_type": "code",
      "execution_count": 35,
      "metadata": {
        "colab": {
          "base_uri": "https://localhost:8080/"
        },
        "id": "XSUifYVuE1T5",
        "outputId": "424bf028-38a7-42d2-d58f-66efd348498a"
      },
      "outputs": [
        {
          "output_type": "stream",
          "name": "stdout",
          "text": [
            "(1200, 17)\n",
            "(270, 17)\n"
          ]
        }
      ],
      "source": [
        "print(train_df_pos.shape)\n",
        "print(test_df_pos.shape)"
      ]
    },
    {
      "cell_type": "code",
      "execution_count": 36,
      "metadata": {
        "id": "HBZF2ISvGIbD"
      },
      "outputs": [],
      "source": [
        "# prepare data to be fed into the LSTM/RNN/GRU model\n",
        "def create_dataset(data, steps):\n",
        "  features, labels = [], []\n",
        "  for i in range(len(data)-steps):\n",
        "    data_seq = data[i: i+steps, :]\n",
        "    features.append(data_seq)\n",
        "\n",
        "    seq_label = data[i+steps, :]\n",
        "    labels.append(seq_label)\n",
        "\n",
        "  return np.array(features), np.array(labels)"
      ]
    },
    {
      "cell_type": "code",
      "execution_count": 37,
      "metadata": {
        "id": "jrYw5_H1GaS1"
      },
      "outputs": [],
      "source": [
        "# speed\n",
        "TIME_STEPS = 2\n",
        "\n",
        "train_features, train_labels = create_dataset(train_df.to_numpy(), TIME_STEPS)\n",
        "test_features, test_labels = create_dataset(test_df.to_numpy(), TIME_STEPS)"
      ]
    },
    {
      "cell_type": "code",
      "execution_count": 38,
      "metadata": {
        "id": "DMB-1kEAPPJ9"
      },
      "outputs": [],
      "source": [
        "# position\n",
        "train_features_pos, train_labels_pos = create_dataset(train_df_pos.to_numpy(), TIME_STEPS)\n",
        "test_features_pos, test_labels_pos = create_dataset(test_df_pos.to_numpy(), TIME_STEPS)"
      ]
    },
    {
      "cell_type": "code",
      "execution_count": 39,
      "metadata": {
        "id": "UYulJR93Gctz"
      },
      "outputs": [],
      "source": [
        "# speed\n",
        "from keras.backend import dropout\n",
        "model_s = keras.models.Sequential()\n",
        "model_s.add(keras.layers.LSTM(50, input_shape=(train_features.shape[1], train_features.shape[2]),activation=\"relu\" ,return_sequences=True) )\n",
        "model_s.add(keras.layers.LSTM(5))\n",
        "model_s.add(keras.layers.Dense(17))\n",
        "\n",
        "model_s.compile(optimizer='adam', loss=['mse'], metrics=['mae', 'mean_absolute_percentage_error'])\n"
      ]
    },
    {
      "cell_type": "code",
      "execution_count": 69,
      "metadata": {
        "id": "dg2sIBecUtRr"
      },
      "outputs": [],
      "source": [
        "# position\n",
        "from keras.backend import dropout\n",
        "model_p = keras.models.Sequential()\n",
        "model_p.add(keras.layers.LSTM(17, input_shape=(train_features.shape[1], train_features.shape[2]),activation=\"relu\" ,return_sequences=True) )\n",
        "model_p.add(keras.layers.LSTM(8))\n",
        "model_p.add(keras.layers.Dense(17))\n",
        "\n",
        "model_p.compile(optimizer='adam', loss=['mse'], metrics=['mae'])\n"
      ]
    },
    {
      "cell_type": "code",
      "execution_count": 41,
      "metadata": {
        "colab": {
          "base_uri": "https://localhost:8080/"
        },
        "id": "99lU1T3SR-HZ",
        "outputId": "a9e48581-b00d-4687-99d7-0181b67e6e6d"
      },
      "outputs": [
        {
          "output_type": "stream",
          "name": "stdout",
          "text": [
            "Epoch 1/120\n",
            "17/17 [==============================] - 7s 51ms/step - loss: 4.0962e-04 - mae: 0.0192 - mean_absolute_percentage_error: 68.0006 - val_loss: 9.4352e-05 - val_mae: 0.0088 - val_mean_absolute_percentage_error: 30.8022\n",
            "Epoch 2/120\n",
            "17/17 [==============================] - 0s 8ms/step - loss: 3.5064e-05 - mae: 0.0045 - mean_absolute_percentage_error: 16.0921 - val_loss: 1.1379e-05 - val_mae: 0.0028 - val_mean_absolute_percentage_error: 10.2000\n",
            "Epoch 3/120\n",
            "17/17 [==============================] - 0s 6ms/step - loss: 7.7253e-06 - mae: 0.0022 - mean_absolute_percentage_error: 8.2171 - val_loss: 4.9803e-06 - val_mae: 0.0017 - val_mean_absolute_percentage_error: 6.2478\n",
            "Epoch 4/120\n",
            "17/17 [==============================] - 0s 7ms/step - loss: 4.6533e-06 - mae: 0.0016 - mean_absolute_percentage_error: 5.9949 - val_loss: 3.3574e-06 - val_mae: 0.0014 - val_mean_absolute_percentage_error: 5.0628\n",
            "Epoch 5/120\n",
            "17/17 [==============================] - 0s 7ms/step - loss: 3.3353e-06 - mae: 0.0014 - mean_absolute_percentage_error: 4.9795 - val_loss: 3.0634e-06 - val_mae: 0.0013 - val_mean_absolute_percentage_error: 4.7857\n",
            "Epoch 6/120\n",
            "17/17 [==============================] - 0s 7ms/step - loss: 3.2834e-06 - mae: 0.0013 - mean_absolute_percentage_error: 4.9372 - val_loss: 2.9822e-06 - val_mae: 0.0013 - val_mean_absolute_percentage_error: 4.7288\n",
            "Epoch 7/120\n",
            "17/17 [==============================] - 0s 8ms/step - loss: 3.2402e-06 - mae: 0.0013 - mean_absolute_percentage_error: 4.9060 - val_loss: 2.9826e-06 - val_mae: 0.0013 - val_mean_absolute_percentage_error: 4.7469\n",
            "Epoch 8/120\n",
            "17/17 [==============================] - 0s 7ms/step - loss: 3.2413e-06 - mae: 0.0013 - mean_absolute_percentage_error: 4.9123 - val_loss: 2.9851e-06 - val_mae: 0.0013 - val_mean_absolute_percentage_error: 4.7449\n",
            "Epoch 9/120\n",
            "17/17 [==============================] - 0s 7ms/step - loss: 3.2425e-06 - mae: 0.0013 - mean_absolute_percentage_error: 4.9088 - val_loss: 2.9845e-06 - val_mae: 0.0013 - val_mean_absolute_percentage_error: 4.7416\n",
            "Epoch 10/120\n",
            "17/17 [==============================] - 0s 8ms/step - loss: 3.2427e-06 - mae: 0.0013 - mean_absolute_percentage_error: 4.9096 - val_loss: 2.9862e-06 - val_mae: 0.0013 - val_mean_absolute_percentage_error: 4.7443\n",
            "Epoch 11/120\n",
            "17/17 [==============================] - 0s 7ms/step - loss: 3.2445e-06 - mae: 0.0013 - mean_absolute_percentage_error: 4.9110 - val_loss: 2.9875e-06 - val_mae: 0.0013 - val_mean_absolute_percentage_error: 4.7452\n",
            "Epoch 12/120\n",
            "17/17 [==============================] - 0s 7ms/step - loss: 3.2457e-06 - mae: 0.0013 - mean_absolute_percentage_error: 4.9115 - val_loss: 2.9885e-06 - val_mae: 0.0013 - val_mean_absolute_percentage_error: 4.7458\n",
            "Epoch 13/120\n",
            "17/17 [==============================] - 0s 7ms/step - loss: 3.2468e-06 - mae: 0.0013 - mean_absolute_percentage_error: 4.9123 - val_loss: 2.9893e-06 - val_mae: 0.0013 - val_mean_absolute_percentage_error: 4.7465\n",
            "Epoch 14/120\n",
            "17/17 [==============================] - 0s 6ms/step - loss: 3.2479e-06 - mae: 0.0013 - mean_absolute_percentage_error: 4.9129 - val_loss: 2.9902e-06 - val_mae: 0.0013 - val_mean_absolute_percentage_error: 4.7472\n",
            "Epoch 15/120\n",
            "17/17 [==============================] - 0s 7ms/step - loss: 3.2489e-06 - mae: 0.0013 - mean_absolute_percentage_error: 4.9135 - val_loss: 2.9909e-06 - val_mae: 0.0013 - val_mean_absolute_percentage_error: 4.7477\n",
            "Epoch 16/120\n",
            "17/17 [==============================] - 0s 7ms/step - loss: 3.2498e-06 - mae: 0.0013 - mean_absolute_percentage_error: 4.9141 - val_loss: 2.9915e-06 - val_mae: 0.0013 - val_mean_absolute_percentage_error: 4.7482\n",
            "Epoch 17/120\n",
            "17/17 [==============================] - 0s 8ms/step - loss: 3.2507e-06 - mae: 0.0013 - mean_absolute_percentage_error: 4.9146 - val_loss: 2.9921e-06 - val_mae: 0.0013 - val_mean_absolute_percentage_error: 4.7487\n",
            "Epoch 18/120\n",
            "17/17 [==============================] - 0s 7ms/step - loss: 3.2515e-06 - mae: 0.0013 - mean_absolute_percentage_error: 4.9151 - val_loss: 2.9927e-06 - val_mae: 0.0013 - val_mean_absolute_percentage_error: 4.7492\n",
            "Epoch 19/120\n",
            "17/17 [==============================] - 0s 7ms/step - loss: 3.2523e-06 - mae: 0.0013 - mean_absolute_percentage_error: 4.9156 - val_loss: 2.9932e-06 - val_mae: 0.0013 - val_mean_absolute_percentage_error: 4.7496\n",
            "Epoch 20/120\n",
            "17/17 [==============================] - 0s 8ms/step - loss: 3.2531e-06 - mae: 0.0013 - mean_absolute_percentage_error: 4.9161 - val_loss: 2.9936e-06 - val_mae: 0.0013 - val_mean_absolute_percentage_error: 4.7500\n",
            "Epoch 21/120\n",
            "17/17 [==============================] - 0s 7ms/step - loss: 3.2539e-06 - mae: 0.0013 - mean_absolute_percentage_error: 4.9165 - val_loss: 2.9941e-06 - val_mae: 0.0013 - val_mean_absolute_percentage_error: 4.7504\n",
            "Epoch 22/120\n",
            "17/17 [==============================] - 0s 7ms/step - loss: 3.2546e-06 - mae: 0.0013 - mean_absolute_percentage_error: 4.9170 - val_loss: 2.9945e-06 - val_mae: 0.0013 - val_mean_absolute_percentage_error: 4.7507\n",
            "Epoch 23/120\n",
            "17/17 [==============================] - 0s 7ms/step - loss: 3.2553e-06 - mae: 0.0013 - mean_absolute_percentage_error: 4.9174 - val_loss: 2.9948e-06 - val_mae: 0.0013 - val_mean_absolute_percentage_error: 4.7510\n",
            "Epoch 24/120\n",
            "17/17 [==============================] - 0s 7ms/step - loss: 3.2560e-06 - mae: 0.0013 - mean_absolute_percentage_error: 4.9178 - val_loss: 2.9952e-06 - val_mae: 0.0013 - val_mean_absolute_percentage_error: 4.7513\n",
            "Epoch 25/120\n",
            "17/17 [==============================] - 0s 7ms/step - loss: 3.2567e-06 - mae: 0.0013 - mean_absolute_percentage_error: 4.9182 - val_loss: 2.9954e-06 - val_mae: 0.0013 - val_mean_absolute_percentage_error: 4.7516\n",
            "Epoch 26/120\n",
            "17/17 [==============================] - 0s 7ms/step - loss: 3.2573e-06 - mae: 0.0013 - mean_absolute_percentage_error: 4.9186 - val_loss: 2.9957e-06 - val_mae: 0.0013 - val_mean_absolute_percentage_error: 4.7519\n",
            "Epoch 27/120\n",
            "17/17 [==============================] - 0s 8ms/step - loss: 3.2579e-06 - mae: 0.0013 - mean_absolute_percentage_error: 4.9189 - val_loss: 2.9960e-06 - val_mae: 0.0013 - val_mean_absolute_percentage_error: 4.7522\n",
            "Epoch 28/120\n",
            "17/17 [==============================] - 0s 7ms/step - loss: 3.2586e-06 - mae: 0.0013 - mean_absolute_percentage_error: 4.9193 - val_loss: 2.9962e-06 - val_mae: 0.0013 - val_mean_absolute_percentage_error: 4.7524\n",
            "Epoch 29/120\n",
            "17/17 [==============================] - 0s 7ms/step - loss: 3.2592e-06 - mae: 0.0013 - mean_absolute_percentage_error: 4.9197 - val_loss: 2.9964e-06 - val_mae: 0.0013 - val_mean_absolute_percentage_error: 4.7527\n",
            "Epoch 30/120\n",
            "17/17 [==============================] - 0s 8ms/step - loss: 3.2598e-06 - mae: 0.0013 - mean_absolute_percentage_error: 4.9200 - val_loss: 2.9966e-06 - val_mae: 0.0013 - val_mean_absolute_percentage_error: 4.7529\n",
            "Epoch 31/120\n",
            "17/17 [==============================] - 0s 8ms/step - loss: 3.2604e-06 - mae: 0.0013 - mean_absolute_percentage_error: 4.9204 - val_loss: 2.9968e-06 - val_mae: 0.0013 - val_mean_absolute_percentage_error: 4.7531\n",
            "Epoch 32/120\n",
            "17/17 [==============================] - 0s 7ms/step - loss: 3.2610e-06 - mae: 0.0013 - mean_absolute_percentage_error: 4.9207 - val_loss: 2.9969e-06 - val_mae: 0.0013 - val_mean_absolute_percentage_error: 4.7533\n",
            "Epoch 33/120\n",
            "17/17 [==============================] - 0s 7ms/step - loss: 3.2615e-06 - mae: 0.0013 - mean_absolute_percentage_error: 4.9211 - val_loss: 2.9971e-06 - val_mae: 0.0013 - val_mean_absolute_percentage_error: 4.7535\n",
            "Epoch 34/120\n",
            "17/17 [==============================] - 0s 7ms/step - loss: 3.2621e-06 - mae: 0.0013 - mean_absolute_percentage_error: 4.9214 - val_loss: 2.9972e-06 - val_mae: 0.0013 - val_mean_absolute_percentage_error: 4.7536\n",
            "Epoch 35/120\n",
            "17/17 [==============================] - 0s 7ms/step - loss: 3.2627e-06 - mae: 0.0013 - mean_absolute_percentage_error: 4.9217 - val_loss: 2.9973e-06 - val_mae: 0.0013 - val_mean_absolute_percentage_error: 4.7538\n",
            "Epoch 36/120\n",
            "17/17 [==============================] - 0s 7ms/step - loss: 3.2632e-06 - mae: 0.0013 - mean_absolute_percentage_error: 4.9221 - val_loss: 2.9974e-06 - val_mae: 0.0013 - val_mean_absolute_percentage_error: 4.7540\n",
            "Epoch 37/120\n",
            "17/17 [==============================] - 0s 7ms/step - loss: 3.2638e-06 - mae: 0.0013 - mean_absolute_percentage_error: 4.9224 - val_loss: 2.9975e-06 - val_mae: 0.0013 - val_mean_absolute_percentage_error: 4.7541\n",
            "Epoch 38/120\n",
            "17/17 [==============================] - 0s 7ms/step - loss: 3.2643e-06 - mae: 0.0013 - mean_absolute_percentage_error: 4.9227 - val_loss: 2.9975e-06 - val_mae: 0.0013 - val_mean_absolute_percentage_error: 4.7543\n",
            "Epoch 39/120\n",
            "17/17 [==============================] - 0s 7ms/step - loss: 3.2649e-06 - mae: 0.0013 - mean_absolute_percentage_error: 4.9230 - val_loss: 2.9976e-06 - val_mae: 0.0013 - val_mean_absolute_percentage_error: 4.7545\n",
            "Epoch 40/120\n",
            "17/17 [==============================] - 0s 9ms/step - loss: 3.2654e-06 - mae: 0.0013 - mean_absolute_percentage_error: 4.9233 - val_loss: 2.9976e-06 - val_mae: 0.0013 - val_mean_absolute_percentage_error: 4.7546\n",
            "Epoch 41/120\n",
            "17/17 [==============================] - 0s 7ms/step - loss: 3.2660e-06 - mae: 0.0013 - mean_absolute_percentage_error: 4.9236 - val_loss: 2.9977e-06 - val_mae: 0.0013 - val_mean_absolute_percentage_error: 4.7548\n",
            "Epoch 42/120\n",
            "17/17 [==============================] - 0s 7ms/step - loss: 3.2665e-06 - mae: 0.0013 - mean_absolute_percentage_error: 4.9240 - val_loss: 2.9977e-06 - val_mae: 0.0013 - val_mean_absolute_percentage_error: 4.7550\n",
            "Epoch 43/120\n",
            "17/17 [==============================] - 0s 8ms/step - loss: 3.2670e-06 - mae: 0.0013 - mean_absolute_percentage_error: 4.9243 - val_loss: 2.9977e-06 - val_mae: 0.0013 - val_mean_absolute_percentage_error: 4.7551\n",
            "Epoch 44/120\n",
            "17/17 [==============================] - 0s 7ms/step - loss: 3.2676e-06 - mae: 0.0013 - mean_absolute_percentage_error: 4.9246 - val_loss: 2.9977e-06 - val_mae: 0.0013 - val_mean_absolute_percentage_error: 4.7553\n",
            "Epoch 45/120\n",
            "17/17 [==============================] - 0s 7ms/step - loss: 3.2681e-06 - mae: 0.0013 - mean_absolute_percentage_error: 4.9249 - val_loss: 2.9977e-06 - val_mae: 0.0013 - val_mean_absolute_percentage_error: 4.7555\n",
            "Epoch 46/120\n",
            "17/17 [==============================] - 0s 8ms/step - loss: 3.2686e-06 - mae: 0.0013 - mean_absolute_percentage_error: 4.9252 - val_loss: 2.9977e-06 - val_mae: 0.0013 - val_mean_absolute_percentage_error: 4.7556\n",
            "Epoch 47/120\n",
            "17/17 [==============================] - 0s 8ms/step - loss: 3.2691e-06 - mae: 0.0013 - mean_absolute_percentage_error: 4.9255 - val_loss: 2.9976e-06 - val_mae: 0.0013 - val_mean_absolute_percentage_error: 4.7557\n",
            "Epoch 48/120\n",
            "17/17 [==============================] - 0s 8ms/step - loss: 3.2697e-06 - mae: 0.0013 - mean_absolute_percentage_error: 4.9258 - val_loss: 2.9976e-06 - val_mae: 0.0013 - val_mean_absolute_percentage_error: 4.7559\n",
            "Epoch 49/120\n",
            "17/17 [==============================] - 0s 7ms/step - loss: 3.2702e-06 - mae: 0.0013 - mean_absolute_percentage_error: 4.9261 - val_loss: 2.9976e-06 - val_mae: 0.0013 - val_mean_absolute_percentage_error: 4.7560\n",
            "Epoch 50/120\n",
            "17/17 [==============================] - 0s 8ms/step - loss: 3.2707e-06 - mae: 0.0013 - mean_absolute_percentage_error: 4.9264 - val_loss: 2.9975e-06 - val_mae: 0.0013 - val_mean_absolute_percentage_error: 4.7562\n",
            "Epoch 51/120\n",
            "17/17 [==============================] - 0s 7ms/step - loss: 3.2712e-06 - mae: 0.0013 - mean_absolute_percentage_error: 4.9267 - val_loss: 2.9975e-06 - val_mae: 0.0013 - val_mean_absolute_percentage_error: 4.7563\n",
            "Epoch 52/120\n",
            "17/17 [==============================] - 0s 7ms/step - loss: 3.2718e-06 - mae: 0.0013 - mean_absolute_percentage_error: 4.9270 - val_loss: 2.9974e-06 - val_mae: 0.0013 - val_mean_absolute_percentage_error: 4.7565\n",
            "Epoch 53/120\n",
            "17/17 [==============================] - 0s 8ms/step - loss: 3.2723e-06 - mae: 0.0013 - mean_absolute_percentage_error: 4.9273 - val_loss: 2.9973e-06 - val_mae: 0.0013 - val_mean_absolute_percentage_error: 4.7566\n",
            "Epoch 54/120\n",
            "17/17 [==============================] - 0s 7ms/step - loss: 3.2728e-06 - mae: 0.0013 - mean_absolute_percentage_error: 4.9276 - val_loss: 2.9973e-06 - val_mae: 0.0013 - val_mean_absolute_percentage_error: 4.7568\n",
            "Epoch 55/120\n",
            "17/17 [==============================] - 0s 8ms/step - loss: 3.2734e-06 - mae: 0.0013 - mean_absolute_percentage_error: 4.9279 - val_loss: 2.9972e-06 - val_mae: 0.0013 - val_mean_absolute_percentage_error: 4.7569\n",
            "Epoch 56/120\n",
            "17/17 [==============================] - 0s 7ms/step - loss: 3.2739e-06 - mae: 0.0013 - mean_absolute_percentage_error: 4.9282 - val_loss: 2.9971e-06 - val_mae: 0.0013 - val_mean_absolute_percentage_error: 4.7571\n",
            "Epoch 57/120\n",
            "17/17 [==============================] - 0s 7ms/step - loss: 3.2745e-06 - mae: 0.0013 - mean_absolute_percentage_error: 4.9285 - val_loss: 2.9971e-06 - val_mae: 0.0013 - val_mean_absolute_percentage_error: 4.7573\n",
            "Epoch 58/120\n",
            "17/17 [==============================] - 0s 7ms/step - loss: 3.2750e-06 - mae: 0.0013 - mean_absolute_percentage_error: 4.9288 - val_loss: 2.9970e-06 - val_mae: 0.0013 - val_mean_absolute_percentage_error: 4.7574\n",
            "Epoch 59/120\n",
            "17/17 [==============================] - 0s 8ms/step - loss: 3.2756e-06 - mae: 0.0013 - mean_absolute_percentage_error: 4.9291 - val_loss: 2.9969e-06 - val_mae: 0.0013 - val_mean_absolute_percentage_error: 4.7576\n",
            "Epoch 60/120\n",
            "17/17 [==============================] - 0s 7ms/step - loss: 3.2761e-06 - mae: 0.0013 - mean_absolute_percentage_error: 4.9294 - val_loss: 2.9968e-06 - val_mae: 0.0013 - val_mean_absolute_percentage_error: 4.7578\n",
            "Epoch 61/120\n",
            "17/17 [==============================] - 0s 8ms/step - loss: 3.2767e-06 - mae: 0.0013 - mean_absolute_percentage_error: 4.9297 - val_loss: 2.9968e-06 - val_mae: 0.0013 - val_mean_absolute_percentage_error: 4.7580\n",
            "Epoch 62/120\n",
            "17/17 [==============================] - 0s 8ms/step - loss: 3.2772e-06 - mae: 0.0013 - mean_absolute_percentage_error: 4.9300 - val_loss: 2.9967e-06 - val_mae: 0.0013 - val_mean_absolute_percentage_error: 4.7582\n",
            "Epoch 63/120\n",
            "17/17 [==============================] - 0s 15ms/step - loss: 3.2778e-06 - mae: 0.0013 - mean_absolute_percentage_error: 4.9303 - val_loss: 2.9966e-06 - val_mae: 0.0013 - val_mean_absolute_percentage_error: 4.7584\n",
            "Epoch 64/120\n",
            "17/17 [==============================] - 0s 13ms/step - loss: 3.2784e-06 - mae: 0.0013 - mean_absolute_percentage_error: 4.9306 - val_loss: 2.9966e-06 - val_mae: 0.0013 - val_mean_absolute_percentage_error: 4.7586\n",
            "Epoch 65/120\n",
            "17/17 [==============================] - 0s 17ms/step - loss: 3.2790e-06 - mae: 0.0013 - mean_absolute_percentage_error: 4.9309 - val_loss: 2.9965e-06 - val_mae: 0.0013 - val_mean_absolute_percentage_error: 4.7588\n",
            "Epoch 66/120\n",
            "17/17 [==============================] - 0s 13ms/step - loss: 3.2795e-06 - mae: 0.0013 - mean_absolute_percentage_error: 4.9313 - val_loss: 2.9965e-06 - val_mae: 0.0013 - val_mean_absolute_percentage_error: 4.7590\n",
            "Epoch 67/120\n",
            "17/17 [==============================] - 0s 19ms/step - loss: 3.2801e-06 - mae: 0.0013 - mean_absolute_percentage_error: 4.9316 - val_loss: 2.9964e-06 - val_mae: 0.0013 - val_mean_absolute_percentage_error: 4.7592\n",
            "Epoch 68/120\n",
            "17/17 [==============================] - 0s 19ms/step - loss: 3.2807e-06 - mae: 0.0013 - mean_absolute_percentage_error: 4.9319 - val_loss: 2.9964e-06 - val_mae: 0.0013 - val_mean_absolute_percentage_error: 4.7594\n",
            "Epoch 69/120\n",
            "17/17 [==============================] - 0s 23ms/step - loss: 3.2813e-06 - mae: 0.0013 - mean_absolute_percentage_error: 4.9323 - val_loss: 2.9963e-06 - val_mae: 0.0013 - val_mean_absolute_percentage_error: 4.7596\n",
            "Epoch 70/120\n",
            "17/17 [==============================] - 0s 18ms/step - loss: 3.2820e-06 - mae: 0.0013 - mean_absolute_percentage_error: 4.9326 - val_loss: 2.9963e-06 - val_mae: 0.0013 - val_mean_absolute_percentage_error: 4.7598\n",
            "Epoch 71/120\n",
            "17/17 [==============================] - 0s 12ms/step - loss: 3.2826e-06 - mae: 0.0013 - mean_absolute_percentage_error: 4.9330 - val_loss: 2.9963e-06 - val_mae: 0.0013 - val_mean_absolute_percentage_error: 4.7600\n",
            "Epoch 72/120\n",
            "17/17 [==============================] - 0s 15ms/step - loss: 3.2832e-06 - mae: 0.0013 - mean_absolute_percentage_error: 4.9334 - val_loss: 2.9963e-06 - val_mae: 0.0013 - val_mean_absolute_percentage_error: 4.7603\n",
            "Epoch 73/120\n",
            "17/17 [==============================] - 0s 18ms/step - loss: 3.2838e-06 - mae: 0.0013 - mean_absolute_percentage_error: 4.9338 - val_loss: 2.9962e-06 - val_mae: 0.0013 - val_mean_absolute_percentage_error: 4.7605\n",
            "Epoch 74/120\n",
            "17/17 [==============================] - 0s 14ms/step - loss: 3.2845e-06 - mae: 0.0013 - mean_absolute_percentage_error: 4.9342 - val_loss: 2.9963e-06 - val_mae: 0.0013 - val_mean_absolute_percentage_error: 4.7608\n",
            "Epoch 75/120\n",
            "17/17 [==============================] - 0s 9ms/step - loss: 3.2851e-06 - mae: 0.0013 - mean_absolute_percentage_error: 4.9346 - val_loss: 2.9963e-06 - val_mae: 0.0013 - val_mean_absolute_percentage_error: 4.7610\n",
            "Epoch 76/120\n",
            "17/17 [==============================] - 0s 7ms/step - loss: 3.2857e-06 - mae: 0.0013 - mean_absolute_percentage_error: 4.9350 - val_loss: 2.9963e-06 - val_mae: 0.0013 - val_mean_absolute_percentage_error: 4.7613\n",
            "Epoch 77/120\n",
            "17/17 [==============================] - 0s 7ms/step - loss: 3.2864e-06 - mae: 0.0013 - mean_absolute_percentage_error: 4.9354 - val_loss: 2.9964e-06 - val_mae: 0.0013 - val_mean_absolute_percentage_error: 4.7616\n",
            "Epoch 78/120\n",
            "17/17 [==============================] - 0s 7ms/step - loss: 3.2870e-06 - mae: 0.0013 - mean_absolute_percentage_error: 4.9358 - val_loss: 2.9964e-06 - val_mae: 0.0013 - val_mean_absolute_percentage_error: 4.7619\n",
            "Epoch 79/120\n",
            "17/17 [==============================] - 0s 7ms/step - loss: 3.2877e-06 - mae: 0.0013 - mean_absolute_percentage_error: 4.9362 - val_loss: 2.9965e-06 - val_mae: 0.0013 - val_mean_absolute_percentage_error: 4.7623\n",
            "Epoch 80/120\n",
            "17/17 [==============================] - 0s 7ms/step - loss: 3.2884e-06 - mae: 0.0013 - mean_absolute_percentage_error: 4.9366 - val_loss: 2.9966e-06 - val_mae: 0.0013 - val_mean_absolute_percentage_error: 4.7626\n",
            "Epoch 81/120\n",
            "17/17 [==============================] - 0s 7ms/step - loss: 3.2890e-06 - mae: 0.0013 - mean_absolute_percentage_error: 4.9370 - val_loss: 2.9967e-06 - val_mae: 0.0013 - val_mean_absolute_percentage_error: 4.7630\n",
            "Epoch 82/120\n",
            "17/17 [==============================] - 0s 7ms/step - loss: 3.2897e-06 - mae: 0.0013 - mean_absolute_percentage_error: 4.9374 - val_loss: 2.9968e-06 - val_mae: 0.0013 - val_mean_absolute_percentage_error: 4.7634\n",
            "Epoch 83/120\n",
            "17/17 [==============================] - 0s 7ms/step - loss: 3.2903e-06 - mae: 0.0013 - mean_absolute_percentage_error: 4.9379 - val_loss: 2.9970e-06 - val_mae: 0.0013 - val_mean_absolute_percentage_error: 4.7638\n",
            "Epoch 84/120\n",
            "17/17 [==============================] - 0s 7ms/step - loss: 3.2910e-06 - mae: 0.0013 - mean_absolute_percentage_error: 4.9383 - val_loss: 2.9971e-06 - val_mae: 0.0013 - val_mean_absolute_percentage_error: 4.7642\n",
            "Epoch 85/120\n",
            "17/17 [==============================] - 0s 8ms/step - loss: 3.2916e-06 - mae: 0.0013 - mean_absolute_percentage_error: 4.9388 - val_loss: 2.9973e-06 - val_mae: 0.0013 - val_mean_absolute_percentage_error: 4.7646\n",
            "Epoch 86/120\n",
            "17/17 [==============================] - 0s 8ms/step - loss: 3.2923e-06 - mae: 0.0013 - mean_absolute_percentage_error: 4.9392 - val_loss: 2.9975e-06 - val_mae: 0.0013 - val_mean_absolute_percentage_error: 4.7650\n",
            "Epoch 87/120\n",
            "17/17 [==============================] - 0s 8ms/step - loss: 3.2929e-06 - mae: 0.0013 - mean_absolute_percentage_error: 4.9397 - val_loss: 2.9977e-06 - val_mae: 0.0013 - val_mean_absolute_percentage_error: 4.7654\n",
            "Epoch 88/120\n",
            "17/17 [==============================] - 0s 7ms/step - loss: 3.2936e-06 - mae: 0.0013 - mean_absolute_percentage_error: 4.9402 - val_loss: 2.9980e-06 - val_mae: 0.0013 - val_mean_absolute_percentage_error: 4.7658\n",
            "Epoch 89/120\n",
            "17/17 [==============================] - 0s 7ms/step - loss: 3.2942e-06 - mae: 0.0013 - mean_absolute_percentage_error: 4.9407 - val_loss: 2.9983e-06 - val_mae: 0.0013 - val_mean_absolute_percentage_error: 4.7662\n",
            "Epoch 90/120\n",
            "17/17 [==============================] - 0s 8ms/step - loss: 3.2948e-06 - mae: 0.0013 - mean_absolute_percentage_error: 4.9411 - val_loss: 2.9986e-06 - val_mae: 0.0013 - val_mean_absolute_percentage_error: 4.7666\n",
            "Epoch 91/120\n",
            "17/17 [==============================] - 0s 7ms/step - loss: 3.2954e-06 - mae: 0.0013 - mean_absolute_percentage_error: 4.9416 - val_loss: 2.9989e-06 - val_mae: 0.0013 - val_mean_absolute_percentage_error: 4.7670\n",
            "Epoch 92/120\n",
            "17/17 [==============================] - 0s 7ms/step - loss: 3.2960e-06 - mae: 0.0013 - mean_absolute_percentage_error: 4.9421 - val_loss: 2.9992e-06 - val_mae: 0.0013 - val_mean_absolute_percentage_error: 4.7674\n",
            "Epoch 93/120\n",
            "17/17 [==============================] - 0s 7ms/step - loss: 3.2965e-06 - mae: 0.0013 - mean_absolute_percentage_error: 4.9426 - val_loss: 2.9996e-06 - val_mae: 0.0013 - val_mean_absolute_percentage_error: 4.7678\n",
            "Epoch 94/120\n",
            "17/17 [==============================] - 0s 7ms/step - loss: 3.2971e-06 - mae: 0.0013 - mean_absolute_percentage_error: 4.9431 - val_loss: 3.0000e-06 - val_mae: 0.0013 - val_mean_absolute_percentage_error: 4.7683\n",
            "Epoch 95/120\n",
            "17/17 [==============================] - 0s 9ms/step - loss: 3.2976e-06 - mae: 0.0013 - mean_absolute_percentage_error: 4.9436 - val_loss: 3.0004e-06 - val_mae: 0.0013 - val_mean_absolute_percentage_error: 4.7688\n",
            "Epoch 96/120\n",
            "17/17 [==============================] - 0s 8ms/step - loss: 3.2982e-06 - mae: 0.0013 - mean_absolute_percentage_error: 4.9441 - val_loss: 3.0008e-06 - val_mae: 0.0013 - val_mean_absolute_percentage_error: 4.7692\n",
            "Epoch 97/120\n",
            "17/17 [==============================] - 0s 8ms/step - loss: 3.2987e-06 - mae: 0.0013 - mean_absolute_percentage_error: 4.9446 - val_loss: 3.0013e-06 - val_mae: 0.0013 - val_mean_absolute_percentage_error: 4.7697\n",
            "Epoch 98/120\n",
            "17/17 [==============================] - 0s 7ms/step - loss: 3.2991e-06 - mae: 0.0013 - mean_absolute_percentage_error: 4.9451 - val_loss: 3.0018e-06 - val_mae: 0.0013 - val_mean_absolute_percentage_error: 4.7701\n",
            "Epoch 99/120\n",
            "17/17 [==============================] - 0s 7ms/step - loss: 3.2996e-06 - mae: 0.0013 - mean_absolute_percentage_error: 4.9456 - val_loss: 3.0022e-06 - val_mae: 0.0013 - val_mean_absolute_percentage_error: 4.7705\n",
            "Epoch 100/120\n",
            "17/17 [==============================] - 0s 7ms/step - loss: 3.3000e-06 - mae: 0.0013 - mean_absolute_percentage_error: 4.9460 - val_loss: 3.0027e-06 - val_mae: 0.0013 - val_mean_absolute_percentage_error: 4.7710\n",
            "Epoch 101/120\n",
            "17/17 [==============================] - 0s 7ms/step - loss: 3.3004e-06 - mae: 0.0013 - mean_absolute_percentage_error: 4.9465 - val_loss: 3.0032e-06 - val_mae: 0.0013 - val_mean_absolute_percentage_error: 4.7714\n",
            "Epoch 102/120\n",
            "17/17 [==============================] - 0s 7ms/step - loss: 3.3008e-06 - mae: 0.0013 - mean_absolute_percentage_error: 4.9469 - val_loss: 3.0037e-06 - val_mae: 0.0013 - val_mean_absolute_percentage_error: 4.7719\n",
            "Epoch 103/120\n",
            "17/17 [==============================] - 0s 8ms/step - loss: 3.3011e-06 - mae: 0.0013 - mean_absolute_percentage_error: 4.9473 - val_loss: 3.0042e-06 - val_mae: 0.0013 - val_mean_absolute_percentage_error: 4.7723\n",
            "Epoch 104/120\n",
            "17/17 [==============================] - 0s 7ms/step - loss: 3.3015e-06 - mae: 0.0013 - mean_absolute_percentage_error: 4.9477 - val_loss: 3.0048e-06 - val_mae: 0.0013 - val_mean_absolute_percentage_error: 4.7727\n",
            "Epoch 105/120\n",
            "17/17 [==============================] - 0s 7ms/step - loss: 3.3018e-06 - mae: 0.0013 - mean_absolute_percentage_error: 4.9481 - val_loss: 3.0053e-06 - val_mae: 0.0013 - val_mean_absolute_percentage_error: 4.7732\n",
            "Epoch 106/120\n",
            "17/17 [==============================] - 0s 7ms/step - loss: 3.3020e-06 - mae: 0.0013 - mean_absolute_percentage_error: 4.9485 - val_loss: 3.0058e-06 - val_mae: 0.0013 - val_mean_absolute_percentage_error: 4.7736\n",
            "Epoch 107/120\n",
            "17/17 [==============================] - 0s 7ms/step - loss: 3.3023e-06 - mae: 0.0013 - mean_absolute_percentage_error: 4.9488 - val_loss: 3.0063e-06 - val_mae: 0.0013 - val_mean_absolute_percentage_error: 4.7740\n",
            "Epoch 108/120\n",
            "17/17 [==============================] - 0s 8ms/step - loss: 3.3025e-06 - mae: 0.0013 - mean_absolute_percentage_error: 4.9492 - val_loss: 3.0069e-06 - val_mae: 0.0013 - val_mean_absolute_percentage_error: 4.7743\n",
            "Epoch 109/120\n",
            "17/17 [==============================] - 0s 7ms/step - loss: 3.3027e-06 - mae: 0.0013 - mean_absolute_percentage_error: 4.9495 - val_loss: 3.0075e-06 - val_mae: 0.0013 - val_mean_absolute_percentage_error: 4.7747\n",
            "Epoch 110/120\n",
            "17/17 [==============================] - 0s 9ms/step - loss: 3.3029e-06 - mae: 0.0013 - mean_absolute_percentage_error: 4.9498 - val_loss: 3.0080e-06 - val_mae: 0.0013 - val_mean_absolute_percentage_error: 4.7751\n",
            "Epoch 111/120\n",
            "17/17 [==============================] - 0s 7ms/step - loss: 3.3031e-06 - mae: 0.0013 - mean_absolute_percentage_error: 4.9502 - val_loss: 3.0086e-06 - val_mae: 0.0013 - val_mean_absolute_percentage_error: 4.7754\n",
            "Epoch 112/120\n",
            "17/17 [==============================] - 0s 8ms/step - loss: 3.3032e-06 - mae: 0.0013 - mean_absolute_percentage_error: 4.9504 - val_loss: 3.0092e-06 - val_mae: 0.0013 - val_mean_absolute_percentage_error: 4.7758\n",
            "Epoch 113/120\n",
            "17/17 [==============================] - 0s 8ms/step - loss: 3.3033e-06 - mae: 0.0013 - mean_absolute_percentage_error: 4.9507 - val_loss: 3.0098e-06 - val_mae: 0.0013 - val_mean_absolute_percentage_error: 4.7762\n",
            "Epoch 114/120\n",
            "17/17 [==============================] - 0s 7ms/step - loss: 3.3034e-06 - mae: 0.0013 - mean_absolute_percentage_error: 4.9510 - val_loss: 3.0104e-06 - val_mae: 0.0013 - val_mean_absolute_percentage_error: 4.7767\n",
            "Epoch 115/120\n",
            "17/17 [==============================] - 0s 7ms/step - loss: 3.3035e-06 - mae: 0.0013 - mean_absolute_percentage_error: 4.9512 - val_loss: 3.0111e-06 - val_mae: 0.0013 - val_mean_absolute_percentage_error: 4.7772\n",
            "Epoch 116/120\n",
            "17/17 [==============================] - 0s 7ms/step - loss: 3.3036e-06 - mae: 0.0013 - mean_absolute_percentage_error: 4.9514 - val_loss: 3.0117e-06 - val_mae: 0.0013 - val_mean_absolute_percentage_error: 4.7777\n",
            "Epoch 117/120\n",
            "17/17 [==============================] - 0s 7ms/step - loss: 3.3037e-06 - mae: 0.0013 - mean_absolute_percentage_error: 4.9516 - val_loss: 3.0124e-06 - val_mae: 0.0013 - val_mean_absolute_percentage_error: 4.7783\n",
            "Epoch 118/120\n",
            "17/17 [==============================] - 0s 8ms/step - loss: 3.3037e-06 - mae: 0.0013 - mean_absolute_percentage_error: 4.9518 - val_loss: 3.0132e-06 - val_mae: 0.0013 - val_mean_absolute_percentage_error: 4.7790\n",
            "Epoch 119/120\n",
            "17/17 [==============================] - 0s 9ms/step - loss: 3.3038e-06 - mae: 0.0013 - mean_absolute_percentage_error: 4.9519 - val_loss: 3.0140e-06 - val_mae: 0.0013 - val_mean_absolute_percentage_error: 4.7796\n",
            "Epoch 120/120\n",
            "17/17 [==============================] - 0s 7ms/step - loss: 3.3039e-06 - mae: 0.0013 - mean_absolute_percentage_error: 4.9521 - val_loss: 3.0148e-06 - val_mae: 0.0013 - val_mean_absolute_percentage_error: 4.7803\n"
          ]
        }
      ],
      "source": [
        "# fitting model for speed\n",
        "history_s = model_s.fit(train_features, train_labels, batch_size=64, epochs=120, shuffle=False, validation_split=.12)"
      ]
    },
    {
      "cell_type": "code",
      "execution_count": 70,
      "metadata": {
        "colab": {
          "base_uri": "https://localhost:8080/"
        },
        "id": "hVeHZWC7G736",
        "outputId": "e2150c5b-6fa6-443b-c91a-bc5cc339b946"
      },
      "outputs": [
        {
          "output_type": "stream",
          "name": "stdout",
          "text": [
            "Epoch 1/120\n",
            "17/17 [==============================] - 5s 79ms/step - loss: 8.0313e-04 - mae: 0.0231 - val_loss: 7.6872e-04 - val_mae: 0.0227\n",
            "Epoch 2/120\n",
            "17/17 [==============================] - 0s 7ms/step - loss: 8.0205e-04 - mae: 0.0231 - val_loss: 7.6787e-04 - val_mae: 0.0227\n",
            "Epoch 3/120\n",
            "17/17 [==============================] - 0s 7ms/step - loss: 8.0144e-04 - mae: 0.0231 - val_loss: 7.6716e-04 - val_mae: 0.0226\n",
            "Epoch 4/120\n",
            "17/17 [==============================] - 0s 7ms/step - loss: 8.0081e-04 - mae: 0.0231 - val_loss: 7.6647e-04 - val_mae: 0.0226\n",
            "Epoch 5/120\n",
            "17/17 [==============================] - 0s 7ms/step - loss: 8.0014e-04 - mae: 0.0230 - val_loss: 7.6567e-04 - val_mae: 0.0226\n",
            "Epoch 6/120\n",
            "17/17 [==============================] - 0s 7ms/step - loss: 7.9939e-04 - mae: 0.0230 - val_loss: 7.6481e-04 - val_mae: 0.0226\n",
            "Epoch 7/120\n",
            "17/17 [==============================] - 0s 7ms/step - loss: 7.9849e-04 - mae: 0.0230 - val_loss: 7.6382e-04 - val_mae: 0.0226\n",
            "Epoch 8/120\n",
            "17/17 [==============================] - 0s 8ms/step - loss: 7.9741e-04 - mae: 0.0230 - val_loss: 7.6265e-04 - val_mae: 0.0226\n",
            "Epoch 9/120\n",
            "17/17 [==============================] - 0s 7ms/step - loss: 7.9624e-04 - mae: 0.0230 - val_loss: 7.6133e-04 - val_mae: 0.0225\n",
            "Epoch 10/120\n",
            "17/17 [==============================] - 0s 8ms/step - loss: 7.9494e-04 - mae: 0.0230 - val_loss: 7.5984e-04 - val_mae: 0.0225\n",
            "Epoch 11/120\n",
            "17/17 [==============================] - 0s 7ms/step - loss: 7.9345e-04 - mae: 0.0229 - val_loss: 7.5821e-04 - val_mae: 0.0225\n",
            "Epoch 12/120\n",
            "17/17 [==============================] - 0s 7ms/step - loss: 7.9176e-04 - mae: 0.0229 - val_loss: 7.5640e-04 - val_mae: 0.0225\n",
            "Epoch 13/120\n",
            "17/17 [==============================] - 0s 7ms/step - loss: 7.8988e-04 - mae: 0.0229 - val_loss: 7.5439e-04 - val_mae: 0.0224\n",
            "Epoch 14/120\n",
            "17/17 [==============================] - 0s 8ms/step - loss: 7.8782e-04 - mae: 0.0229 - val_loss: 7.5225e-04 - val_mae: 0.0224\n",
            "Epoch 15/120\n",
            "17/17 [==============================] - 0s 8ms/step - loss: 7.8559e-04 - mae: 0.0228 - val_loss: 7.4996e-04 - val_mae: 0.0224\n",
            "Epoch 16/120\n",
            "17/17 [==============================] - 0s 7ms/step - loss: 7.8322e-04 - mae: 0.0228 - val_loss: 7.4758e-04 - val_mae: 0.0223\n",
            "Epoch 17/120\n",
            "17/17 [==============================] - 0s 8ms/step - loss: 7.8073e-04 - mae: 0.0228 - val_loss: 7.4516e-04 - val_mae: 0.0223\n",
            "Epoch 18/120\n",
            "17/17 [==============================] - 0s 9ms/step - loss: 7.7812e-04 - mae: 0.0227 - val_loss: 7.4263e-04 - val_mae: 0.0222\n",
            "Epoch 19/120\n",
            "17/17 [==============================] - 0s 7ms/step - loss: 7.7539e-04 - mae: 0.0227 - val_loss: 7.4006e-04 - val_mae: 0.0222\n",
            "Epoch 20/120\n",
            "17/17 [==============================] - 0s 7ms/step - loss: 7.7256e-04 - mae: 0.0226 - val_loss: 7.3740e-04 - val_mae: 0.0221\n",
            "Epoch 21/120\n",
            "17/17 [==============================] - 0s 8ms/step - loss: 7.6960e-04 - mae: 0.0226 - val_loss: 7.3469e-04 - val_mae: 0.0221\n",
            "Epoch 22/120\n",
            "17/17 [==============================] - 0s 8ms/step - loss: 7.6654e-04 - mae: 0.0226 - val_loss: 7.3184e-04 - val_mae: 0.0220\n",
            "Epoch 23/120\n",
            "17/17 [==============================] - 0s 8ms/step - loss: 7.6333e-04 - mae: 0.0225 - val_loss: 7.2884e-04 - val_mae: 0.0220\n",
            "Epoch 24/120\n",
            "17/17 [==============================] - 0s 8ms/step - loss: 7.5991e-04 - mae: 0.0225 - val_loss: 7.2564e-04 - val_mae: 0.0219\n",
            "Epoch 25/120\n",
            "17/17 [==============================] - 0s 9ms/step - loss: 7.5630e-04 - mae: 0.0224 - val_loss: 7.2229e-04 - val_mae: 0.0219\n",
            "Epoch 26/120\n",
            "17/17 [==============================] - 0s 7ms/step - loss: 7.5258e-04 - mae: 0.0224 - val_loss: 7.1893e-04 - val_mae: 0.0218\n",
            "Epoch 27/120\n",
            "17/17 [==============================] - 0s 8ms/step - loss: 7.4875e-04 - mae: 0.0223 - val_loss: 7.1552e-04 - val_mae: 0.0218\n",
            "Epoch 28/120\n",
            "17/17 [==============================] - 0s 8ms/step - loss: 7.4488e-04 - mae: 0.0222 - val_loss: 7.1217e-04 - val_mae: 0.0217\n",
            "Epoch 29/120\n",
            "17/17 [==============================] - 0s 7ms/step - loss: 7.4105e-04 - mae: 0.0222 - val_loss: 7.0893e-04 - val_mae: 0.0216\n",
            "Epoch 30/120\n",
            "17/17 [==============================] - 0s 7ms/step - loss: 7.3732e-04 - mae: 0.0221 - val_loss: 7.0584e-04 - val_mae: 0.0216\n",
            "Epoch 31/120\n",
            "17/17 [==============================] - 0s 8ms/step - loss: 7.3375e-04 - mae: 0.0221 - val_loss: 7.0288e-04 - val_mae: 0.0215\n",
            "Epoch 32/120\n",
            "17/17 [==============================] - 0s 8ms/step - loss: 7.3034e-04 - mae: 0.0220 - val_loss: 7.0007e-04 - val_mae: 0.0215\n",
            "Epoch 33/120\n",
            "17/17 [==============================] - 0s 8ms/step - loss: 7.2713e-04 - mae: 0.0220 - val_loss: 6.9745e-04 - val_mae: 0.0214\n",
            "Epoch 34/120\n",
            "17/17 [==============================] - 0s 8ms/step - loss: 7.2404e-04 - mae: 0.0219 - val_loss: 6.9495e-04 - val_mae: 0.0214\n",
            "Epoch 35/120\n",
            "17/17 [==============================] - 0s 7ms/step - loss: 7.2107e-04 - mae: 0.0219 - val_loss: 6.9250e-04 - val_mae: 0.0214\n",
            "Epoch 36/120\n",
            "17/17 [==============================] - 0s 7ms/step - loss: 7.1823e-04 - mae: 0.0218 - val_loss: 6.9027e-04 - val_mae: 0.0213\n",
            "Epoch 37/120\n",
            "17/17 [==============================] - 0s 7ms/step - loss: 7.1549e-04 - mae: 0.0218 - val_loss: 6.8817e-04 - val_mae: 0.0213\n",
            "Epoch 38/120\n",
            "17/17 [==============================] - 0s 8ms/step - loss: 7.1287e-04 - mae: 0.0218 - val_loss: 6.8616e-04 - val_mae: 0.0213\n",
            "Epoch 39/120\n",
            "17/17 [==============================] - 0s 7ms/step - loss: 7.1039e-04 - mae: 0.0217 - val_loss: 6.8417e-04 - val_mae: 0.0213\n",
            "Epoch 40/120\n",
            "17/17 [==============================] - 0s 7ms/step - loss: 7.0794e-04 - mae: 0.0217 - val_loss: 6.8214e-04 - val_mae: 0.0212\n",
            "Epoch 41/120\n",
            "17/17 [==============================] - 0s 8ms/step - loss: 7.0554e-04 - mae: 0.0216 - val_loss: 6.8017e-04 - val_mae: 0.0212\n",
            "Epoch 42/120\n",
            "17/17 [==============================] - 0s 7ms/step - loss: 7.0324e-04 - mae: 0.0216 - val_loss: 6.7826e-04 - val_mae: 0.0212\n",
            "Epoch 43/120\n",
            "17/17 [==============================] - 0s 7ms/step - loss: 7.0106e-04 - mae: 0.0216 - val_loss: 6.7648e-04 - val_mae: 0.0211\n",
            "Epoch 44/120\n",
            "17/17 [==============================] - 0s 7ms/step - loss: 6.9900e-04 - mae: 0.0215 - val_loss: 6.7497e-04 - val_mae: 0.0211\n",
            "Epoch 45/120\n",
            "17/17 [==============================] - 0s 7ms/step - loss: 6.9702e-04 - mae: 0.0215 - val_loss: 6.7340e-04 - val_mae: 0.0211\n",
            "Epoch 46/120\n",
            "17/17 [==============================] - 0s 8ms/step - loss: 6.9519e-04 - mae: 0.0215 - val_loss: 6.7178e-04 - val_mae: 0.0211\n",
            "Epoch 47/120\n",
            "17/17 [==============================] - 0s 8ms/step - loss: 6.9348e-04 - mae: 0.0215 - val_loss: 6.7035e-04 - val_mae: 0.0211\n",
            "Epoch 48/120\n",
            "17/17 [==============================] - 0s 8ms/step - loss: 6.9191e-04 - mae: 0.0214 - val_loss: 6.6905e-04 - val_mae: 0.0211\n",
            "Epoch 49/120\n",
            "17/17 [==============================] - 0s 7ms/step - loss: 6.9044e-04 - mae: 0.0214 - val_loss: 6.6788e-04 - val_mae: 0.0210\n",
            "Epoch 50/120\n",
            "17/17 [==============================] - 0s 7ms/step - loss: 6.8909e-04 - mae: 0.0214 - val_loss: 6.6677e-04 - val_mae: 0.0210\n",
            "Epoch 51/120\n",
            "17/17 [==============================] - 0s 8ms/step - loss: 6.8781e-04 - mae: 0.0214 - val_loss: 6.6580e-04 - val_mae: 0.0210\n",
            "Epoch 52/120\n",
            "17/17 [==============================] - 0s 7ms/step - loss: 6.8662e-04 - mae: 0.0214 - val_loss: 6.6493e-04 - val_mae: 0.0210\n",
            "Epoch 53/120\n",
            "17/17 [==============================] - 0s 8ms/step - loss: 6.8550e-04 - mae: 0.0213 - val_loss: 6.6406e-04 - val_mae: 0.0210\n",
            "Epoch 54/120\n",
            "17/17 [==============================] - 0s 7ms/step - loss: 6.8444e-04 - mae: 0.0213 - val_loss: 6.6327e-04 - val_mae: 0.0210\n",
            "Epoch 55/120\n",
            "17/17 [==============================] - 0s 7ms/step - loss: 6.8343e-04 - mae: 0.0213 - val_loss: 6.6257e-04 - val_mae: 0.0210\n",
            "Epoch 56/120\n",
            "17/17 [==============================] - 0s 7ms/step - loss: 6.8247e-04 - mae: 0.0213 - val_loss: 6.6194e-04 - val_mae: 0.0210\n",
            "Epoch 57/120\n",
            "17/17 [==============================] - 0s 7ms/step - loss: 6.8156e-04 - mae: 0.0213 - val_loss: 6.6129e-04 - val_mae: 0.0210\n",
            "Epoch 58/120\n",
            "17/17 [==============================] - 0s 8ms/step - loss: 6.8067e-04 - mae: 0.0213 - val_loss: 6.6080e-04 - val_mae: 0.0210\n",
            "Epoch 59/120\n",
            "17/17 [==============================] - 0s 7ms/step - loss: 6.7980e-04 - mae: 0.0213 - val_loss: 6.6026e-04 - val_mae: 0.0210\n",
            "Epoch 60/120\n",
            "17/17 [==============================] - 0s 7ms/step - loss: 6.7893e-04 - mae: 0.0212 - val_loss: 6.5974e-04 - val_mae: 0.0210\n",
            "Epoch 61/120\n",
            "17/17 [==============================] - 0s 8ms/step - loss: 6.7809e-04 - mae: 0.0212 - val_loss: 6.5928e-04 - val_mae: 0.0210\n",
            "Epoch 62/120\n",
            "17/17 [==============================] - 0s 7ms/step - loss: 6.7727e-04 - mae: 0.0212 - val_loss: 6.5884e-04 - val_mae: 0.0210\n",
            "Epoch 63/120\n",
            "17/17 [==============================] - 0s 8ms/step - loss: 6.7645e-04 - mae: 0.0212 - val_loss: 6.5837e-04 - val_mae: 0.0210\n",
            "Epoch 64/120\n",
            "17/17 [==============================] - 0s 7ms/step - loss: 6.7564e-04 - mae: 0.0212 - val_loss: 6.5792e-04 - val_mae: 0.0210\n",
            "Epoch 65/120\n",
            "17/17 [==============================] - 0s 8ms/step - loss: 6.7483e-04 - mae: 0.0212 - val_loss: 6.5749e-04 - val_mae: 0.0210\n",
            "Epoch 66/120\n",
            "17/17 [==============================] - 0s 7ms/step - loss: 6.7402e-04 - mae: 0.0212 - val_loss: 6.5706e-04 - val_mae: 0.0210\n",
            "Epoch 67/120\n",
            "17/17 [==============================] - 0s 8ms/step - loss: 6.7321e-04 - mae: 0.0211 - val_loss: 6.5667e-04 - val_mae: 0.0209\n",
            "Epoch 68/120\n",
            "17/17 [==============================] - 0s 7ms/step - loss: 6.7238e-04 - mae: 0.0211 - val_loss: 6.5629e-04 - val_mae: 0.0209\n",
            "Epoch 69/120\n",
            "17/17 [==============================] - 0s 7ms/step - loss: 6.7151e-04 - mae: 0.0211 - val_loss: 6.5588e-04 - val_mae: 0.0209\n",
            "Epoch 70/120\n",
            "17/17 [==============================] - 0s 8ms/step - loss: 6.7064e-04 - mae: 0.0211 - val_loss: 6.5544e-04 - val_mae: 0.0209\n",
            "Epoch 71/120\n",
            "17/17 [==============================] - 0s 9ms/step - loss: 6.6979e-04 - mae: 0.0211 - val_loss: 6.5498e-04 - val_mae: 0.0209\n",
            "Epoch 72/120\n",
            "17/17 [==============================] - 0s 8ms/step - loss: 6.6895e-04 - mae: 0.0211 - val_loss: 6.5453e-04 - val_mae: 0.0209\n",
            "Epoch 73/120\n",
            "17/17 [==============================] - 0s 7ms/step - loss: 6.6809e-04 - mae: 0.0211 - val_loss: 6.5410e-04 - val_mae: 0.0209\n",
            "Epoch 74/120\n",
            "17/17 [==============================] - 0s 8ms/step - loss: 6.6726e-04 - mae: 0.0211 - val_loss: 6.5366e-04 - val_mae: 0.0209\n",
            "Epoch 75/120\n",
            "17/17 [==============================] - 0s 7ms/step - loss: 6.6642e-04 - mae: 0.0210 - val_loss: 6.5323e-04 - val_mae: 0.0209\n",
            "Epoch 76/120\n",
            "17/17 [==============================] - 0s 9ms/step - loss: 6.6561e-04 - mae: 0.0210 - val_loss: 6.5278e-04 - val_mae: 0.0209\n",
            "Epoch 77/120\n",
            "17/17 [==============================] - 0s 8ms/step - loss: 6.6482e-04 - mae: 0.0210 - val_loss: 6.5239e-04 - val_mae: 0.0209\n",
            "Epoch 78/120\n",
            "17/17 [==============================] - 0s 9ms/step - loss: 6.6405e-04 - mae: 0.0210 - val_loss: 6.5205e-04 - val_mae: 0.0209\n",
            "Epoch 79/120\n",
            "17/17 [==============================] - 0s 8ms/step - loss: 6.6330e-04 - mae: 0.0210 - val_loss: 6.5169e-04 - val_mae: 0.0209\n",
            "Epoch 80/120\n",
            "17/17 [==============================] - 0s 8ms/step - loss: 6.6258e-04 - mae: 0.0210 - val_loss: 6.5138e-04 - val_mae: 0.0209\n",
            "Epoch 81/120\n",
            "17/17 [==============================] - 0s 8ms/step - loss: 6.6194e-04 - mae: 0.0210 - val_loss: 6.5111e-04 - val_mae: 0.0209\n",
            "Epoch 82/120\n",
            "17/17 [==============================] - 0s 9ms/step - loss: 6.6130e-04 - mae: 0.0210 - val_loss: 6.5086e-04 - val_mae: 0.0208\n",
            "Epoch 83/120\n",
            "17/17 [==============================] - 0s 9ms/step - loss: 6.6072e-04 - mae: 0.0209 - val_loss: 6.5063e-04 - val_mae: 0.0208\n",
            "Epoch 84/120\n",
            "17/17 [==============================] - 0s 8ms/step - loss: 6.6015e-04 - mae: 0.0209 - val_loss: 6.5042e-04 - val_mae: 0.0208\n",
            "Epoch 85/120\n",
            "17/17 [==============================] - 0s 8ms/step - loss: 6.5963e-04 - mae: 0.0209 - val_loss: 6.5024e-04 - val_mae: 0.0208\n",
            "Epoch 86/120\n",
            "17/17 [==============================] - 0s 7ms/step - loss: 6.5915e-04 - mae: 0.0209 - val_loss: 6.5009e-04 - val_mae: 0.0208\n",
            "Epoch 87/120\n",
            "17/17 [==============================] - 0s 7ms/step - loss: 6.5870e-04 - mae: 0.0209 - val_loss: 6.4997e-04 - val_mae: 0.0208\n",
            "Epoch 88/120\n",
            "17/17 [==============================] - 0s 8ms/step - loss: 6.5827e-04 - mae: 0.0209 - val_loss: 6.4986e-04 - val_mae: 0.0208\n",
            "Epoch 89/120\n",
            "17/17 [==============================] - 0s 7ms/step - loss: 6.5787e-04 - mae: 0.0209 - val_loss: 6.4978e-04 - val_mae: 0.0208\n",
            "Epoch 90/120\n",
            "17/17 [==============================] - 0s 8ms/step - loss: 6.5747e-04 - mae: 0.0209 - val_loss: 6.4971e-04 - val_mae: 0.0208\n",
            "Epoch 91/120\n",
            "17/17 [==============================] - 0s 7ms/step - loss: 6.5712e-04 - mae: 0.0209 - val_loss: 6.4967e-04 - val_mae: 0.0208\n",
            "Epoch 92/120\n",
            "17/17 [==============================] - 0s 7ms/step - loss: 6.5675e-04 - mae: 0.0209 - val_loss: 6.4963e-04 - val_mae: 0.0208\n",
            "Epoch 93/120\n",
            "17/17 [==============================] - 0s 7ms/step - loss: 6.5641e-04 - mae: 0.0209 - val_loss: 6.4960e-04 - val_mae: 0.0208\n",
            "Epoch 94/120\n",
            "17/17 [==============================] - 0s 7ms/step - loss: 6.5609e-04 - mae: 0.0209 - val_loss: 6.4959e-04 - val_mae: 0.0208\n",
            "Epoch 95/120\n",
            "17/17 [==============================] - 0s 7ms/step - loss: 6.5576e-04 - mae: 0.0209 - val_loss: 6.4957e-04 - val_mae: 0.0208\n",
            "Epoch 96/120\n",
            "17/17 [==============================] - 0s 7ms/step - loss: 6.5546e-04 - mae: 0.0209 - val_loss: 6.4953e-04 - val_mae: 0.0208\n",
            "Epoch 97/120\n",
            "17/17 [==============================] - 0s 8ms/step - loss: 6.5516e-04 - mae: 0.0209 - val_loss: 6.4955e-04 - val_mae: 0.0208\n",
            "Epoch 98/120\n",
            "17/17 [==============================] - 0s 7ms/step - loss: 6.5488e-04 - mae: 0.0209 - val_loss: 6.4956e-04 - val_mae: 0.0208\n",
            "Epoch 99/120\n",
            "17/17 [==============================] - 0s 7ms/step - loss: 6.5459e-04 - mae: 0.0208 - val_loss: 6.4962e-04 - val_mae: 0.0208\n",
            "Epoch 100/120\n",
            "17/17 [==============================] - 0s 7ms/step - loss: 6.5431e-04 - mae: 0.0208 - val_loss: 6.4963e-04 - val_mae: 0.0208\n",
            "Epoch 101/120\n",
            "17/17 [==============================] - 0s 7ms/step - loss: 6.5403e-04 - mae: 0.0208 - val_loss: 6.4969e-04 - val_mae: 0.0208\n",
            "Epoch 102/120\n",
            "17/17 [==============================] - 0s 7ms/step - loss: 6.5377e-04 - mae: 0.0208 - val_loss: 6.4972e-04 - val_mae: 0.0208\n",
            "Epoch 103/120\n",
            "17/17 [==============================] - 0s 6ms/step - loss: 6.5352e-04 - mae: 0.0208 - val_loss: 6.4976e-04 - val_mae: 0.0208\n",
            "Epoch 104/120\n",
            "17/17 [==============================] - 0s 7ms/step - loss: 6.5327e-04 - mae: 0.0208 - val_loss: 6.4977e-04 - val_mae: 0.0208\n",
            "Epoch 105/120\n",
            "17/17 [==============================] - 0s 8ms/step - loss: 6.5302e-04 - mae: 0.0208 - val_loss: 6.4979e-04 - val_mae: 0.0208\n",
            "Epoch 106/120\n",
            "17/17 [==============================] - 0s 7ms/step - loss: 6.5278e-04 - mae: 0.0208 - val_loss: 6.4985e-04 - val_mae: 0.0208\n",
            "Epoch 107/120\n",
            "17/17 [==============================] - 0s 7ms/step - loss: 6.5255e-04 - mae: 0.0208 - val_loss: 6.4988e-04 - val_mae: 0.0208\n",
            "Epoch 108/120\n",
            "17/17 [==============================] - 0s 7ms/step - loss: 6.5232e-04 - mae: 0.0208 - val_loss: 6.4994e-04 - val_mae: 0.0208\n",
            "Epoch 109/120\n",
            "17/17 [==============================] - 0s 7ms/step - loss: 6.5210e-04 - mae: 0.0208 - val_loss: 6.4997e-04 - val_mae: 0.0208\n",
            "Epoch 110/120\n",
            "17/17 [==============================] - 0s 7ms/step - loss: 6.5188e-04 - mae: 0.0208 - val_loss: 6.5002e-04 - val_mae: 0.0208\n",
            "Epoch 111/120\n",
            "17/17 [==============================] - 0s 7ms/step - loss: 6.5166e-04 - mae: 0.0208 - val_loss: 6.5003e-04 - val_mae: 0.0208\n",
            "Epoch 112/120\n",
            "17/17 [==============================] - 0s 7ms/step - loss: 6.5144e-04 - mae: 0.0208 - val_loss: 6.5009e-04 - val_mae: 0.0208\n",
            "Epoch 113/120\n",
            "17/17 [==============================] - 0s 8ms/step - loss: 6.5124e-04 - mae: 0.0208 - val_loss: 6.5013e-04 - val_mae: 0.0208\n",
            "Epoch 114/120\n",
            "17/17 [==============================] - 0s 7ms/step - loss: 6.5103e-04 - mae: 0.0208 - val_loss: 6.5017e-04 - val_mae: 0.0208\n",
            "Epoch 115/120\n",
            "17/17 [==============================] - 0s 7ms/step - loss: 6.5081e-04 - mae: 0.0208 - val_loss: 6.5018e-04 - val_mae: 0.0208\n",
            "Epoch 116/120\n",
            "17/17 [==============================] - 0s 8ms/step - loss: 6.5061e-04 - mae: 0.0208 - val_loss: 6.5021e-04 - val_mae: 0.0208\n",
            "Epoch 117/120\n",
            "17/17 [==============================] - 0s 7ms/step - loss: 6.5041e-04 - mae: 0.0208 - val_loss: 6.5025e-04 - val_mae: 0.0208\n",
            "Epoch 118/120\n",
            "17/17 [==============================] - 0s 7ms/step - loss: 6.5022e-04 - mae: 0.0208 - val_loss: 6.5027e-04 - val_mae: 0.0208\n",
            "Epoch 119/120\n",
            "17/17 [==============================] - 0s 7ms/step - loss: 6.5001e-04 - mae: 0.0208 - val_loss: 6.5032e-04 - val_mae: 0.0208\n",
            "Epoch 120/120\n",
            "17/17 [==============================] - 0s 6ms/step - loss: 6.4984e-04 - mae: 0.0208 - val_loss: 6.5036e-04 - val_mae: 0.0208\n"
          ]
        }
      ],
      "source": [
        "# fitting model for position\n",
        "history_p = model_p.fit(train_features_pos, train_labels_pos, batch_size=64, epochs=120, shuffle=False, validation_split=.12)\n"
      ]
    },
    {
      "cell_type": "code",
      "execution_count": 62,
      "metadata": {
        "colab": {
          "base_uri": "https://localhost:8080/",
          "height": 295
        },
        "id": "uvQHKvlQHJ4n",
        "outputId": "01a9a84e-9e49-4836-c243-8fe1f83714b7"
      },
      "outputs": [
        {
          "output_type": "display_data",
          "data": {
            "image/png": "[encoded data removed]",
            "text/plain": [
              "<Figure size 432x288 with 1 Axes>"
            ]
          },
          "metadata": {
            "needs_background": "light"
          }
        }
      ],
      "source": [
        "# speed\n",
        "plt.plot(history_s.history['loss'], label='Train')\n",
        "plt.plot(history_s.history['val_loss'], label='Validation')\n",
        "plt.title('Training Loss')\n",
        "plt.ylabel('Loss')\n",
        "plt.xlabel('Epochs')\n",
        "plt.legend()\n",
        "plt.grid()\n",
        "plt.show()"
      ]
    },
    {
      "cell_type": "code",
      "execution_count": 44,
      "metadata": {
        "colab": {
          "base_uri": "https://localhost:8080/",
          "height": 295
        },
        "id": "TyTPAFVVVc_m",
        "outputId": "d5c1771f-cb3d-419b-8c05-24ed29c6b4b9"
      },
      "outputs": [
        {
          "output_type": "display_data",
          "data": {
            "image/png": "[encoded data removed]",
            "text/plain": [
              "<Figure size 432x288 with 1 Axes>"
            ]
          },
          "metadata": {
            "needs_background": "light"
          }
        }
      ],
      "source": [
        "# position\n",
        "plt.plot(history_p.history['loss'], label='Train')\n",
        "plt.plot(history_p.history['val_loss'], label='Validation')\n",
        "plt.title('Training Loss')\n",
        "plt.ylabel('Loss')\n",
        "plt.xlabel('Epochs')\n",
        "plt.legend()\n",
        "plt.grid()\n",
        "plt.show()"
      ]
    },
    {
      "cell_type": "code",
      "execution_count": 45,
      "metadata": {
        "colab": {
          "base_uri": "https://localhost:8080/"
        },
        "id": "oJ8Z5g7-HeFB",
        "outputId": "af60921b-d90f-44df-d858-b90a33f1d032"
      },
      "outputs": [
        {
          "output_type": "execute_result",
          "data": {
            "text/plain": [
              "array([[0.02851755, 0.0283477 , 0.02832631, ..., 0.02835034, 0.02803926,\n",
              "        0.02868846],\n",
              "       [0.02855161, 0.02834121, 0.02829586, ..., 0.02834176, 0.0280351 ,\n",
              "        0.02865107],\n",
              "       [0.02858627, 0.02830965, 0.02827714, ..., 0.02833771, 0.02801028,\n",
              "        0.02858242],\n",
              "       ...,\n",
              "       [0.02860186, 0.02831016, 0.02825956, ..., 0.02834781, 0.02800841,\n",
              "        0.02855099],\n",
              "       [0.02856934, 0.02833284, 0.02829297, ..., 0.028352  , 0.02800471,\n",
              "        0.02863762],\n",
              "       [0.02854634, 0.02833407, 0.02831766, ..., 0.02835632, 0.02800217,\n",
              "        0.02866449]], dtype=float32)"
            ]
          },
          "metadata": {},
          "execution_count": 45
        }
      ],
      "source": [
        "# speed\n",
        "# predicting on test data\n",
        "prediction_speed = model_s.predict(test_features)\n",
        "prediction_speed"
      ]
    },
    {
      "cell_type": "code",
      "execution_count": 46,
      "metadata": {
        "colab": {
          "base_uri": "https://localhost:8080/"
        },
        "id": "1Rv1ZWBmUU_i",
        "outputId": "876f13c7-93b7-4c04-cb09-8c44f0d89106"
      },
      "outputs": [
        {
          "output_type": "execute_result",
          "data": {
            "text/plain": [
              "array([[ 0.005162  , -0.00248262,  0.00960974, ..., -0.01111064,\n",
              "         0.00360997,  0.00242366],\n",
              "       [ 0.00118655,  0.00430782,  0.00452456, ..., -0.00781273,\n",
              "         0.0002237 , -0.00430086],\n",
              "       [-0.00871506, -0.01749672, -0.01225893, ...,  0.02375588,\n",
              "         0.01782695,  0.00744533],\n",
              "       ...,\n",
              "       [ 0.01231477,  0.00479361,  0.0172331 , ..., -0.02912738,\n",
              "         0.00335099, -0.00338329],\n",
              "       [ 0.00660479,  0.00293546,  0.00738053, ..., -0.01341489,\n",
              "        -0.00201675, -0.00108767],\n",
              "       [-0.00730263,  0.01354422, -0.00379188, ...,  0.00175448,\n",
              "        -0.00058872, -0.009561  ]], dtype=float32)"
            ]
          },
          "metadata": {},
          "execution_count": 46
        }
      ],
      "source": [
        "# position\n",
        "# predicting on test data\n",
        "prediction_pos = model_p.predict(test_features_pos)\n",
        "prediction_pos"
      ]
    },
    {
      "cell_type": "code",
      "execution_count": 47,
      "metadata": {
        "id": "xiUYTMwcP0qD"
      },
      "outputs": [],
      "source": [
        "# speed\n",
        "cols_s=df_speed.columns\n",
        "cols_s=list(cols_s)"
      ]
    },
    {
      "cell_type": "code",
      "execution_count": 48,
      "metadata": {
        "id": "NmBk-RDGH8L9"
      },
      "outputs": [],
      "source": [
        "# position\n",
        "cols_p=df_pos.columns\n",
        "cols_p=list(cols_p)"
      ]
    },
    {
      "cell_type": "code",
      "execution_count": 49,
      "metadata": {
        "colab": {
          "base_uri": "https://localhost:8080/",
          "height": 609
        },
        "id": "pvupWujoSX_R",
        "outputId": "0e67b6bb-37fe-4f6e-ab16-73051610a4ec"
      },
      "outputs": [
        {
          "output_type": "execute_result",
          "data": {
            "text/plain": [
              "<matplotlib.legend.Legend at 0x7f188554e590>"
            ]
          },
          "metadata": {},
          "execution_count": 49
        },
        {
          "output_type": "display_data",
          "data": {
            "image/png": "[encoded data removed]",
            "text/plain": [
              "<Figure size 1080x720 with 1 Axes>"
            ]
          },
          "metadata": {
            "needs_background": "light"
          }
        }
      ],
      "source": [
        "# speed graph with test labels\n",
        "plt.figure(figsize=(15,10))\n",
        "plt.plot(test_labels[0, :17], label='Actual Position');\n",
        "plt.plot(prediction_speed[0, :17], label='Predicted Position');\n",
        "plt.legend()"
      ]
    },
    {
      "cell_type": "code",
      "execution_count": 50,
      "metadata": {
        "id": "7NmNfp_ITLHH"
      },
      "outputs": [],
      "source": [
        "model_s.save('speed_lstm_updated.h5')"
      ]
    },
    {
      "cell_type": "code",
      "execution_count": 51,
      "metadata": {
        "colab": {
          "base_uri": "https://localhost:8080/",
          "height": 609
        },
        "id": "6flWW6fNMKeu",
        "outputId": "2986da43-3f18-4f91-866a-f831e7657b4c"
      },
      "outputs": [
        {
          "output_type": "execute_result",
          "data": {
            "text/plain": [
              "<matplotlib.legend.Legend at 0x7f187edd0a50>"
            ]
          },
          "metadata": {},
          "execution_count": 51
        },
        {
          "output_type": "display_data",
          "data": {
            "image/png": "[encoded data removed]",
            "text/plain": [
              "<Figure size 1080x720 with 1 Axes>"
            ]
          },
          "metadata": {
            "needs_background": "light"
          }
        }
      ],
      "source": [
        "# position graph with test labels\n",
        "plt.figure(figsize=(15,10))\n",
        "plt.plot(test_labels_pos[0, :17], label='Actual Position');\n",
        "plt.plot(prediction_pos[0, :17], label='Predicted Position');\n",
        "plt.legend()"
      ]
    },
    {
      "cell_type": "code",
      "execution_count": 52,
      "metadata": {
        "id": "60C6-gSFQ0VU"
      },
      "outputs": [],
      "source": [
        "model_p.save('position_lstm_updated.h5')"
      ]
    },
    {
      "cell_type": "code",
      "execution_count": 53,
      "metadata": {
        "id": "WOIPN7NEWwqX",
        "colab": {
          "base_uri": "https://localhost:8080/"
        },
        "outputId": "67d68d02-c6b0-43d4-a9a8-c36c047a8b5a"
      },
      "outputs": [
        {
          "output_type": "execute_result",
          "data": {
            "text/plain": [
              "(268, 17)"
            ]
          },
          "metadata": {},
          "execution_count": 53
        }
      ],
      "source": [
        "prediction_pos.shape"
      ]
    },
    {
      "cell_type": "code",
      "execution_count": 54,
      "metadata": {
        "colab": {
          "base_uri": "https://localhost:8080/"
        },
        "id": "rQSGC_dTCrVb",
        "outputId": "5074f363-7180-4db8-f1a9-a8805ce203c0"
      },
      "outputs": [
        {
          "output_type": "execute_result",
          "data": {
            "text/plain": [
              "(268, 2, 17)"
            ]
          },
          "metadata": {},
          "execution_count": 54
        }
      ],
      "source": [
        "test_features_pos.shape"
      ]
    },
    {
      "cell_type": "code",
      "execution_count": 55,
      "metadata": {
        "colab": {
          "base_uri": "https://localhost:8080/"
        },
        "id": "l_acNLkdCrVb",
        "outputId": "b35e8e5c-cc7d-4f24-d0d0-63fb873dd0b2"
      },
      "outputs": [
        {
          "output_type": "execute_result",
          "data": {
            "text/plain": [
              "(268, 17)"
            ]
          },
          "metadata": {},
          "execution_count": 55
        }
      ],
      "source": [
        "test_labels_pos.shape"
      ]
    },
    {
      "cell_type": "code",
      "execution_count": null,
      "metadata": {
        "id": "dD3BDQM9CrVc"
      },
      "outputs": [],
      "source": [
        "for i in range(17):\n",
        "    plt.plot(prediction_pos[:, i], label=f'Predicted pos {i}')\n",
        "    plt.plot(test_labels_pos[:, i], label=f'Actual pos {i}')\n",
        "    plt.legend()\n",
        "    plt.show()"
      ]
    },
    {
      "cell_type": "code",
      "execution_count": null,
      "metadata": {
        "id": "1BmIBUCvCrVd"
      },
      "outputs": [],
      "source": [
        "for i in range(17):\n",
        "    plt.plot(prediction_speed[:20, i], label=f'Predicted speed {i}')\n",
        "    plt.plot(test_labels[:20, i], label=f'Actual speed {i}')\n",
        "    plt.legend()\n",
        "    plt.show()"
      ]
    },
    {
      "cell_type": "code",
      "execution_count": 58,
      "metadata": {
        "id": "fpXieL1BCrVd"
      },
      "outputs": [],
      "source": [
        "# speed\n",
        "import tensorflow as tf\n",
        "loss = tf.keras.losses.mean_absolute_error(test_labels, prediction_speed)"
      ]
    },
    {
      "cell_type": "code",
      "execution_count": null,
      "metadata": {
        "id": "uu1hp5gyCrVe"
      },
      "outputs": [],
      "source": [
        "loss"
      ]
    },
    {
      "cell_type": "code",
      "execution_count": 60,
      "metadata": {
        "colab": {
          "base_uri": "https://localhost:8080/"
        },
        "id": "f-PLsTmfCrVe",
        "outputId": "e8069c93-4be6-4c91-fcb5-e7f83dc7d862"
      },
      "outputs": [
        {
          "output_type": "execute_result",
          "data": {
            "text/plain": [
              "<tf.Tensor: shape=(), dtype=float32, numpy=0.001977768>"
            ]
          },
          "metadata": {},
          "execution_count": 60
        }
      ],
      "source": [
        "max(loss)"
      ]
    },
    {
      "cell_type": "code",
      "execution_count": 61,
      "metadata": {
        "colab": {
          "base_uri": "https://localhost:8080/",
          "height": 265
        },
        "id": "v0K-RTpnCrVf",
        "outputId": "0f05831b-087d-449e-9856-471e32e11087"
      },
      "outputs": [
        {
          "output_type": "display_data",
          "data": {
            "image/png": "[encoded data removed]",
            "text/plain": [
              "<Figure size 432x288 with 1 Axes>"
            ]
          },
          "metadata": {
            "needs_background": "light"
          }
        }
      ],
      "source": [
        "i=1\n",
        "plt.plot(prediction_speed[:20, i], label=f'Predicted speed {i}')\n",
        "plt.plot(test_labels[:20, i], label=f'Actual speed {i}')\n",
        "ax = plt.gca()\n",
        "# ax.set_ylim([0.18, 0.19])\n",
        "plt.legend()\n",
        "plt.show()\n",
        "\n",
        "\n",
        "# ax = plt.gca()\n",
        "# ax.set_xlim([xmin, xmax])\n"
      ]
    },
    {
      "cell_type": "code",
      "execution_count": 73,
      "metadata": {
        "colab": {
          "base_uri": "https://localhost:8080/",
          "height": 265
        },
        "id": "foFY98B7CrVg",
        "outputId": "ba14c83e-c60c-40bd-c3cb-749929f52dba"
      },
      "outputs": [
        {
          "output_type": "display_data",
          "data": {
            "image/png": "[encoded data removed]",
            "text/plain": [
              "<Figure size 432x288 with 1 Axes>"
            ]
          },
          "metadata": {
            "needs_background": "light"
          }
        }
      ],
      "source": [
        ""
      ]
    },
    {
      "cell_type": "code",
      "execution_count": 75,
      "metadata": {
        "colab": {
          "base_uri": "https://localhost:8080/",
          "height": 282
        },
        "id": "IS6V8vd8CrVg",
        "outputId": "5de85521-3a76-4117-c3d9-8e0fcbdb9aa7"
      },
      "outputs": [
        {
          "output_type": "execute_result",
          "data": {
            "text/plain": [
              "<matplotlib.legend.Legend at 0x7f18803bdbd0>"
            ]
          },
          "metadata": {},
          "execution_count": 75
        },
        {
          "output_type": "display_data",
          "data": {
            "image/png": "[encoded data removed]",
            "text/plain": [
              "<Figure size 432x288 with 1 Axes>"
            ]
          },
          "metadata": {
            "needs_background": "light"
          }
        }
      ],
      "source": [
        "plt.plot(prediction_pos[0, :17], label='Actual Position');\n",
        "plt.plot(test_labels_pos[0, :17], label='Predicted Position');\n",
        "plt.legend()"
      ]
    },
    {
      "cell_type": "code",
      "execution_count": 61,
      "metadata": {
        "id": "eYJ6qULtCrVg"
      },
      "outputs": [],
      "source": [
        ""
      ]
    },
    {
      "cell_type": "code",
      "execution_count": 61,
      "metadata": {
        "id": "OJ7yFA5yCrVh"
      },
      "outputs": [],
      "source": [
        ""
      ]
    },
    {
      "cell_type": "code",
      "execution_count": 61,
      "metadata": {
        "id": "Li5gwqw5CrVh"
      },
      "outputs": [],
      "source": [
        ""
      ]
    }
  ],
  "metadata": {
    "colab": {
      "name": "speed_position_prediction_lstm.ipynb",
      "provenance": []
    },
    "kernelspec": {
      "display_name": "Python 3 (ipykernel)",
      "language": "python",
      "name": "python3"
    },
    "language_info": {
      "codemirror_mode": {
        "name": "ipython",
        "version": 3
      },
      "file_extension": ".py",
      "mimetype": "text/x-python",
      "name": "python",
      "nbconvert_exporter": "python",
      "pygments_lexer": "ipython3",
      "version": "3.8.10"
    }
  },
  "nbformat": 4,
  "nbformat_minor": 0
}